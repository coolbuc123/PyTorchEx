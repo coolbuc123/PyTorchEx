{
 "cells": [
  {
   "cell_type": "markdown",
   "id": "joined-radical",
   "metadata": {},
   "source": [
    "### CNN_mnist"
   ]
  },
  {
   "cell_type": "markdown",
   "id": "joined-beads",
   "metadata": {},
   "source": [
    "### Import"
   ]
  },
  {
   "cell_type": "code",
   "execution_count": 1,
   "id": "soviet-america",
   "metadata": {},
   "outputs": [],
   "source": [
    "import torch\n",
    "import torch.nn as nn\n",
    "import torchvision.datasets as dsets\n",
    "import torchvision.transforms as transforms\n",
    "\n",
    "import torch.nn.init"
   ]
  },
  {
   "cell_type": "code",
   "execution_count": 2,
   "id": "protecting-husband",
   "metadata": {},
   "outputs": [
    {
     "name": "stdout",
     "output_type": "stream",
     "text": [
      "True → cuda\n"
     ]
    }
   ],
   "source": [
    "### GPU설정 / ramdom seed설정\n",
    "device = 'cuda' if torch.cuda.is_available() else 'cpu'\n",
    "print(torch.cuda.is_available(), \"→\", device)\n",
    "\n",
    "### seed \n",
    "torch.manual_seed(777)\n",
    "if device == 'cuda':\n",
    "    torch.cuda.manual_seed_all(777)"
   ]
  },
  {
   "cell_type": "markdown",
   "id": "beautiful-spending",
   "metadata": {},
   "source": [
    "### Parameter"
   ]
  },
  {
   "cell_type": "code",
   "execution_count": 3,
   "id": "equipped-facing",
   "metadata": {},
   "outputs": [],
   "source": [
    "# parameter\n",
    "learning_rate = 0.001\n",
    "training_epochs = 15\n",
    "batch_size = 100"
   ]
  },
  {
   "cell_type": "markdown",
   "id": "broken-capital",
   "metadata": {},
   "source": [
    "### Dataset"
   ]
  },
  {
   "cell_type": "code",
   "execution_count": 4,
   "id": "different-lending",
   "metadata": {},
   "outputs": [
    {
     "name": "stdout",
     "output_type": "stream",
     "text": [
      "데이터 타입:  torchvision.datasets.mnist.MNIST\n",
      "훈련데이터: torch.Size([60000, 28, 28])\n",
      "테스트데이터: torch.Size([10000, 28, 28])\n",
      "라벨 예시 :  tensor([7, 2, 1,  ..., 4, 5, 6])\n"
     ]
    },
    {
     "name": "stderr",
     "output_type": "stream",
     "text": [
      "/home/adminuser/.local/lib/python3.6/site-packages/torchvision/datasets/mnist.py:64: UserWarning: train_data has been renamed data\n",
      "  warnings.warn(\"train_data has been renamed data\")\n",
      "/home/adminuser/.local/lib/python3.6/site-packages/torchvision/datasets/mnist.py:69: UserWarning: test_data has been renamed data\n",
      "  warnings.warn(\"test_data has been renamed data\")\n",
      "/home/adminuser/.local/lib/python3.6/site-packages/torchvision/datasets/mnist.py:59: UserWarning: test_labels has been renamed targets\n",
      "  warnings.warn(\"test_labels has been renamed targets\")\n"
     ]
    }
   ],
   "source": [
    "mnist_train = dsets.MNIST(root='MNIST_data/',\n",
    "                          train = True,\n",
    "                          transform=transforms.ToTensor(), # 텐서값으로 변환\n",
    "                          download=True ) # 다운로드\n",
    "\n",
    "mnist_test = dsets.MNIST(root='MNIST_data/',\n",
    "                          train = False, # 테스트 셋\n",
    "                          transform=transforms.ToTensor(), # 텐서값으로 변환\n",
    "                          download=True ) # 다운로드\n",
    "\n",
    "print(\"데이터 타입: \", type(mnist_train))\n",
    "print(\"훈련데이터:\", mnist_train.train_data.shape)\n",
    "print(\"테스트데이터:\", mnist_test.test_data.shape)\n",
    "print(\"라벨 예시 : \", mnist_test.test_labels)"
   ]
  },
  {
   "cell_type": "markdown",
   "id": "academic-cornwall",
   "metadata": {},
   "source": [
    "### 이미지 Sample 확인"
   ]
  },
  {
   "cell_type": "code",
   "execution_count": 5,
   "id": "alternate-spoke",
   "metadata": {},
   "outputs": [],
   "source": [
    "import matplotlib.pyplot as plt"
   ]
  },
  {
   "cell_type": "code",
   "execution_count": null,
   "id": "first-qualification",
   "metadata": {},
   "outputs": [],
   "source": [
    "sample = mnist_train.train_data[0]\n",
    "\n",
    "print(\"이미지 크기 : \", sample.shape)\n",
    "print(\"라벨 : \", mnist_train.train_labels[0])\n",
    "plt.imshow(sample)"
   ]
  },
  {
   "cell_type": "markdown",
   "id": "sitting-report",
   "metadata": {},
   "source": [
    "### Data Loader"
   ]
  },
  {
   "cell_type": "code",
   "execution_count": 7,
   "id": "documentary-screening",
   "metadata": {
    "tags": []
   },
   "outputs": [],
   "source": [
    "data_loader = torch.utils.data.DataLoader(dataset=mnist_train,\n",
    "                                          batch_size=batch_size,\n",
    "                                          shuffle=True,\n",
    "                                          drop_last=True)"
   ]
  },
  {
   "cell_type": "code",
   "execution_count": 16,
   "id": "accessory-raise",
   "metadata": {},
   "outputs": [
    {
     "name": "stdout",
     "output_type": "stream",
     "text": [
      "0\n",
      "torch.Size([100, 1, 28, 28])\n"
     ]
    }
   ],
   "source": [
    "for i, d in enumerate(data_loader):\n",
    "    print(i)\n",
    "    print(d[0].shape)    \n",
    "    \n",
    "    if i == 0:\n",
    "        break"
   ]
  },
  {
   "cell_type": "markdown",
   "id": "delayed-brand",
   "metadata": {},
   "source": [
    "### 학습모델 만들기 / 네트워크 구성"
   ]
  },
  {
   "cell_type": "code",
   "execution_count": 17,
   "id": "descending-rugby",
   "metadata": {},
   "outputs": [],
   "source": [
    "# CNN Model (2 conv layers)\n",
    "class CNN(torch.nn.Module):\n",
    "\n",
    "    def __init__(self):\n",
    "        super(CNN, self).__init__()                                                                               #(b,   1, 28, 28) input\n",
    "\n",
    "        self.layer1 = torch.nn.Sequential(\n",
    "            torch.nn.Conv2d(1, 32, kernel_size=3, stride=1, padding=1),            #(b,  32, 28, 28) conv2d\n",
    "            torch.nn.ReLU(),\n",
    "            torch.nn.MaxPool2d(kernel_size=2, stride=2))                                      #(b,  32, 14, 14) pool\n",
    "\n",
    "        self.layer2 = torch.nn.Sequential(\n",
    "            torch.nn.Conv2d(32, 64, kernel_size=3, stride=1, padding=1),         #(b,  64, 14, 14) conv2d\n",
    "            torch.nn.ReLU(),\n",
    "            torch.nn.MaxPool2d(kernel_size=2, stride=2))                                     #(b,  64,  7,    7) pool\n",
    "\n",
    "        self.fc = torch.nn.Linear(64*7*7, 10, bias=True)\n",
    "        torch.nn.init.xavier_uniform_(self.fc.weight)\n",
    "\n",
    "    def forward(self, x):\n",
    "        out = self.layer1(x)\n",
    "        out = self.layer2(out)\n",
    "        out = out.view(out.size(0), -1)   # Flatten them for FC\n",
    "        out = self.fc(out)\n",
    "        return out\n",
    "    \n",
    "## ★ data size test\n",
    "# value = torch.Tensor(1,1,28,28).to(device)\n",
    "# model = CNN2().to(device)\n",
    "# model(value).shape    "
   ]
  },
  {
   "cell_type": "code",
   "execution_count": 18,
   "id": "wicked-receipt",
   "metadata": {},
   "outputs": [
    {
     "data": {
      "text/plain": [
       "CNN(\n",
       "  (layer1): Sequential(\n",
       "    (0): Conv2d(1, 32, kernel_size=(3, 3), stride=(1, 1), padding=(1, 1))\n",
       "    (1): ReLU()\n",
       "    (2): MaxPool2d(kernel_size=2, stride=2, padding=0, dilation=1, ceil_mode=False)\n",
       "  )\n",
       "  (layer2): Sequential(\n",
       "    (0): Conv2d(32, 64, kernel_size=(3, 3), stride=(1, 1), padding=(1, 1))\n",
       "    (1): ReLU()\n",
       "    (2): MaxPool2d(kernel_size=2, stride=2, padding=0, dilation=1, ceil_mode=False)\n",
       "  )\n",
       "  (fc): Linear(in_features=3136, out_features=10, bias=True)\n",
       ")"
      ]
     },
     "execution_count": 18,
     "metadata": {},
     "output_type": "execute_result"
    }
   ],
   "source": [
    "model = CNN().to(device)\n",
    "model"
   ]
  },
  {
   "cell_type": "markdown",
   "id": "bright-truth",
   "metadata": {},
   "source": [
    "### Train"
   ]
  },
  {
   "cell_type": "code",
   "execution_count": 19,
   "id": "exact-minnesota",
   "metadata": {},
   "outputs": [
    {
     "name": "stdout",
     "output_type": "stream",
     "text": [
      "[Epoch:1] cost = 0.21948380768299103\n",
      "[Epoch:2] cost = 0.0625128224492073\n",
      "[Epoch:3] cost = 0.046239085495471954\n",
      "[Epoch:4] cost = 0.037808239459991455\n",
      "[Epoch:5] cost = 0.031231608241796494\n",
      "[Epoch:6] cost = 0.026752160862088203\n",
      "[Epoch:7] cost = 0.0233000461012125\n",
      "[Epoch:8] cost = 0.019714782014489174\n",
      "[Epoch:9] cost = 0.01749822497367859\n",
      "[Epoch:10] cost = 0.014702262356877327\n",
      "[Epoch:11] cost = 0.012309661135077477\n",
      "[Epoch:12] cost = 0.009976649656891823\n",
      "[Epoch:13] cost = 0.009358564391732216\n",
      "[Epoch:14] cost = 0.008076230995357037\n",
      "[Epoch:15] cost = 0.007985676638782024\n",
      "Learning Finished!\n"
     ]
    }
   ],
   "source": [
    "# define cost/loss & optimizer\n",
    "criterion = torch.nn.CrossEntropyLoss().to(device)    # Softmax is internally computed.\n",
    "optimizer = torch.optim.Adam(model.parameters(), lr=learning_rate)\n",
    "\n",
    "total_batch = len(data_loader)\n",
    "\n",
    "for epoch in range(training_epochs):\n",
    "    avg_cost = 0\n",
    "    \n",
    "    for X, Y in data_loader: # X : 이미지, Y:  라벨\n",
    "        X = X.to(device)\n",
    "        Y = Y.to(device)\n",
    "        \n",
    "        optimizer.zero_grad()\n",
    "        hypothesis = model(X)\n",
    "        \n",
    "        cost = criterion(hypothesis, Y)     \n",
    "\n",
    "        cost.backward()\n",
    "        optimizer.step()\n",
    "\n",
    "        avg_cost += cost / total_batch\n",
    "\n",
    "    print('[Epoch:{}] cost = {}'.format(epoch+1, avg_cost))        \n",
    "print('Learning Finished!')"
   ]
  },
  {
   "cell_type": "markdown",
   "id": "southwest-navigation",
   "metadata": {},
   "source": [
    "### Test"
   ]
  },
  {
   "cell_type": "code",
   "execution_count": 20,
   "id": "derived-catch",
   "metadata": {},
   "outputs": [
    {
     "name": "stdout",
     "output_type": "stream",
     "text": [
      "Accuracy: 0.983299970626831\n"
     ]
    },
    {
     "name": "stderr",
     "output_type": "stream",
     "text": [
      "/home/adminuser/.local/lib/python3.6/site-packages/torchvision/datasets/mnist.py:69: UserWarning: test_data has been renamed data\n",
      "  warnings.warn(\"test_data has been renamed data\")\n",
      "/home/adminuser/.local/lib/python3.6/site-packages/torchvision/datasets/mnist.py:59: UserWarning: test_labels has been renamed targets\n",
      "  warnings.warn(\"test_labels has been renamed targets\")\n"
     ]
    }
   ],
   "source": [
    "with torch.no_grad():\n",
    "    X_test = mnist_test.test_data.view(len(mnist_test),1,28,28).float().to(device)\n",
    "    Y_test = mnist_test.test_labels.to(device)\n",
    "    \n",
    "    prediction = model(X_test)\n",
    "    correct_prediction = torch.argmax(prediction, 1) == Y_test\n",
    "    accuracy = correct_prediction.float().mean()\n",
    "    print('Accuracy:', accuracy.item())"
   ]
  },
  {
   "cell_type": "markdown",
   "id": "standard-auditor",
   "metadata": {},
   "source": [
    "### 더 깊은 모델"
   ]
  },
  {
   "cell_type": "code",
   "execution_count": null,
   "id": "effective-indian",
   "metadata": {},
   "outputs": [],
   "source": [
    "# CNN Model (2 conv layers)\n",
    "class CNN2(torch.nn.Module):\n",
    "\n",
    "    def __init__(self):\n",
    "        super(CNN2, self).__init__()\n",
    "                                                                                                                               #(b,   1, 28, 28) input\n",
    "        self.layer1 = torch.nn.Sequential( \n",
    "            torch.nn.Conv2d(1, 32, kernel_size=3, stride=1, padding=1),      #(b, 32, 28, 28) conv2d\n",
    "            torch.nn.ReLU(),\n",
    "            torch.nn.MaxPool2d(kernel_size=2, stride=2))                                #(b, 32, 14,14) pool\n",
    "\n",
    "        self.layer2 = torch.nn.Sequential(\n",
    "            torch.nn.Conv2d(32, 64, kernel_size=3, stride=1, padding=1),   #(b, 64, 14, 14) conv2d \n",
    "            torch.nn.ReLU(),\n",
    "            torch.nn.MaxPool2d(kernel_size=2, stride=2))                                #(b, 64,  7,   7) pool\n",
    "\n",
    "        self.layer3 = torch.nn.Sequential(\n",
    "            torch.nn.Conv2d(64, 128, kernel_size=3, stride=1, padding=1), #(b,128, 7,  7) conv2d \n",
    "            torch.nn.ReLU(),\n",
    "            torch.nn.MaxPool2d(kernel_size=2, stride=2))                                #(b,128, 3,  3) conv2d \n",
    "\n",
    "        self.fc1 = torch.nn.Linear(128*3*3, 625, bias=True)\n",
    "        self.relu = nn.ReLU()\n",
    "        self.fc2 = torch.nn.Linear(625, 10, bias=True)\n",
    "        torch.nn.init.xavier_uniform_(self.fc1.weight)\n",
    "        torch.nn.init.xavier_uniform_(self.fc2.weight)\n",
    "\n",
    "    def forward(self, x):\n",
    "        out = self.layer1(x)\n",
    "        out = self.layer2(out)\n",
    "        out = self.layer3(out)\n",
    "        \n",
    "        out = out.view(out.size(0), -1)   # Flatten them for FC\n",
    "\n",
    "        out = self.fc1(out)\n",
    "        out = self.relu(out)\n",
    "        out = self.fc2(out)\n",
    "        return out\n",
    "\n",
    "    \n",
    "## ★ data size test\n",
    "# value = torch.Tensor(1,1,28,28).to(device)\n",
    "# model = CNN2().to(device)\n",
    "# model(value).shape"
   ]
  },
  {
   "cell_type": "code",
   "execution_count": null,
   "id": "filled-gabriel",
   "metadata": {},
   "outputs": [],
   "source": [
    "model = CNN2().to(device)\n",
    "model"
   ]
  },
  {
   "cell_type": "code",
   "execution_count": null,
   "id": "ready-index",
   "metadata": {},
   "outputs": [],
   "source": [
    "# define cost/loss & optimizer\n",
    "criterion = torch.nn.CrossEntropyLoss().to(device)    # Softmax is internally computed.\n",
    "optimizer = torch.optim.Adam(model.parameters(), lr=learning_rate)\n",
    "\n",
    "total_batch = len(data_loader)\n",
    "\n",
    "for epoch in range(training_epochs):\n",
    "    avg_cost = 0\n",
    "    \n",
    "    for X, Y in data_loader: # X : 이미지, Y:  라벨\n",
    "        X = X.to(device)\n",
    "        Y = Y.to(device)\n",
    "        \n",
    "        optimizer.zero_grad()\n",
    "        hypothesis = model(X)\n",
    "        cost = criterion(hypothesis, Y)     \n",
    "\n",
    "        cost.backward()\n",
    "        optimizer.step()\n",
    "\n",
    "        avg_cost += cost / total_batch\n",
    "\n",
    "    print('[Epoch:{}] cost = {}'.format(epoch+1, avg_cost))        \n",
    "print('Learning Finished!')"
   ]
  },
  {
   "cell_type": "code",
   "execution_count": null,
   "id": "strategic-korea",
   "metadata": {},
   "outputs": [],
   "source": [
    "with torch.no_grad():\n",
    "    X_test = mnist_test.test_data.view(len(mnist_test),1,28,28).float().to(device)\n",
    "    Y_test = mnist_test.test_labels.to(device)\n",
    "    \n",
    "    prediction = model(X_test)\n",
    "    correct_prediction = torch.argmax(prediction, 1) == Y_test\n",
    "    accuracy = correct_prediction.float().mean()\n",
    "    print('Accuracy:', accuracy.item())"
   ]
  }
 ],
 "metadata": {
  "kernelspec": {
   "display_name": "Python My Env",
   "language": "python",
   "name": "python-my-env"
  },
  "language_info": {
   "codemirror_mode": {
    "name": "ipython",
    "version": 3
   },
   "file_extension": ".py",
   "mimetype": "text/x-python",
   "name": "python",
   "nbconvert_exporter": "python",
   "pygments_lexer": "ipython3",
   "version": "3.6.13"
  },
  "widgets": {
   "application/vnd.jupyter.widget-state+json": {
    "state": {},
    "version_major": 2,
    "version_minor": 0
   }
  }
 },
 "nbformat": 4,
 "nbformat_minor": 5
}
