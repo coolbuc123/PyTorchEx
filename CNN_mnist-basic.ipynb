{
 "cells": [
  {
   "cell_type": "markdown",
   "id": "supposed-dialogue",
   "metadata": {},
   "source": [
    "### CNN_mnist"
   ]
  },
  {
   "cell_type": "markdown",
   "id": "circular-moore",
   "metadata": {},
   "source": [
    "### Import"
   ]
  },
  {
   "cell_type": "code",
   "execution_count": 11,
   "id": "advance-pointer",
   "metadata": {},
   "outputs": [],
   "source": [
    "import torch\n",
    "import torch.nn as nn\n",
    "import torchvision.datasets as dsets\n",
    "import torchvision.transforms as transforms\n",
    "\n",
    "import torch.nn.init\n",
    "\n",
    "import matplotlib.pyplot as plt\n",
    "import warnings\n",
    "warnings.filterwarnings('ignore')"
   ]
  },
  {
   "cell_type": "code",
   "execution_count": 12,
   "id": "neutral-fiction",
   "metadata": {},
   "outputs": [
    {
     "name": "stdout",
     "output_type": "stream",
     "text": [
      "True → cuda\n"
     ]
    }
   ],
   "source": [
    "### GPU설정 / ramdom seed설정\n",
    "device = 'cuda' if torch.cuda.is_available() else 'cpu'\n",
    "print(torch.cuda.is_available(), \"→\", device)\n",
    "\n",
    "### seed \n",
    "torch.manual_seed(777)\n",
    "if device == 'cuda':\n",
    "    torch.cuda.manual_seed_all(777)"
   ]
  },
  {
   "cell_type": "markdown",
   "id": "improved-broadcast",
   "metadata": {},
   "source": [
    "### Parameter"
   ]
  },
  {
   "cell_type": "code",
   "execution_count": 22,
   "id": "stopped-newsletter",
   "metadata": {},
   "outputs": [],
   "source": [
    "# parameter\n",
    "learning_rate = 0.001\n",
    "training_epochs = 10\n",
    "batch_size = 100"
   ]
  },
  {
   "cell_type": "markdown",
   "id": "finite-burning",
   "metadata": {},
   "source": [
    "### Download Dataset"
   ]
  },
  {
   "cell_type": "code",
   "execution_count": 23,
   "id": "funny-arrival",
   "metadata": {},
   "outputs": [],
   "source": [
    "mnist_train = dsets.MNIST(root='MNIST_data/',\n",
    "                          train = True,\n",
    "                          transform=transforms.ToTensor(), # 텐서값으로 변환\n",
    "                          download=True ) # 다운로드\n",
    "\n",
    "mnist_test = dsets.MNIST(root='MNIST_data/',\n",
    "                          train = False, # 테스트 셋\n",
    "                          transform=transforms.ToTensor(), # 텐서값으로 변환\n",
    "                          download=True ) # 다운로드"
   ]
  },
  {
   "cell_type": "markdown",
   "id": "metallic-loading",
   "metadata": {},
   "source": [
    "### 데이터 정보 & 샘플 확인"
   ]
  },
  {
   "cell_type": "code",
   "execution_count": 24,
   "id": "directed-classic",
   "metadata": {},
   "outputs": [
    {
     "name": "stdout",
     "output_type": "stream",
     "text": [
      "데이터 타입:  torchvision.datasets.mnist.MNIST\n",
      "훈련데이터: torch.Size([60000, 28, 28])\n",
      "테스트데이터: torch.Size([10000, 28, 28])\n",
      "라벨 예시 :  tensor([7, 2, 1,  ..., 4, 5, 6])\n"
     ]
    }
   ],
   "source": [
    "print(\"데이터 타입: \", type(mnist_train))\n",
    "print(\"훈련데이터:\", mnist_train.train_data.shape)\n",
    "print(\"테스트데이터:\", mnist_test.test_data.shape)\n",
    "print(\"라벨 예시 : \", mnist_test.test_labels)"
   ]
  },
  {
   "cell_type": "code",
   "execution_count": 34,
   "id": "different-rider",
   "metadata": {},
   "outputs": [
    {
     "name": "stdout",
     "output_type": "stream",
     "text": [
      "이미지 크기 :  torch.Size([28, 28])\n",
      "라벨 :  tensor(5)\n"
     ]
    },
    {
     "data": {
      "text/plain": [
       "<matplotlib.image.AxesImage at 0x7fb09b782630>"
      ]
     },
     "execution_count": 34,
     "metadata": {},
     "output_type": "execute_result"
    },
    {
     "data": {
      "image/png": "[encoded data removed]",
      "text/plain": [
       "<Figure size 144x144 with 1 Axes>"
      ]
     },
     "metadata": {
      "needs_background": "light"
     },
     "output_type": "display_data"
    }
   ],
   "source": [
    "sample = mnist_train.train_data[0]\n",
    "\n",
    "print(\"이미지 크기 : \", sample.shape)\n",
    "print(\"라벨 : \", mnist_train.train_labels[0])\n",
    "plt.figure(figsize=(2,2))\n",
    "plt.imshow(sample)"
   ]
  },
  {
   "cell_type": "markdown",
   "id": "physical-prescription",
   "metadata": {},
   "source": [
    "### Data Loader 활용"
   ]
  },
  {
   "cell_type": "code",
   "execution_count": 26,
   "id": "innocent-adventure",
   "metadata": {
    "tags": []
   },
   "outputs": [],
   "source": [
    "data_loader = torch.utils.data.DataLoader(dataset=mnist_train,\n",
    "                                          batch_size=batch_size,\n",
    "                                          shuffle=True,\n",
    "                                          drop_last=True)"
   ]
  },
  {
   "cell_type": "markdown",
   "id": "flush-disability",
   "metadata": {},
   "source": [
    "### 네트워크 모델 Class 구성"
   ]
  },
  {
   "cell_type": "code",
   "execution_count": 54,
   "id": "norman-printing",
   "metadata": {},
   "outputs": [],
   "source": [
    "# CNN Model (2 conv layers)\n",
    "class CNN(torch.nn.Module):\n",
    "\n",
    "    def __init__(self):\n",
    "        super(CNN, self).__init__()                                                                               #(b,   1, 28, 28) input\n",
    "\n",
    "        self.conv_layer1 = torch.nn.Sequential(                                                       #      [32] 채널→필터의 갯수→32개 특징 Feature Map 생성\n",
    "            torch.nn.Conv2d(1, 32, kernel_size=3, stride=1, padding=1),            #(b,  32, 28, 28) conv2d   \n",
    "            torch.nn.ReLU(),                                                                                           \n",
    "            torch.nn.MaxPool2d(kernel_size=2, stride=2))                                      #(b,  32, 14, 14) pool     \n",
    "\n",
    "        self.conv_layer2 = torch.nn.Sequential(\n",
    "            torch.nn.Conv2d(32, 64, kernel_size=3, stride=1, padding=1),         #(b,  64, 14, 14) conv2d\n",
    "            torch.nn.ReLU(),\n",
    "            torch.nn.MaxPool2d(kernel_size=2, stride=2))                                     #(b,  64,  7,    7) pool\n",
    "\n",
    "        self.fc = torch.nn.Linear(64*7*7, 10, bias=True)                                      # (in, out) → 연산 →  (out)   cf. TF의 Dense Layer \n",
    "        torch.nn.init.xavier_uniform_(self.fc.weight)\n",
    "\n",
    "    def forward(self, x):\n",
    "        out = self.conv_layer1(x)\n",
    "        out = self.conv_layer2(out)\n",
    "        out = out.view(out.size(0), -1)   # Flatten them for FC\n",
    "        out = self.fc(out)\n",
    "        return out"
   ]
  },
  {
   "cell_type": "code",
   "execution_count": 55,
   "id": "athletic-channel",
   "metadata": {},
   "outputs": [
    {
     "data": {
      "text/plain": [
       "CNN(\n",
       "  (conv_layer1): Sequential(\n",
       "    (0): Conv2d(1, 32, kernel_size=(3, 3), stride=(1, 1), padding=(1, 1))\n",
       "    (1): ReLU()\n",
       "    (2): MaxPool2d(kernel_size=2, stride=2, padding=0, dilation=1, ceil_mode=False)\n",
       "  )\n",
       "  (conv_layer2): Sequential(\n",
       "    (0): Conv2d(32, 64, kernel_size=(3, 3), stride=(1, 1), padding=(1, 1))\n",
       "    (1): ReLU()\n",
       "    (2): MaxPool2d(kernel_size=2, stride=2, padding=0, dilation=1, ceil_mode=False)\n",
       "  )\n",
       "  (fc): Linear(in_features=3136, out_features=10, bias=True)\n",
       ")"
      ]
     },
     "execution_count": 55,
     "metadata": {},
     "output_type": "execute_result"
    }
   ],
   "source": [
    "# 모델생성\n",
    "model = CNN().to(device)\n",
    "model"
   ]
  },
  {
   "cell_type": "markdown",
   "id": "gothic-lesbian",
   "metadata": {},
   "source": [
    "### Optimizer , Cost Function"
   ]
  },
  {
   "cell_type": "code",
   "execution_count": 56,
   "id": "modular-authority",
   "metadata": {},
   "outputs": [],
   "source": [
    "# define cost/loss & optimizer\n",
    "criterion = torch.nn.CrossEntropyLoss().to(device)    # Softmax is internally computed.\n",
    "optimizer = torch.optim.Adam(model.parameters(), lr=learning_rate)"
   ]
  },
  {
   "cell_type": "markdown",
   "id": "rotary-necessity",
   "metadata": {},
   "source": [
    "### Train"
   ]
  },
  {
   "cell_type": "code",
   "execution_count": 58,
   "id": "level-bosnia",
   "metadata": {},
   "outputs": [
    {
     "name": "stdout",
     "output_type": "stream",
     "text": [
      "total_batch :  600\n",
      "[Epoch:1] cost = 0.010913464240729809\n",
      "[Epoch:2] cost = 0.009663457982242107\n",
      "[Epoch:3] cost = 0.008434436284005642\n",
      "[Epoch:4] cost = 0.006289784796535969\n",
      "[Epoch:5] cost = 0.006862747948616743\n",
      "[Epoch:6] cost = 0.00502881221473217\n",
      "[Epoch:7] cost = 0.004879379644989967\n",
      "[Epoch:8] cost = 0.0038572067860513926\n",
      "[Epoch:9] cost = 0.0051856799982488155\n",
      "[Epoch:10] cost = 0.003909363877028227\n",
      "Learning Finished!\n",
      "data_loader loop :  599\n"
     ]
    }
   ],
   "source": [
    "total_batch = len(data_loader)\n",
    "print('total_batch : ', total_batch)\n",
    "\n",
    "for epoch in range(training_epochs):\n",
    "    avg_cost = 0\n",
    "    \n",
    "    for i, (X, Y) in enumerate(data_loader): # X : 이미지, Y:  라벨\n",
    "        X = X.to(device)\n",
    "        Y = Y.to(device)\n",
    "        \n",
    "        optimizer.zero_grad()\n",
    "        hypothesis = model(X)\n",
    "        \n",
    "        cost = criterion(hypothesis, Y)     \n",
    "\n",
    "        cost.backward()\n",
    "        optimizer.step()\n",
    "\n",
    "        avg_cost += cost / total_batch\n",
    "    \n",
    "    print('[Epoch:{}] cost = {}'.format(epoch+1, avg_cost))        \n",
    "print('Learning Finished!')\n",
    "print('data_loader loop : ', i)"
   ]
  },
  {
   "cell_type": "markdown",
   "id": "specific-helena",
   "metadata": {},
   "source": [
    "### Test"
   ]
  },
  {
   "cell_type": "code",
   "execution_count": 64,
   "id": "solid-brush",
   "metadata": {},
   "outputs": [
    {
     "name": "stdout",
     "output_type": "stream",
     "text": [
      "torch.Size([10000, 1, 28, 28])\n",
      "Accuracy: 0.9855999946594238\n"
     ]
    }
   ],
   "source": [
    "with torch.no_grad():\n",
    "    X_test = mnist_test.test_data.view(len(mnist_test),1,28,28).float().to(device)\n",
    "    print(X_test.shape)\n",
    "    Y_test = mnist_test.test_labels.to(device)\n",
    "    \n",
    "    prediction = model(X_test)\n",
    "    correct_prediction = torch.argmax(prediction, 1) == Y_test\n",
    "    accuracy = correct_prediction.float().mean()\n",
    "    print('Accuracy:', accuracy.item())"
   ]
  }
 ],
 "metadata": {
  "kernelspec": {
   "display_name": "Python My Env",
   "language": "python",
   "name": "python-my-env"
  },
  "language_info": {
   "codemirror_mode": {
    "name": "ipython",
    "version": 3
   },
   "file_extension": ".py",
   "mimetype": "text/x-python",
   "name": "python",
   "nbconvert_exporter": "python",
   "pygments_lexer": "ipython3",
   "version": "3.6.13"
  },
  "widgets": {
   "application/vnd.jupyter.widget-state+json": {
    "state": {},
    "version_major": 2,
    "version_minor": 0
   }
  }
 },
 "nbformat": 4,
 "nbformat_minor": 5
}
