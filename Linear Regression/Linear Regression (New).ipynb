{
 "cells": [
  {
   "cell_type": "markdown",
   "id": "attempted-dakota",
   "metadata": {},
   "source": [
    "### Linear Regression (New)"
   ]
  },
  {
   "cell_type": "code",
   "execution_count": 1,
   "id": "suspended-incidence",
   "metadata": {},
   "outputs": [],
   "source": [
    "import torch\n",
    "from torch import nn\n",
    "\n",
    "import pandas as pd\n",
    "import matplotlib.pyplot as plt"
   ]
  },
  {
   "cell_type": "markdown",
   "id": "cardiovascular-deputy",
   "metadata": {},
   "source": [
    "##### 데이터 임의 생성 저장 소스"
   ]
  },
  {
   "cell_type": "code",
   "execution_count": 2,
   "id": "latter-still",
   "metadata": {},
   "outputs": [],
   "source": [
    "# x = torch.arange(1, 11, dtype=torch.float).unsqueeze(dim=1)\n",
    "# y = x / 2 + 1 + torch.randn(10).unsqueeze(dim=1) / 5\n",
    "\n",
    "# data = torch.cat((x, y), dim=1)\n",
    "# data = pd.DataFrame(data.numpy())\n",
    "\n",
    "# data.to_csv('lr.csv', header=['x', 'y'])"
   ]
  },
  {
   "cell_type": "markdown",
   "id": "hollywood-stress",
   "metadata": {},
   "source": [
    "### 데이터 로드"
   ]
  },
  {
   "cell_type": "code",
   "execution_count": 3,
   "id": "average-magic",
   "metadata": {},
   "outputs": [],
   "source": [
    "data = pd.read_csv('lr.csv')"
   ]
  },
  {
   "cell_type": "markdown",
   "id": "decreased-receptor",
   "metadata": {},
   "source": [
    "### 변환과정 단계 별 확인"
   ]
  },
  {
   "cell_type": "code",
   "execution_count": 4,
   "id": "reflected-isaac",
   "metadata": {},
   "outputs": [
    {
     "data": {
      "text/plain": [
       "array([ 1.,  2.,  3.,  4.,  5.,  6.,  7.,  8.,  9., 10.])"
      ]
     },
     "execution_count": 4,
     "metadata": {},
     "output_type": "execute_result"
    }
   ],
   "source": [
    "data['x'].values"
   ]
  },
  {
   "cell_type": "code",
   "execution_count": 5,
   "id": "vocational-indonesian",
   "metadata": {},
   "outputs": [
    {
     "data": {
      "text/plain": [
       "tensor([ 1.,  2.,  3.,  4.,  5.,  6.,  7.,  8.,  9., 10.], dtype=torch.float64)"
      ]
     },
     "execution_count": 5,
     "metadata": {},
     "output_type": "execute_result"
    }
   ],
   "source": [
    "torch.from_numpy(data['x'].values)"
   ]
  },
  {
   "cell_type": "code",
   "execution_count": 6,
   "id": "handy-morris",
   "metadata": {},
   "outputs": [
    {
     "data": {
      "text/plain": [
       "tensor([[ 1.],\n",
       "        [ 2.],\n",
       "        [ 3.],\n",
       "        [ 4.],\n",
       "        [ 5.],\n",
       "        [ 6.],\n",
       "        [ 7.],\n",
       "        [ 8.],\n",
       "        [ 9.],\n",
       "        [10.]], dtype=torch.float64)"
      ]
     },
     "execution_count": 6,
     "metadata": {},
     "output_type": "execute_result"
    }
   ],
   "source": [
    "torch.from_numpy(data['x'].values).unsqueeze(dim=1)"
   ]
  },
  {
   "cell_type": "code",
   "execution_count": 7,
   "id": "periodic-combine",
   "metadata": {},
   "outputs": [
    {
     "data": {
      "text/plain": [
       "tensor([[ 1.],\n",
       "        [ 2.],\n",
       "        [ 3.],\n",
       "        [ 4.],\n",
       "        [ 5.],\n",
       "        [ 6.],\n",
       "        [ 7.],\n",
       "        [ 8.],\n",
       "        [ 9.],\n",
       "        [10.]])"
      ]
     },
     "execution_count": 7,
     "metadata": {},
     "output_type": "execute_result"
    }
   ],
   "source": [
    "torch.from_numpy(data['x'].values).unsqueeze(dim=1).float()"
   ]
  },
  {
   "cell_type": "markdown",
   "id": "little-filter",
   "metadata": {},
   "source": [
    "### 데이터 시각화 확인"
   ]
  },
  {
   "cell_type": "code",
   "execution_count": 8,
   "id": "inappropriate-lancaster",
   "metadata": {},
   "outputs": [
    {
     "data": {
      "image/png": "[encoded data removed]",
      "text/plain": [
       "<Figure size 432x288 with 1 Axes>"
      ]
     },
     "metadata": {
      "needs_background": "light"
     },
     "output_type": "display_data"
    }
   ],
   "source": [
    "# Avoid copy data, just refer\n",
    "# 데이터를 복사하여 새로 텐서를 생성하는 대신 \n",
    "# 원 데이터와 메모리를 공유하는 텐서를 쓰기 위함\n",
    "x = torch.from_numpy(data['x'].values).unsqueeze(dim=1).float()\n",
    "y = torch.from_numpy(data['y'].values).unsqueeze(dim=1).float()\n",
    "\n",
    "plt.xlim(0, 11);    plt.ylim(0, 8)\n",
    "plt.title('02_Linear_Regression_Model_Data')\n",
    "plt.scatter(x, y)\n",
    "\n",
    "plt.show()"
   ]
  },
  {
   "cell_type": "code",
   "execution_count": 9,
   "id": "central-hands",
   "metadata": {},
   "outputs": [
    {
     "name": "stdout",
     "output_type": "stream",
     "text": [
      "Linear(in_features=1, out_features=1, bias=True)\n",
      "Parameter containing:\n",
      "tensor([[0.8181]], requires_grad=True)\n",
      "Parameter containing:\n",
      "tensor([0.3258], requires_grad=True)\n"
     ]
    }
   ],
   "source": [
    "from torch import nn\n",
    "\n",
    "model = nn.Linear(in_features=1, out_features=1, bias=True)\n",
    "print(model)\n",
    "print(model.weight)\n",
    "print(model.bias)"
   ]
  },
  {
   "cell_type": "code",
   "execution_count": 10,
   "id": "rising-african",
   "metadata": {},
   "outputs": [],
   "source": [
    "criterion = nn.MSELoss()\n",
    "optimizer = torch.optim.Adam(model.parameters(), lr=0.01)"
   ]
  },
  {
   "cell_type": "code",
   "execution_count": 11,
   "id": "encouraging-inspector",
   "metadata": {},
   "outputs": [
    {
     "name": "stdout",
     "output_type": "stream",
     "text": [
      "tensor([[1.1439],\n",
      "        [1.9620],\n",
      "        [2.7800],\n",
      "        [3.5981],\n",
      "        [4.4161],\n",
      "        [5.2342],\n",
      "        [6.0522],\n",
      "        [6.8703],\n",
      "        [7.6884],\n",
      "        [8.5064]], grad_fn=<AddmmBackward>)\n"
     ]
    }
   ],
   "source": [
    "print(model(x))"
   ]
  },
  {
   "cell_type": "code",
   "execution_count": 12,
   "id": "democratic-management",
   "metadata": {},
   "outputs": [
    {
     "name": "stdout",
     "output_type": "stream",
     "text": [
      "loss :  tensor(2.3766, grad_fn=<MseLossBackward>)\n",
      "loss :  tensor(0.2217, grad_fn=<MseLossBackward>)\n",
      "loss :  tensor(0.1440, grad_fn=<MseLossBackward>)\n",
      "loss :  tensor(0.0902, grad_fn=<MseLossBackward>)\n",
      "loss :  tensor(0.0584, grad_fn=<MseLossBackward>)\n",
      "loss :  tensor(0.0422, grad_fn=<MseLossBackward>)\n",
      "loss :  tensor(0.0350, grad_fn=<MseLossBackward>)\n",
      "loss :  tensor(0.0321, grad_fn=<MseLossBackward>)\n",
      "loss :  tensor(0.0312, grad_fn=<MseLossBackward>)\n",
      "loss :  tensor(0.0309, grad_fn=<MseLossBackward>)\n"
     ]
    }
   ],
   "source": [
    "for step in range(500):\n",
    "    pred = model(x)\n",
    "    loss = criterion(pred, y)\n",
    "    \n",
    "    optimizer.zero_grad()\n",
    "    loss.backward()\n",
    "    optimizer.step()\n",
    "    \n",
    "    if step % 50 == 0:\n",
    "        print(\"loss : \", loss)\n",
    "        pass"
   ]
  },
  {
   "cell_type": "code",
   "execution_count": 13,
   "id": "pretty-museum",
   "metadata": {},
   "outputs": [
    {
     "data": {
      "image/png": "[encoded data removed]",
      "text/plain": [
       "<Figure size 432x288 with 1 Axes>"
      ]
     },
     "metadata": {
      "needs_background": "light"
     },
     "output_type": "display_data"
    }
   ],
   "source": [
    "def display_results(model, x, y):\n",
    "    prediction = model(x)\n",
    "    loss = criterion(input=prediction, target=y)\n",
    "    \n",
    "    plt.clf()\n",
    "    plt.xlim(0, 11);    plt.ylim(0, 8)\n",
    "    plt.scatter(x.data.numpy(), y.data.numpy())\n",
    "    plt.plot(x.data.numpy(), prediction.data.numpy(), 'b--')\n",
    "    plt.title('loss={:.4}, w={:.4}, b={:.4}'.format(loss.data.item(), model.weight.data.item(), model.bias.data.item()))\n",
    "    plt.show()\n",
    "    \n",
    "display_results(model, x, y)    "
   ]
  },
  {
   "cell_type": "code",
   "execution_count": 14,
   "id": "alone-reasoning",
   "metadata": {},
   "outputs": [],
   "source": [
    "torch.save(obj=model, f='02_Linear_Regression_Model.pt')"
   ]
  },
  {
   "cell_type": "code",
   "execution_count": 15,
   "id": "military-canvas",
   "metadata": {},
   "outputs": [
    {
     "data": {
      "image/png": "[encoded data removed]",
      "text/plain": [
       "<Figure size 432x288 with 1 Axes>"
      ]
     },
     "metadata": {
      "needs_background": "light"
     },
     "output_type": "display_data"
    }
   ],
   "source": [
    "loaded_model = torch.load(f='02_Linear_Regression_Model.pt')\n",
    "\n",
    "display_results(loaded_model, x, y)"
   ]
  }
 ],
 "metadata": {
  "kernelspec": {
   "display_name": "Python My Env",
   "language": "python",
   "name": "python-my-env"
  },
  "language_info": {
   "codemirror_mode": {
    "name": "ipython",
    "version": 3
   },
   "file_extension": ".py",
   "mimetype": "text/x-python",
   "name": "python",
   "nbconvert_exporter": "python",
   "pygments_lexer": "ipython3",
   "version": "3.6.13"
  },
  "widgets": {
   "application/vnd.jupyter.widget-state+json": {
    "state": {},
    "version_major": 2,
    "version_minor": 0
   }
  }
 },
 "nbformat": 4,
 "nbformat_minor": 5
}
