{
 "cells": [
  {
   "cell_type": "markdown",
   "id": "charged-coordinator",
   "metadata": {},
   "source": [
    "### Linear Regression"
   ]
  },
  {
   "cell_type": "code",
   "execution_count": 1,
   "id": "ambient-baltimore",
   "metadata": {},
   "outputs": [],
   "source": [
    "import torch\n",
    "import torch.nn as nn\n",
    "import torch.nn.functional as F\n",
    "import torch.optim as optim"
   ]
  },
  {
   "cell_type": "code",
   "execution_count": 2,
   "id": "greater-fusion",
   "metadata": {},
   "outputs": [
    {
     "name": "stdout",
     "output_type": "stream",
     "text": [
      "torch.Size([5, 3])\n"
     ]
    },
    {
     "data": {
      "text/plain": [
       "tensor([[ 73.,  80.,  75.],\n",
       "        [ 93.,  88.,  93.],\n",
       "        [ 89.,  91.,  90.],\n",
       "        [ 96.,  98., 100.],\n",
       "        [ 73.,  66.,  70.]])"
      ]
     },
     "execution_count": 2,
     "metadata": {},
     "output_type": "execute_result"
    }
   ],
   "source": [
    "x_train = torch.FloatTensor(\n",
    "                            [[73,80,75],\n",
    "                             [93,88,93],\n",
    "                             [89,91,90],\n",
    "                             [96,98,100],\n",
    "                             [73,66,70]] )\n",
    "y_train = torch.FloatTensor([[152],[185],[180],[196],[142]])\n",
    "\n",
    "print(x_train.shape)\n",
    "x_train"
   ]
  },
  {
   "cell_type": "code",
   "execution_count": 3,
   "id": "dimensional-swift",
   "metadata": {},
   "outputs": [],
   "source": [
    "W = torch.zeros( (3,1) , requires_grad=True)\n",
    "b = torch.zeros( 1, requires_grad=True)"
   ]
  },
  {
   "cell_type": "markdown",
   "id": "current-guidance",
   "metadata": {},
   "source": [
    "### Naive"
   ]
  },
  {
   "cell_type": "code",
   "execution_count": 3,
   "id": "caroline-monster",
   "metadata": {
    "scrolled": true,
    "tags": []
   },
   "outputs": [
    {
     "name": "stdout",
     "output_type": "stream",
     "text": [
      "Epoch    1/20 W: tensor([0., 0., 0., 0., 0.]) Cost: 29661.800781\n",
      "Epoch    2/20 W: tensor([67.2578, 80.8397, 79.6523, 86.7394, 61.6605]) Cost: 9298.520508\n",
      "Epoch    3/20 W: tensor([104.9128, 126.0990, 124.2466, 135.3015,  96.1821]) Cost: 2915.712402\n",
      "Epoch    4/20 W: tensor([125.9942, 151.4381, 149.2133, 162.4896, 115.5097]) Cost: 915.040527\n",
      "Epoch    5/20 W: tensor([137.7967, 165.6247, 163.1911, 177.7112, 126.3307]) Cost: 287.936096\n",
      "Epoch    6/20 W: tensor([144.4044, 173.5674, 171.0168, 186.2332, 132.3891]) Cost: 91.371063\n",
      "Epoch    7/20 W: tensor([148.1035, 178.0143, 175.3980, 191.0042, 135.7812]) Cost: 29.758249\n",
      "Epoch    8/20 W: tensor([150.1744, 180.5042, 177.8509, 193.6753, 137.6805]) Cost: 10.445267\n",
      "Epoch    9/20 W: tensor([151.3336, 181.8983, 179.2240, 195.1707, 138.7440]) Cost: 4.391237\n",
      "Epoch   10/20 W: tensor([151.9824, 182.6789, 179.9928, 196.0079, 139.3396]) Cost: 2.493121\n",
      "Epoch   11/20 W: tensor([152.3454, 183.1161, 180.4231, 196.4765, 139.6732]) Cost: 1.897688\n",
      "Epoch   12/20 W: tensor([152.5485, 183.3609, 180.6640, 196.7389, 139.8602]) Cost: 1.710552\n",
      "Epoch   13/20 W: tensor([152.6620, 183.4982, 180.7988, 196.8857, 139.9651]) Cost: 1.651416\n",
      "Epoch   14/20 W: tensor([152.7253, 183.5752, 180.8742, 196.9678, 140.0240]) Cost: 1.632369\n",
      "Epoch   15/20 W: tensor([152.7606, 183.6184, 180.9164, 197.0138, 140.0571]) Cost: 1.625924\n",
      "Epoch   16/20 W: tensor([152.7802, 183.6427, 180.9399, 197.0395, 140.0759]) Cost: 1.623420\n",
      "Epoch   17/20 W: tensor([152.7909, 183.6565, 180.9530, 197.0538, 140.0865]) Cost: 1.622152\n",
      "Epoch   18/20 W: tensor([152.7968, 183.6643, 180.9603, 197.0618, 140.0927]) Cost: 1.621262\n",
      "Epoch   19/20 W: tensor([152.7999, 183.6688, 180.9644, 197.0661, 140.0963]) Cost: 1.620501\n",
      "Epoch   20/20 W: tensor([152.8014, 183.6715, 180.9665, 197.0686, 140.0985]) Cost: 1.619757\n"
     ]
    }
   ],
   "source": [
    "optimizer = optim.SGD([W, b], lr=1e-5)\n",
    "\n",
    "nb_epochs = 20\n",
    "for epoch in range(1, nb_epochs+1):\n",
    "    hypothesis = x_train.matmul(W) + b\n",
    "    cost = torch.mean((hypothesis - y_train) **2)\n",
    "      \n",
    "    print('Epoch {:4d}/{} W: {} Cost: {:.6f}'.format(epoch, nb_epochs, hypothesis.squeeze().detach() , cost.item()) )\n",
    "    \n",
    "    optimizer.zero_grad()\n",
    "    cost.backward()\n",
    "    optimizer.step()"
   ]
  },
  {
   "cell_type": "markdown",
   "id": "happy-fundamentals",
   "metadata": {},
   "source": [
    "### High"
   ]
  },
  {
   "cell_type": "code",
   "execution_count": 4,
   "id": "historic-advantage",
   "metadata": {},
   "outputs": [],
   "source": [
    "class MultivariateLinearRegressionModel(nn.Module):\n",
    "    def __init__(self):\n",
    "        super().__init__()       # 부모클래스( nn.Module) 의 __init__ 함수 호출\n",
    "        self.linear = nn.Linear(3,1)  # Linear 모델( input 1, output 1 ) 을 생성합니다\n",
    "        \n",
    "    def forward(self, x):\n",
    "        return self.linear(x)"
   ]
  },
  {
   "cell_type": "code",
   "execution_count": 13,
   "id": "excited-advocacy",
   "metadata": {
    "scrolled": true,
    "tags": []
   },
   "outputs": [
    {
     "name": "stdout",
     "output_type": "stream",
     "text": [
      "Epoch    1/20 W: tensor([31.0271, 34.5190, 35.4862, 38.6325, 25.5517]) Cost: 19297.593750\n",
      "Epoch    2/20 W: tensor([ 85.2699,  99.7164,  99.7255, 108.5875,  75.2813]) Cost: 6052.506348\n",
      "Epoch    3/20 W: tensor([115.6381, 136.2183, 135.6906, 147.7527, 103.1234]) Cost: 1900.873291\n",
      "Epoch    4/20 W: tensor([132.6397, 156.6546, 155.8260, 169.6797, 118.7115]) Cost: 599.554626\n",
      "Epoch    5/20 W: tensor([142.1579, 168.0964, 167.0990, 181.9558, 127.4391]) Cost: 191.658783\n",
      "Epoch    6/20 W: tensor([147.4865, 174.5025, 173.4102, 188.8286, 132.3257]) Cost: 63.803200\n",
      "Epoch    7/20 W: tensor([150.4693, 178.0893, 176.9435, 192.6763, 135.0618]) Cost: 23.725475\n",
      "Epoch    8/20 W: tensor([152.1389, 180.0977, 178.9216, 194.8304, 136.5941]) Cost: 11.161276\n",
      "Epoch    9/20 W: tensor([153.0733, 181.2224, 180.0289, 196.0363, 137.4523]) Cost: 7.221251\n",
      "Epoch   10/20 W: tensor([153.5961, 181.8523, 180.6487, 196.7114, 137.9331]) Cost: 5.984356\n",
      "Epoch   11/20 W: tensor([153.8884, 182.2053, 180.9956, 197.0893, 138.2027]) Cost: 5.594810\n",
      "Epoch   12/20 W: tensor([154.0516, 182.4031, 181.1897, 197.3007, 138.3539]) Cost: 5.470841\n",
      "Epoch   13/20 W: tensor([154.1427, 182.5141, 181.2983, 197.4190, 138.4389]) Cost: 5.430148\n",
      "Epoch   14/20 W: tensor([154.1932, 182.5766, 181.3589, 197.4851, 138.4869]) Cost: 5.415512\n",
      "Epoch   15/20 W: tensor([154.2212, 182.6118, 181.3928, 197.5221, 138.5141]) Cost: 5.409067\n",
      "Epoch   16/20 W: tensor([154.2365, 182.6317, 181.4116, 197.5426, 138.5297]) Cost: 5.405213\n",
      "Epoch   17/20 W: tensor([154.2446, 182.6432, 181.4221, 197.5541, 138.5387]) Cost: 5.402112\n",
      "Epoch   18/20 W: tensor([154.2488, 182.6498, 181.4278, 197.5604, 138.5442]) Cost: 5.399313\n",
      "Epoch   19/20 W: tensor([154.2508, 182.6538, 181.4309, 197.5638, 138.5475]) Cost: 5.396589\n",
      "Epoch   20/20 W: tensor([154.2515, 182.6563, 181.4325, 197.5656, 138.5498]) Cost: 5.393882\n"
     ]
    }
   ],
   "source": [
    "model = MultivariateLinearRegressionModel()\n",
    "optimizer = optim.SGD(model.parameters(), lr=1e-5)\n",
    "\n",
    "nb_epochs = 20\n",
    "for epoch in range(1, nb_epochs+1):\n",
    "    pred = model(x_train)\n",
    "\n",
    "    cost = F.mse_loss(pred, y_train)\n",
    "      \n",
    "    print('Epoch {:4d}/{} W: {} Cost: {:.6f}'.format(epoch, nb_epochs, pred.squeeze().detach() , cost.item()) )\n",
    "    \n",
    "    optimizer.zero_grad()\n",
    "    cost.backward()\n",
    "    optimizer.step()"
   ]
  }
 ],
 "metadata": {
  "kernelspec": {
   "display_name": "Python My Env",
   "language": "python",
   "name": "python-my-env"
  },
  "language_info": {
   "codemirror_mode": {
    "name": "ipython",
    "version": 3
   },
   "file_extension": ".py",
   "mimetype": "text/x-python",
   "name": "python",
   "nbconvert_exporter": "python",
   "pygments_lexer": "ipython3",
   "version": "3.6.13"
  },
  "widgets": {
   "application/vnd.jupyter.widget-state+json": {
    "state": {},
    "version_major": 2,
    "version_minor": 0
   }
  }
 },
 "nbformat": 4,
 "nbformat_minor": 5
}
