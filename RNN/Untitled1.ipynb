{
 "cells": [
  {
   "cell_type": "code",
   "execution_count": 1,
   "id": "brilliant-emission",
   "metadata": {},
   "outputs": [],
   "source": [
    "import torch\n",
    "import torch.nn as nn\n",
    "from torch.autograd import Variable\n",
    "import torch.optim as optim\n",
    "import torch.nn.functional as F"
   ]
  },
  {
   "cell_type": "code",
   "execution_count": 5,
   "id": "killing-observer",
   "metadata": {},
   "outputs": [],
   "source": [
    "sentence_size = 5 # 인풋 문장 길이(임의로 지정)\n",
    "\n",
    "batch_size = 1  # 배치 사이즈\n",
    "input_dim = 30 # 워드임베딩 사이즈\n",
    "hidden_dim = 50 # 히든 스테이트 사이즈"
   ]
  },
  {
   "cell_type": "code",
   "execution_count": 6,
   "id": "encouraging-catch",
   "metadata": {},
   "outputs": [],
   "source": [
    "inputs = Variable(torch.randn(batch_size,sentence_size,input_dim))\n",
    "hidden = Variable(torch.zeros(1,batch_size,hidden_dim))"
   ]
  },
  {
   "cell_type": "code",
   "execution_count": 17,
   "id": "bored-heating",
   "metadata": {},
   "outputs": [],
   "source": [
    "gru = nn.GRU(input_dim, hidden_dim, batch_first=True)"
   ]
  },
  {
   "cell_type": "code",
   "execution_count": 20,
   "id": "auburn-electronics",
   "metadata": {},
   "outputs": [
    {
     "data": {
      "text/plain": [
       "torch.Size([1, 5, 50])"
      ]
     },
     "execution_count": 20,
     "metadata": {},
     "output_type": "execute_result"
    }
   ],
   "source": [
    "encoder_output, encoder_hidden = gru(inputs, hidden)\n",
    "encoder_output.shape"
   ]
  },
  {
   "cell_type": "code",
   "execution_count": 16,
   "id": "interstate-african",
   "metadata": {},
   "outputs": [
    {
     "data": {
      "text/plain": [
       "torch.Size([1, 1, 50])"
      ]
     },
     "execution_count": 16,
     "metadata": {},
     "output_type": "execute_result"
    }
   ],
   "source": [
    "hidden.shape"
   ]
  },
  {
   "cell_type": "code",
   "execution_count": 19,
   "id": "thirty-rebound",
   "metadata": {},
   "outputs": [
    {
     "data": {
      "text/plain": [
       "torch.Size([1, 1, 50])"
      ]
     },
     "execution_count": 19,
     "metadata": {},
     "output_type": "execute_result"
    }
   ],
   "source": [
    "decoder_hidden = Variable(torch.randn(1,batch_size,hidden_dim))\n",
    "decoder_hidden.shape"
   ]
  },
  {
   "cell_type": "markdown",
   "id": "marine-setup",
   "metadata": {},
   "source": [
    "### Attention"
   ]
  },
  {
   "cell_type": "markdown",
   "id": "caring-incident",
   "metadata": {},
   "source": [
    "##### 일단 배치 제외하고 구해보기"
   ]
  },
  {
   "cell_type": "code",
   "execution_count": 22,
   "id": "requested-flour",
   "metadata": {},
   "outputs": [
    {
     "name": "stdout",
     "output_type": "stream",
     "text": [
      "torch.Size([5, 50]) torch.Size([1, 50])\n"
     ]
    }
   ],
   "source": [
    "encoder_output = encoder_output.squeeze(0) # B 제거\n",
    "decoder_hidden = decoder_hidden.squeeze(1)\n",
    "\n",
    "print(encoder_output.size(),decoder_hidden.size())"
   ]
  },
  {
   "cell_type": "code",
   "execution_count": null,
   "id": "equipped-olympus",
   "metadata": {},
   "outputs": [],
   "source": []
  }
 ],
 "metadata": {
  "kernelspec": {
   "display_name": "Python My Env",
   "language": "python",
   "name": "python-my-env"
  },
  "language_info": {
   "codemirror_mode": {
    "name": "ipython",
    "version": 3
   },
   "file_extension": ".py",
   "mimetype": "text/x-python",
   "name": "python",
   "nbconvert_exporter": "python",
   "pygments_lexer": "ipython3",
   "version": "3.6.13"
  },
  "widgets": {
   "application/vnd.jupyter.widget-state+json": {
    "state": {},
    "version_major": 2,
    "version_minor": 0
   }
  }
 },
 "nbformat": 4,
 "nbformat_minor": 5
}
