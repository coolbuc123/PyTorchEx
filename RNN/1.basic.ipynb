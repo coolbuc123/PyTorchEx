{
 "cells": [
  {
   "cell_type": "markdown",
   "id": "equivalent-equality",
   "metadata": {},
   "source": [
    "### 1.Basic\n",
    "> 사이즈만 확인해보는 예제임\n",
    "\n",
    "> 묶음 데이터 형태 3개(Window가 이동한 데이터는 아님)\n",
    "\n",
    "> 단일 Layer(FC X)"
   ]
  },
  {
   "cell_type": "code",
   "execution_count": 27,
   "id": "front-casino",
   "metadata": {},
   "outputs": [
    {
     "data": {
      "text/plain": [
       "<torch._C.Generator at 0x7f5aafd1cdb0>"
      ]
     },
     "execution_count": 27,
     "metadata": {},
     "output_type": "execute_result"
    }
   ],
   "source": [
    "import torch\n",
    "import numpy as np\n",
    "\n",
    "# Random seed to make results deterministic and reproducible\n",
    "torch.manual_seed(0)"
   ]
  },
  {
   "cell_type": "code",
   "execution_count": 19,
   "id": "younger-tumor",
   "metadata": {},
   "outputs": [
    {
     "name": "stdout",
     "output_type": "stream",
     "text": [
      "torch.Size([3, 5, 4])\n"
     ]
    }
   ],
   "source": [
    "# sequential example\n",
    "# shape : (3, 5, 4)\n",
    "h = [1, 0, 0, 0]\n",
    "e = [0, 1, 0, 0]\n",
    "l = [0, 0, 1, 0]\n",
    "o = [0, 0, 0, 1]\n",
    "input_data_np = np.array([[h, e, l, l, o], [e, o, l, l, l], [l, l, e, e, l]], dtype=np.float32)\n",
    "\n",
    "# 텐서로 변환 \n",
    "input_data = torch.Tensor(input_data_np)\n",
    "print(input_data.shape)"
   ]
  },
  {
   "cell_type": "markdown",
   "id": "expired-platform",
   "metadata": {},
   "source": [
    "- 전체 row  = 3                       # 주로 window 이동 횟수를 의미하는데, 이 예제는 그냥 data 3개 준비한 듯\n",
    "- Sequence(Windiow) : 5\n",
    "- input_size(특징차원, 단어사전/원핫, input node) : 4"
   ]
  },
  {
   "cell_type": "code",
   "execution_count": 20,
   "id": "caroline-fleece",
   "metadata": {},
   "outputs": [
    {
     "data": {
      "text/plain": [
       "tensor([[[1., 0., 0., 0.],\n",
       "         [0., 1., 0., 0.],\n",
       "         [0., 0., 1., 0.],\n",
       "         [0., 0., 1., 0.],\n",
       "         [0., 0., 0., 1.]],\n",
       "\n",
       "        [[0., 1., 0., 0.],\n",
       "         [0., 0., 0., 1.],\n",
       "         [0., 0., 1., 0.],\n",
       "         [0., 0., 1., 0.],\n",
       "         [0., 0., 1., 0.]],\n",
       "\n",
       "        [[0., 0., 1., 0.],\n",
       "         [0., 0., 1., 0.],\n",
       "         [0., 1., 0., 0.],\n",
       "         [0., 1., 0., 0.],\n",
       "         [0., 0., 1., 0.]]])"
      ]
     },
     "execution_count": 20,
     "metadata": {},
     "output_type": "execute_result"
    }
   ],
   "source": [
    "input_data"
   ]
  },
  {
   "cell_type": "markdown",
   "id": "viral-anthropology",
   "metadata": {},
   "source": [
    "#### *hidden size 변경 해주는 대로, output의 특징size 부분이 적용되는 것을 볼 수 있다"
   ]
  },
  {
   "cell_type": "code",
   "execution_count": 25,
   "id": "approved-employment",
   "metadata": {},
   "outputs": [
    {
     "name": "stdout",
     "output_type": "stream",
     "text": [
      "RNN 1개 Layer 통과 후 출력 사이즈(hidden_size):  torch.Size([3, 5, 7])\n"
     ]
    }
   ],
   "source": [
    "input_size = 4     #  입력 Shape의 특징 SIZE\n",
    "hidden_size = 7  #  출력 Shape의 특징 SIZE\n",
    "\n",
    "# declare RNN\n",
    "rnn = torch.nn.RNN(input_size, hidden_size)\n",
    "\n",
    "# check output\n",
    "outputs, _status = rnn(input_data)\n",
    "print(\"RNN 1개 Layer 통과 후 출력 사이즈(hidden_size): \", outputs.size())"
   ]
  },
  {
   "cell_type": "code",
   "execution_count": 26,
   "id": "lasting-bermuda",
   "metadata": {},
   "outputs": [
    {
     "data": {
      "text/plain": [
       "tensor([[[ 0.5336, -0.4893,  0.6553,  0.2328,  0.4636, -0.2640, -0.1420],\n",
       "         [ 0.0469, -0.0096,  0.6798,  0.0255,  0.1339, -0.3741, -0.1273],\n",
       "         [ 0.1472, -0.0110,  0.3764,  0.2713,  0.4205, -0.3733, -0.4134],\n",
       "         [ 0.1472, -0.0110,  0.3764,  0.2713,  0.4205, -0.3733, -0.4134],\n",
       "         [-0.0325, -0.0499,  0.5777,  0.0962,  0.3008, -0.4390, -0.5479]],\n",
       "\n",
       "        [[ 0.2188, -0.1267,  0.6459,  0.3740,  0.0673, -0.2403, -0.0333],\n",
       "         [ 0.0187, -0.1698,  0.4668,  0.2733,  0.2731, -0.2288, -0.3659],\n",
       "         [ 0.3432, -0.1548,  0.1362,  0.5198,  0.3062, -0.1171, -0.3377],\n",
       "         [ 0.3432, -0.1548,  0.1362,  0.5198,  0.3062, -0.1171, -0.3377],\n",
       "         [ 0.3092, -0.3011,  0.0963,  0.5102,  0.3852,  0.0488, -0.2082]],\n",
       "\n",
       "        [[ 0.1281,  0.0113,  0.2803,  0.4546,  0.3153, -0.3605, -0.4021],\n",
       "         [ 0.2369, -0.2182,  0.1959,  0.4868,  0.3940, -0.1503, -0.3210],\n",
       "         [ 0.2031, -0.0054,  0.5786,  0.2785, -0.0606, -0.3600, -0.3068],\n",
       "         [ 0.2031, -0.0054,  0.5786,  0.2785, -0.0606, -0.3600, -0.3068],\n",
       "         [ 0.2716, -0.0429,  0.3073,  0.4766,  0.3371, -0.4113, -0.5354]]],\n",
       "       grad_fn=<StackBackward>)"
      ]
     },
     "execution_count": 26,
     "metadata": {},
     "output_type": "execute_result"
    }
   ],
   "source": [
    "outputs"
   ]
  },
  {
   "cell_type": "code",
   "execution_count": null,
   "id": "sonic-violence",
   "metadata": {},
   "outputs": [],
   "source": []
  }
 ],
 "metadata": {
  "kernelspec": {
   "display_name": "Python My Env",
   "language": "python",
   "name": "python-my-env"
  },
  "language_info": {
   "codemirror_mode": {
    "name": "ipython",
    "version": 3
   },
   "file_extension": ".py",
   "mimetype": "text/x-python",
   "name": "python",
   "nbconvert_exporter": "python",
   "pygments_lexer": "ipython3",
   "version": "3.6.13"
  },
  "widgets": {
   "application/vnd.jupyter.widget-state+json": {
    "state": {},
    "version_major": 2,
    "version_minor": 0
   }
  }
 },
 "nbformat": 4,
 "nbformat_minor": 5
}
