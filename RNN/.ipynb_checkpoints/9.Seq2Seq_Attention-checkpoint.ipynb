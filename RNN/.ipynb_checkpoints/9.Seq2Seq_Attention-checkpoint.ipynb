{
 "cells": [
  {
   "cell_type": "code",
   "execution_count": 2,
   "id": "wrong-chile",
   "metadata": {},
   "outputs": [
    {
     "data": {
      "text/plain": [
       "['I feel hungry.\\t나는 배가 고프다.',\n",
       " 'Pytorch is very easy.\\t파이토치는 매우 쉽다.',\n",
       " 'Pytorch is a framework for deep learning.\\t파이토치는 딥러닝을 위한 프레임워크이다.',\n",
       " 'Pytorch is very clear to use.\\t파이토치는 사용하기 매우 직관적이다.']"
      ]
     },
     "execution_count": 2,
     "metadata": {},
     "output_type": "execute_result"
    }
   ],
   "source": [
    "# main reference\n",
    "# https://pytorch.org/tutorials/intermediate/seq2seq_translation_tutorial.html\n",
    "\n",
    "import random\n",
    "import torch\n",
    "import torch.nn as nn\n",
    "import torch.optim as optim\n",
    "\n",
    "torch.manual_seed(0)\n",
    "device = torch.device(\"cuda\" if torch.cuda.is_available() else \"cpu\")\n",
    "\n",
    "raw = [\"I feel hungry.\t나는 배가 고프다.\",\n",
    "       \"Pytorch is very easy.\t파이토치는 매우 쉽다.\",\n",
    "       \"Pytorch is a framework for deep learning.\t파이토치는 딥러닝을 위한 프레임워크이다.\",\n",
    "       \"Pytorch is very clear to use.\t파이토치는 사용하기 매우 직관적이다.\"]\n",
    "\n",
    "SOS_token = 0\n",
    "EOS_token = 1\n",
    "\n",
    "raw"
   ]
  },
  {
   "cell_type": "markdown",
   "id": "matched-economy",
   "metadata": {},
   "source": [
    "#### 단어사전 Class"
   ]
  },
  {
   "cell_type": "code",
   "execution_count": 3,
   "id": "commercial-holocaust",
   "metadata": {},
   "outputs": [],
   "source": [
    "class Vocab:\n",
    "    def __init__(self):                                                                                             # 'hello seq to seq model '\n",
    "        self.vocab2index = {\"<SOS>\": SOS_token, \"<EOS>\": EOS_token}     # {'<SOS>': 0, '<EOS>': 1, 'hello': 2, 'seq': 3, 'to': 4, 'model': 5, '': 6}\n",
    "        self.index2vocab = {SOS_token: \"<SOS>\", EOS_token: \"<EOS>\"}     # {0: '<SOS>', 1: '<EOS>', 2: 'hello', 3: 'seq', 4: 'to', 5: 'model', 6: ''}\n",
    "        self.vocab_count = {}                                                                                  # {'hello': 1, 'seq': 2, 'to': 1, 'model': 1, '': 1}\n",
    "        self.n_vocab = len(self.vocab2index)                                                       # 7\n",
    "\n",
    "    def add_vocab(self, sentence):\n",
    "        for word in sentence.split(\" \"):\n",
    "            if word not in self.vocab2index:\n",
    "                self.vocab2index[word] = self.n_vocab\n",
    "                self.vocab_count[word] = 1\n",
    "                self.index2vocab[self.n_vocab] = word\n",
    "                self.n_vocab += 1\n",
    "            else:\n",
    "                self.vocab_count[word] += 1"
   ]
  },
  {
   "cell_type": "markdown",
   "id": "pacific-technology",
   "metadata": {},
   "source": [
    "##### 단어사전 test"
   ]
  },
  {
   "cell_type": "code",
   "execution_count": 4,
   "id": "romantic-short",
   "metadata": {},
   "outputs": [
    {
     "name": "stdout",
     "output_type": "stream",
     "text": [
      "vocab2index: \t {'<SOS>': 0, '<EOS>': 1, 'hello': 2, 'seq': 3, 'to': 4, 'model': 5, '': 6}\n",
      "index2vocab: \t {0: '<SOS>', 1: '<EOS>', 2: 'hello', 3: 'seq', 4: 'to', 5: 'model', 6: ''}\n",
      "vocab_count: \t {'hello': 1, 'seq': 2, 'to': 1, 'model': 1, '': 1}\n",
      "n_vocab: \t\t 7\n"
     ]
    }
   ],
   "source": [
    "test_sentence = 'hello seq to seq model '\n",
    "\n",
    "test_vocab = Vocab()\n",
    "test_vocab.add_vocab(test_sentence)\n",
    "print(\"vocab2index: \\t\", test_vocab.vocab2index)\n",
    "print(\"index2vocab: \\t\", test_vocab.index2vocab)\n",
    "print(\"vocab_count: \\t\", test_vocab.vocab_count)\n",
    "print(\"n_vocab: \\t\\t\", test_vocab.n_vocab)"
   ]
  },
  {
   "cell_type": "markdown",
   "id": "addressed-latino",
   "metadata": {},
   "source": [
    "#### filter_pair : pair(src, tgt)가 모두 Max Length 이하인지 여부"
   ]
  },
  {
   "cell_type": "code",
   "execution_count": 5,
   "id": "coordinate-jungle",
   "metadata": {},
   "outputs": [],
   "source": [
    "def filter_pair(pair, source_max_length, target_max_length):\n",
    "    return len(pair[0].split(\" \")) < source_max_length and len(pair[1].split(\" \")) < target_max_length"
   ]
  },
  {
   "cell_type": "code",
   "execution_count": 6,
   "id": "regulated-vulnerability",
   "metadata": {},
   "outputs": [
    {
     "name": "stdout",
     "output_type": "stream",
     "text": [
      "Read 4 sentence pairs\n",
      "['i feel hungry.', '나는 배가 고프다.']\n",
      "True\n",
      "False\n"
     ]
    }
   ],
   "source": [
    "pairs = []\n",
    "for line in raw:\n",
    "    pairs.append([s for s in line.strip().lower().split(\"\\t\")])\n",
    "print(\"Read {} sentence pairs\".format(len(pairs)))\n",
    "print(pairs[0])\n",
    "\n",
    "print(filter_pair(pairs[0], 10, 12))\n",
    "print(filter_pair(pairs[0], 3, 3))"
   ]
  },
  {
   "cell_type": "markdown",
   "id": "third-semester",
   "metadata": {},
   "source": [
    "### 전처리 "
   ]
  },
  {
   "cell_type": "code",
   "execution_count": 7,
   "id": "played-humidity",
   "metadata": {},
   "outputs": [],
   "source": [
    "def preprocess(corpus, source_max_length, target_max_length):\n",
    "\n",
    "    # 문장별로 pair 간단히 만들어줌\n",
    "    print(\"[preprocess] reading corpus...\")\n",
    "    pairs = []\n",
    "    for line in corpus:\n",
    "        pairs.append([s for s in line.strip().lower().split(\"\\t\")])\n",
    "    print(\"[preprocess] Read {} sentence pairs\".format(len(pairs)))\n",
    "\n",
    "    # (src, tgt) 둘다 max length 이하인 경우만 통과\n",
    "    pairs = [pair for pair in pairs if filter_pair(pair, source_max_length, target_max_length)]\n",
    "    print(\"[preprocess] Trimmed to {} sentence pairs\".format(len(pairs)))\n",
    "\n",
    "    # vocab 2개 생성\n",
    "    source_vocab = Vocab() \n",
    "    target_vocab = Vocab()\n",
    "\n",
    "    # src들 → src_vocab에 추가, tgt들 → tgt_vocab에 추가\n",
    "    print(\"[preprocess] Counting words...\")\n",
    "    for pair in pairs:\n",
    "        source_vocab.add_vocab(pair[0])\n",
    "        target_vocab.add_vocab(pair[1])\n",
    "    print(\"[preprocess] source vocab size =\", source_vocab.n_vocab)\n",
    "    print(\"[preprocess] target vocab size =\", target_vocab.n_vocab)\n",
    "\n",
    "    # 리턴, pairs원본, 소스모음vocab, 타겟모음vocab\n",
    "    return pairs, source_vocab, target_vocab"
   ]
  },
  {
   "cell_type": "code",
   "execution_count": 8,
   "id": "immediate-milwaukee",
   "metadata": {},
   "outputs": [
    {
     "name": "stdout",
     "output_type": "stream",
     "text": [
      "[preprocess] reading corpus...\n",
      "[preprocess] Read 4 sentence pairs\n",
      "[preprocess] Trimmed to 4 sentence pairs\n",
      "[preprocess] Counting words...\n",
      "[preprocess] source vocab size = 17\n",
      "[preprocess] target vocab size = 13\n"
     ]
    },
    {
     "data": {
      "text/plain": [
       "([['i feel hungry.', '나는 배가 고프다.'],\n",
       "  ['pytorch is very easy.', '파이토치는 매우 쉽다.'],\n",
       "  ['pytorch is a framework for deep learning.', '파이토치는 딥러닝을 위한 프레임워크이다.'],\n",
       "  ['pytorch is very clear to use.', '파이토치는 사용하기 매우 직관적이다.']],\n",
       " <__main__.Vocab at 0x7fdbea77b940>,\n",
       " <__main__.Vocab at 0x7fdbea77ba20>)"
      ]
     },
     "execution_count": 8,
     "metadata": {},
     "output_type": "execute_result"
    }
   ],
   "source": [
    "preprocess(raw, 10, 12)"
   ]
  },
  {
   "cell_type": "code",
   "execution_count": 9,
   "id": "minus-recorder",
   "metadata": {},
   "outputs": [],
   "source": [
    "class Encoder(nn.Module):\n",
    "    def __init__(self, input_size, hidden_size):\n",
    "        super(Encoder, self).__init__()\n",
    "        self.hidden_size = hidden_size\n",
    "        self.embedding = nn.Embedding(input_size, hidden_size)\n",
    "        self.gru = nn.GRU(hidden_size, hidden_size)\n",
    "\n",
    "    def forward(self, x, hidden):\n",
    "        x = self.embedding(x).view(1, 1, -1)\n",
    "#         print(\"self.embedding(x).shape:\", self.embedding(x).shape)\n",
    "#         print(\"self.embedding(x).view(1, 1, -1).shape:\", self.embedding(x).view(1, 1, -1).shape)\n",
    "        x, hidden = self.gru(x, hidden)\n",
    "        return x, hidden"
   ]
  },
  {
   "cell_type": "code",
   "execution_count": 10,
   "id": "assured-merchant",
   "metadata": {},
   "outputs": [],
   "source": [
    "class Decoder(nn.Module):\n",
    "    def __init__(self, hidden_size, output_size):\n",
    "        super(Decoder, self).__init__()\n",
    "        self.hidden_size = hidden_size\n",
    "        self.embedding = nn.Embedding(output_size, hidden_size)\n",
    "        self.gru = nn.GRU(hidden_size, hidden_size)\n",
    "        self.out = nn.Linear(hidden_size, output_size)\n",
    "        self.softmax = nn.LogSoftmax(dim=1)\n",
    "\n",
    "    def forward(self, x, hidden):\n",
    "        x = self.embedding(x).view(1, 1, -1)\n",
    "        x, hidden = self.gru(x, hidden)\n",
    "        x = self.softmax(self.out(x[0]))                        # 3D → 2D  # tensor([[[-0.1669, ... ,  0.4492]]])  → tensor([[-0.1669, ... ,  0.4492]]) ※ 요소 : 16개(hidden_size)\n",
    "        return x, hidden"
   ]
  },
  {
   "cell_type": "markdown",
   "id": "major-beauty",
   "metadata": {},
   "source": [
    "#### 토큰화"
   ]
  },
  {
   "cell_type": "code",
   "execution_count": 26,
   "id": "supreme-beatles",
   "metadata": {},
   "outputs": [],
   "source": [
    "def tensorize(vocab, sentence):\n",
    "    indexes = [vocab.vocab2index[word] for word in sentence.split(\" \")]\n",
    "    indexes.append(vocab.vocab2index[\"<EOS>\"])\n",
    "    return torch.Tensor(indexes).long().to(device).view(-1, 1) # 특성1개 모양으로 : [2, 3, 4, 3, 5, 6, 1] → [ [2], [3], [4], [3], [5], [6], [1] ] "
   ]
  },
  {
   "cell_type": "markdown",
   "id": "forbidden-luxembourg",
   "metadata": {},
   "source": [
    "##### 토큰화 테스트"
   ]
  },
  {
   "cell_type": "code",
   "execution_count": 28,
   "id": "coastal-interstate",
   "metadata": {},
   "outputs": [
    {
     "name": "stdout",
     "output_type": "stream",
     "text": [
      "hello seq to seq model \n",
      "{0: '<SOS>', 1: '<EOS>', 2: 'hello', 3: 'seq', 4: 'to', 5: 'model', 6: ''}\n"
     ]
    },
    {
     "data": {
      "text/plain": [
       "tensor([[2],\n",
       "        [3],\n",
       "        [4],\n",
       "        [3],\n",
       "        [5],\n",
       "        [6],\n",
       "        [1]], device='cuda:0')"
      ]
     },
     "execution_count": 28,
     "metadata": {},
     "output_type": "execute_result"
    }
   ],
   "source": [
    "print(test_sentence)\n",
    "print(test_vocab.index2vocab)\n",
    "tensorize(test_vocab, test_sentence)"
   ]
  },
  {
   "cell_type": "markdown",
   "id": "coordinate-anthropology",
   "metadata": {},
   "source": [
    "##### n_iter만큼 랜덤 묶음 batch만큼 Pair 구성 테스트"
   ]
  },
  {
   "cell_type": "code",
   "execution_count": 13,
   "id": "resident-symphony",
   "metadata": {},
   "outputs": [
    {
     "data": {
      "text/plain": [
       "[['pytorch is very easy.', '파이토치는 매우 쉽다.'],\n",
       " ['i feel hungry.', '나는 배가 고프다.'],\n",
       " ['pytorch is very clear to use.', '파이토치는 사용하기 매우 직관적이다.'],\n",
       " ['pytorch is a framework for deep learning.', '파이토치는 딥러닝을 위한 프레임워크이다.'],\n",
       " ['pytorch is a framework for deep learning.', '파이토치는 딥러닝을 위한 프레임워크이다.'],\n",
       " ['pytorch is very easy.', '파이토치는 매우 쉽다.'],\n",
       " ['pytorch is a framework for deep learning.', '파이토치는 딥러닝을 위한 프레임워크이다.'],\n",
       " ['i feel hungry.', '나는 배가 고프다.'],\n",
       " ['pytorch is very easy.', '파이토치는 매우 쉽다.'],\n",
       " ['pytorch is a framework for deep learning.', '파이토치는 딥러닝을 위한 프레임워크이다.']]"
      ]
     },
     "execution_count": 13,
     "metadata": {},
     "output_type": "execute_result"
    }
   ],
   "source": [
    "[random.choice(pairs) for _ in range(10)]"
   ]
  },
  {
   "cell_type": "markdown",
   "id": "rental-prince",
   "metadata": {},
   "source": [
    "### Train"
   ]
  },
  {
   "cell_type": "code",
   "execution_count": 14,
   "id": "imported-cable",
   "metadata": {},
   "outputs": [],
   "source": [
    "def train(pairs, source_vocab, target_vocab, encoder, decoder, n_iter, print_every=1000, learning_rate=0.01):\n",
    "    loss_total = 0\n",
    "\n",
    "    # opt, loss  설정\n",
    "    encoder_optimizer = optim.SGD(encoder.parameters(), lr=learning_rate)\n",
    "    decoder_optimizer = optim.SGD(decoder.parameters(), lr=learning_rate)\n",
    "    criterion = nn.NLLLoss()\n",
    "    \n",
    "    # 배치단위로 src, tgt를 토큰화\n",
    "    training_batch = [random.choice(pairs) for _ in range(n_iter)] # n_iter만큼 랜덤묶음 batch 구성해줌\n",
    "    training_source = [tensorize(source_vocab, pair[0]) for pair in training_batch]\n",
    "    training_target = [tensorize(target_vocab, pair[1]) for pair in training_batch]\n",
    "\n",
    "    # batch 단위로 보면 될 듯(?)\n",
    "    for i in range(1, n_iter + 1):\n",
    "        source_tensor = training_source[i - 1] # idx를 1부터 시작해서 1씩 빼준 것 뿐\n",
    "        target_tensor = training_target[i - 1]   \n",
    "        \n",
    "        # 최초 hidden은 0으로 채워진 모양으로 준비\n",
    "        encoder_hidden = torch.zeros([1, 1, encoder.hidden_size]).to(device)     \n",
    "\n",
    "        encoder_optimizer.zero_grad()\n",
    "        decoder_optimizer.zero_grad()\n",
    "\n",
    "        source_length = source_tensor.size(0)\n",
    "        target_length = target_tensor.size(0)\n",
    "\n",
    "        loss = 0\n",
    "        \n",
    "        # source문장 돌면서 토큰단위로 Encoding\n",
    "        for enc_input in range(source_length):\n",
    "            _, encoder_hidden = encoder(source_tensor[enc_input], encoder_hidden)    # 결과 hidden 예 :  tensor([[[-0.2580, ... , -0.1358]]]  ※히든 갯수 만큼\n",
    "\n",
    "        # Decoding 준비\n",
    "        decoder_input = torch.Tensor([[SOS_token]]).long().to(device)\n",
    "        decoder_hidden = encoder_hidden\n",
    "\n",
    "        # target문장 돌면서 Decoder Loss →  훈련(back, step)\n",
    "        for di in range(target_length):\n",
    "            decoder_output, decoder_hidden = decoder(decoder_input, decoder_hidden)\n",
    "            loss += criterion(decoder_output, target_tensor[di])\n",
    "            decoder_input = target_tensor[di]  # teacher forcing\n",
    "            \n",
    "        loss.backward()\n",
    "        encoder_optimizer.step()\n",
    "        decoder_optimizer.step()\n",
    "\n",
    "        loss_iter = loss.item() / target_length\n",
    "        loss_total += loss_iter\n",
    "\n",
    "        if i % print_every == 0:\n",
    "            loss_avg = loss_total / print_every\n",
    "            loss_total = 0\n",
    "            print(\"[{} - {}%] loss = {:05.4f}\".format(i, i / n_iter * 100, loss_avg))"
   ]
  },
  {
   "cell_type": "code",
   "execution_count": 15,
   "id": "refined-north",
   "metadata": {},
   "outputs": [
    {
     "data": {
      "text/plain": [
       "tensor([0.], device='cuda:0')"
      ]
     },
     "execution_count": 15,
     "metadata": {},
     "output_type": "execute_result"
    }
   ],
   "source": [
    "#  # RuntimeError: legacy constructor expects device type: cpubut device type: cuda was passed\n",
    "#  torch.Tensor([0], device=device)\n",
    "\n",
    "torch.Tensor([0]).to(device)"
   ]
  },
  {
   "cell_type": "markdown",
   "id": "wireless-compensation",
   "metadata": {},
   "source": [
    "### 평가"
   ]
  },
  {
   "cell_type": "code",
   "execution_count": 16,
   "id": "seeing-richards",
   "metadata": {},
   "outputs": [],
   "source": [
    "def evaluate(pairs, source_vocab, target_vocab, encoder, decoder, target_max_length):\n",
    "    for pair in pairs:\n",
    "        print(\">\", pair[0])\n",
    "        print(\"=\", pair[1])\n",
    "\n",
    "        source_tensor = tensorize(source_vocab, pair[0])\n",
    "        source_length = source_tensor.size()[0]\n",
    "        \n",
    "        # Encoding 준비\n",
    "        encoder_hidden = torch.zeros([1, 1, encoder.hidden_size]).to(device)\n",
    "\n",
    "        # source문장 돌면서 Encoding     \n",
    "        for ei in range(source_length):       \n",
    "            _, encoder_hidden = encoder(source_tensor[ei], encoder_hidden)     # 결과 hidden 예 :  tensor([[[-0.2580, ... , -0.1358]]]  ※히든 갯수 만큼\n",
    "\n",
    "        # Decoding 준비\n",
    "        decoder_input = torch.Tensor([[SOS_token]]).long().to(device)                   \n",
    "        decoder_hidden = encoder_hidden                                                      \n",
    "        \n",
    "        # Decoding\n",
    "        decoded_words = []\n",
    "        for di in range(target_max_length):\n",
    "            decoder_output, decoder_hidden = decoder(decoder_input, decoder_hidden)\n",
    "            _, top_index = decoder_output.data.topk(1)\n",
    "            \n",
    "            # 디코더 끝이면(<EOS>) 종료\n",
    "            if top_index.item() == EOS_token:\n",
    "                decoded_words.append(\"<EOS>\")\n",
    "                break\n",
    "            else:\n",
    "                decoded_words.append(target_vocab.index2vocab[top_index.item()])\n",
    "\n",
    "            decoder_input = top_index.squeeze().detach()\n",
    "\n",
    "        predict_words = decoded_words\n",
    "        predict_sentence = \" \".join(predict_words)\n",
    "        print(\"<\", predict_sentence)\n",
    "        print(\"\")"
   ]
  },
  {
   "cell_type": "markdown",
   "id": "annoying-advertiser",
   "metadata": {},
   "source": [
    "### main"
   ]
  },
  {
   "cell_type": "code",
   "execution_count": 17,
   "id": "revised-round",
   "metadata": {
    "scrolled": true,
    "tags": []
   },
   "outputs": [
    {
     "name": "stdout",
     "output_type": "stream",
     "text": [
      "[preprocess] reading corpus...\n",
      "[preprocess] Read 4 sentence pairs\n",
      "[preprocess] Trimmed to 4 sentence pairs\n",
      "[preprocess] Counting words...\n",
      "[preprocess] source vocab size = 17\n",
      "[preprocess] target vocab size = 13\n",
      "\n",
      "▶Pair모양 확인(random) :  ['pytorch is very clear to use.', '파이토치는 사용하기 매우 직관적이다.']\n",
      "\n",
      "▶인코더/디코더 선언\n",
      "\n",
      "▶훈련시작\n",
      "\n",
      "▶전체 평가\n",
      "> i feel hungry.\n",
      "= 나는 배가 고프다.\n",
      "< 파이토치는 매우 <EOS>\n",
      "\n",
      "> pytorch is very easy.\n",
      "= 파이토치는 매우 쉽다.\n",
      "< 파이토치는 매우 <EOS>\n",
      "\n",
      "> pytorch is a framework for deep learning.\n",
      "= 파이토치는 딥러닝을 위한 프레임워크이다.\n",
      "< 파이토치는 매우 <EOS>\n",
      "\n",
      "> pytorch is very clear to use.\n",
      "= 파이토치는 사용하기 매우 직관적이다.\n",
      "< 파이토치는 매우 <EOS>\n",
      "\n"
     ]
    }
   ],
   "source": [
    "SOURCE_MAX_LENGTH = 10\n",
    "TARGET_MAX_LENGTH = 12\n",
    "\n",
    "load_pairs, load_source_vocab, load_target_vocab = preprocess(raw, SOURCE_MAX_LENGTH, TARGET_MAX_LENGTH)\n",
    "print(\"\\n▶Pair모양 확인(random) : \", random.choice(load_pairs))\n",
    "\n",
    "print(\"\\n▶인코더/디코더 선언\")\n",
    "enc_hidden_size = 16\n",
    "dec_hidden_size = enc_hidden_size\n",
    "enc = Encoder(load_source_vocab.n_vocab, enc_hidden_size).to(device)\n",
    "dec = Decoder(dec_hidden_size, load_target_vocab.n_vocab).to(device)\n",
    "\n",
    "print(\"\\n▶훈련시작\")\n",
    "train(load_pairs, load_source_vocab, load_target_vocab, enc, dec, 100, print_every=1000)\n",
    "\n",
    "print(\"\\n▶전체 평가\")\n",
    "evaluate(load_pairs, load_source_vocab, load_target_vocab, enc, dec, TARGET_MAX_LENGTH)"
   ]
  }
 ],
 "metadata": {
  "kernelspec": {
   "display_name": "Python My Env",
   "language": "python",
   "name": "python-my-env"
  },
  "language_info": {
   "codemirror_mode": {
    "name": "ipython",
    "version": 3
   },
   "file_extension": ".py",
   "mimetype": "text/x-python",
   "name": "python",
   "nbconvert_exporter": "python",
   "pygments_lexer": "ipython3",
   "version": "3.6.13"
  },
  "widgets": {
   "application/vnd.jupyter.widget-state+json": {
    "state": {},
    "version_major": 2,
    "version_minor": 0
   }
  }
 },
 "nbformat": 4,
 "nbformat_minor": 5
}
