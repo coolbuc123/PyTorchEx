{
 "cells": [
  {
   "cell_type": "code",
   "execution_count": 88,
   "id": "valued-stock",
   "metadata": {},
   "outputs": [
    {
     "data": {
      "text/plain": [
       "['I feel hungry.\\t나는 배가 고프다.',\n",
       " 'Pytorch is very easy.\\t파이토치는 매우 쉽다.',\n",
       " 'Pytorch is a framework for deep learning.\\t파이토치는 딥러닝을 위한 프레임워크이다.',\n",
       " 'Pytorch is very clear to use.\\t파이토치는 사용하기 매우 직관적이다.']"
      ]
     },
     "execution_count": 88,
     "metadata": {},
     "output_type": "execute_result"
    }
   ],
   "source": [
    "# main reference\n",
    "# https://pytorch.org/tutorials/intermediate/seq2seq_translation_tutorial.html\n",
    "\n",
    "import random\n",
    "import torch\n",
    "import torch.nn as nn\n",
    "import torch.optim as optim\n",
    "\n",
    "from torch.autograd import Variable\n",
    "import torch.nn.functional as F\n",
    "\n",
    "torch.manual_seed(0)\n",
    "device = torch.device(\"cuda\" if torch.cuda.is_available() else \"cpu\")\n",
    "\n",
    "raw = [\"I feel hungry.\t나는 배가 고프다.\",\n",
    "       \"Pytorch is very easy.\t파이토치는 매우 쉽다.\",\n",
    "       \"Pytorch is a framework for deep learning.\t파이토치는 딥러닝을 위한 프레임워크이다.\",\n",
    "       \"Pytorch is very clear to use.\t파이토치는 사용하기 매우 직관적이다.\"]\n",
    "\n",
    "SOS_token = 0\n",
    "EOS_token = 1\n",
    "\n",
    "MAX_LENGTH = 50\n",
    "\n",
    "raw"
   ]
  },
  {
   "cell_type": "markdown",
   "id": "fitted-college",
   "metadata": {},
   "source": [
    "#### 단어사전 Class"
   ]
  },
  {
   "cell_type": "code",
   "execution_count": 89,
   "id": "abstract-clark",
   "metadata": {},
   "outputs": [],
   "source": [
    "class Vocab:\n",
    "    def __init__(self):                                                                                             # 'hello seq to seq model '\n",
    "        self.vocab2index = {\"<SOS>\": SOS_token, \"<EOS>\": EOS_token}     # {'<SOS>': 0, '<EOS>': 1, 'hello': 2, 'seq': 3, 'to': 4, 'model': 5, '': 6}\n",
    "        self.index2vocab = {SOS_token: \"<SOS>\", EOS_token: \"<EOS>\"}     # {0: '<SOS>', 1: '<EOS>', 2: 'hello', 3: 'seq', 4: 'to', 5: 'model', 6: ''}\n",
    "        self.vocab_count = {}                                                                                  # {'hello': 1, 'seq': 2, 'to': 1, 'model': 1, '': 1}\n",
    "        self.n_vocab = len(self.vocab2index)                                                       # 7\n",
    "\n",
    "    def add_vocab(self, sentence):\n",
    "        for word in sentence.split(\" \"):\n",
    "            if word not in self.vocab2index:\n",
    "                self.vocab2index[word] = self.n_vocab\n",
    "                self.vocab_count[word] = 1\n",
    "                self.index2vocab[self.n_vocab] = word\n",
    "                self.n_vocab += 1\n",
    "            else:\n",
    "                self.vocab_count[word] += 1"
   ]
  },
  {
   "cell_type": "markdown",
   "id": "photographic-slave",
   "metadata": {},
   "source": [
    "##### 단어사전 test"
   ]
  },
  {
   "cell_type": "code",
   "execution_count": 90,
   "id": "heard-williams",
   "metadata": {},
   "outputs": [
    {
     "name": "stdout",
     "output_type": "stream",
     "text": [
      "vocab2index: \t {'<SOS>': 0, '<EOS>': 1, 'hello': 2, 'seq': 3, 'to': 4, 'model': 5, '': 6}\n",
      "index2vocab: \t {0: '<SOS>', 1: '<EOS>', 2: 'hello', 3: 'seq', 4: 'to', 5: 'model', 6: ''}\n",
      "vocab_count: \t {'hello': 1, 'seq': 2, 'to': 1, 'model': 1, '': 1}\n",
      "n_vocab: \t\t 7\n"
     ]
    }
   ],
   "source": [
    "test_sentence = 'hello seq to seq model '\n",
    "\n",
    "test_vocab = Vocab()\n",
    "test_vocab.add_vocab(test_sentence)\n",
    "print(\"vocab2index: \\t\", test_vocab.vocab2index)\n",
    "print(\"index2vocab: \\t\", test_vocab.index2vocab)\n",
    "print(\"vocab_count: \\t\", test_vocab.vocab_count)\n",
    "print(\"n_vocab: \\t\\t\", test_vocab.n_vocab)"
   ]
  },
  {
   "cell_type": "markdown",
   "id": "grave-paraguay",
   "metadata": {},
   "source": [
    "#### filter_pair : pair(src, tgt)가 모두 Max Length 이하인지 여부"
   ]
  },
  {
   "cell_type": "code",
   "execution_count": 91,
   "id": "surgical-flight",
   "metadata": {},
   "outputs": [],
   "source": [
    "def filter_pair(pair, source_max_length, target_max_length):\n",
    "    return len(pair[0].split(\" \")) < source_max_length and len(pair[1].split(\" \")) < target_max_length"
   ]
  },
  {
   "cell_type": "code",
   "execution_count": 92,
   "id": "boxed-tiger",
   "metadata": {},
   "outputs": [
    {
     "name": "stdout",
     "output_type": "stream",
     "text": [
      "Read 4 sentence pairs\n",
      "['i feel hungry.', '나는 배가 고프다.']\n",
      "True\n",
      "False\n"
     ]
    }
   ],
   "source": [
    "pairs = []\n",
    "for line in raw:\n",
    "    pairs.append([s for s in line.strip().lower().split(\"\\t\")])\n",
    "print(\"Read {} sentence pairs\".format(len(pairs)))\n",
    "print(pairs[0])\n",
    "\n",
    "print(filter_pair(pairs[0], 10, 12))\n",
    "print(filter_pair(pairs[0], 3, 3))"
   ]
  },
  {
   "cell_type": "markdown",
   "id": "blond-jason",
   "metadata": {},
   "source": [
    "### 전처리 "
   ]
  },
  {
   "cell_type": "code",
   "execution_count": 93,
   "id": "multiple-working",
   "metadata": {},
   "outputs": [],
   "source": [
    "def preprocess(corpus, source_max_length, target_max_length):\n",
    "\n",
    "    # 문장별로 pair 간단히 만들어줌\n",
    "    print(\"[preprocess] reading corpus...\")\n",
    "    pairs = []\n",
    "    for line in corpus:\n",
    "        pairs.append([s for s in line.strip().lower().split(\"\\t\")])\n",
    "    print(\"[preprocess] Read {} sentence pairs\".format(len(pairs)))\n",
    "\n",
    "    # (src, tgt) 둘다 max length 이하인 경우만 통과\n",
    "    pairs = [pair for pair in pairs if filter_pair(pair, source_max_length, target_max_length)]\n",
    "    print(\"[preprocess] Trimmed to {} sentence pairs\".format(len(pairs)))\n",
    "\n",
    "    # vocab 2개 생성\n",
    "    source_vocab = Vocab() \n",
    "    target_vocab = Vocab()\n",
    "\n",
    "    # src들 → src_vocab에 추가, tgt들 → tgt_vocab에 추가\n",
    "    print(\"[preprocess] Counting words...\")\n",
    "    for pair in pairs:\n",
    "        source_vocab.add_vocab(pair[0])\n",
    "        target_vocab.add_vocab(pair[1])\n",
    "    print(\"[preprocess] source vocab size =\", source_vocab.n_vocab)\n",
    "    print(\"[preprocess] target vocab size =\", target_vocab.n_vocab)\n",
    "\n",
    "    # 리턴, pairs원본, 소스모음vocab, 타겟모음vocab\n",
    "    return pairs, source_vocab, target_vocab"
   ]
  },
  {
   "cell_type": "code",
   "execution_count": 94,
   "id": "placed-telescope",
   "metadata": {},
   "outputs": [
    {
     "name": "stdout",
     "output_type": "stream",
     "text": [
      "[preprocess] reading corpus...\n",
      "[preprocess] Read 4 sentence pairs\n",
      "[preprocess] Trimmed to 4 sentence pairs\n",
      "[preprocess] Counting words...\n",
      "[preprocess] source vocab size = 17\n",
      "[preprocess] target vocab size = 13\n"
     ]
    },
    {
     "data": {
      "text/plain": [
       "([['i feel hungry.', '나는 배가 고프다.'],\n",
       "  ['pytorch is very easy.', '파이토치는 매우 쉽다.'],\n",
       "  ['pytorch is a framework for deep learning.', '파이토치는 딥러닝을 위한 프레임워크이다.'],\n",
       "  ['pytorch is very clear to use.', '파이토치는 사용하기 매우 직관적이다.']],\n",
       " <__main__.Vocab at 0x7f2995468438>,\n",
       " <__main__.Vocab at 0x7f2995468198>)"
      ]
     },
     "execution_count": 94,
     "metadata": {},
     "output_type": "execute_result"
    }
   ],
   "source": [
    "preprocess(raw, 10, 12)"
   ]
  },
  {
   "cell_type": "code",
   "execution_count": 147,
   "id": "experienced-senegal",
   "metadata": {},
   "outputs": [],
   "source": [
    "class EncoderRNN(nn.Module):\n",
    "    def __init__(self, input_size, hidden_size):\n",
    "        super(EncoderRNN, self).__init__()\n",
    "        self.hidden_size = hidden_size\n",
    "        self.embedding = nn.Embedding(input_size, hidden_size)\n",
    "        self.gru = nn.GRU(hidden_size, hidden_size)\n",
    "\n",
    "    def forward(self, input, hidden):\n",
    "        embedded = self.embedding(input).view(1, 1, -1)\n",
    "        output = embedded\n",
    "        output, hidden = self.gru(output, hidden)\n",
    "        return output, hidden\n",
    "    \n",
    "    def initHidden(self):\n",
    "        zero_init = Variable(torch.zeros(1, 1, self.hidden_size)).to(device)    \n",
    "        return zero_init"
   ]
  },
  {
   "cell_type": "code",
   "execution_count": 121,
   "id": "owned-correction",
   "metadata": {},
   "outputs": [],
   "source": [
    "class DecoderRNN(nn.Module):\n",
    "    def __init__(self, hidden_size, output_size):\n",
    "        super(DecoderRNN, self).__init__()\n",
    "        self.hidden_size = hidden_size\n",
    "        self.embedding = nn.Embedding(output_size, hidden_size)\n",
    "        self.gru = nn.GRU(hidden_size, hidden_size)\n",
    "        self.out = nn.Linear(hidden_size, output_size)\n",
    "        self.softmax = nn.LogSoftmax(dim=1)\n",
    "\n",
    "    def forward(self, input, hidden):\n",
    "        embedded = self.embedding(input).view(1, 1, -1)\n",
    "        output = embedded\n",
    "        output, hidden = self.gru(output, hidden)\n",
    "        output = self.softmax(self.out(output[0]))                        # 3D → 2D  # tensor([[[-0.1669, ... ,  0.4492]]])  → tensor([[-0.1669, ... ,  0.4492]]) ※ 요소 : 16개(hidden_size)\n",
    "        return output, hidden\n",
    "    \n",
    "    def initSoS(self):\n",
    "        sos_init = Variable(torch.Tensor([[SOS_token]]).long().to(device))\n",
    "        return sos_init"
   ]
  },
  {
   "cell_type": "code",
   "execution_count": 122,
   "id": "basic-quebec",
   "metadata": {},
   "outputs": [],
   "source": [
    "class AttnDecoderRNN(nn.Module):\n",
    "    def __init__(self, hidden_size, output_size, dropout_p=0.1, max_length=MAX_LENGTH):\n",
    "        super(AttnDecoderRNN, self).__init__()\n",
    "        self.hidden_size = hidden_size\n",
    "        self.output_size = output_size  # 추가\n",
    "        self.dropout_p   = dropout_p    # 추가\n",
    "        self.max_length = max_length # 추가\n",
    "        \n",
    "        self.embedding = nn.Embedding(output_size, hidden_size)\n",
    "\n",
    "        self.attn = nn.Linear(self.hidden_size * 2, self.max_length)                   # attn (Linear) Layer추가\n",
    "        self.attn_combine = nn.Linear(self.hidden_size * 2, self.hidden_size) # attn_combine (Linear) Layer추가\n",
    "        self.dropout = nn.Dropout(self.dropout_p)                                               # dropout Layer추가\n",
    "        \n",
    "        self.gru = nn.GRU(hidden_size, hidden_size)\n",
    "        self.out = nn.Linear(hidden_size, output_size)\n",
    "        self.softmax = nn.LogSoftmax(dim=1)                                                   # 주석 처리\n",
    "\n",
    "    def forward(self, input, hidden, encoder_outputs):  # encoder_outputs 추가\n",
    "        embedded = self.embedding(input).view(1, 1, -1)\n",
    "        output = embedded\n",
    "        \n",
    "        ### Attention Decoder 구조 추가\n",
    "        embedded = self.dropout(embedded)\n",
    "        attn_weights = F.softmax( self.attn(torch.cat((embedded[0], hidden[0]), 1)), dim=1 )\n",
    "        attn_applied = torch.bmm(attn_weights.unsqueeze(0),encoder_outputs.unsqueeze(0))\n",
    "\n",
    "        output = torch.cat((embedded[0], attn_applied[0]), 1)\n",
    "        output = self.attn_combine(output).unsqueeze(0)\n",
    "        output = F.relu(output)\n",
    "        ### \n",
    "        \n",
    "        output, hidden = self.gru(output, hidden)\n",
    "        output = self.softmax(self.out(output[0]))                        # 3D → 2D ( 한겹 벗기기 ) ※ 요소 : 16개(hidden_size)\n",
    "        return output, hidden, attn_weights                                  # attn_weights  리턴 추가\n",
    "    \n",
    "    def initSoS(self):\n",
    "        sos_init = Variable(torch.Tensor([[SOS_token]]).long().to(device))\n",
    "        return sos_init"
   ]
  },
  {
   "cell_type": "markdown",
   "id": "intended-smooth",
   "metadata": {},
   "source": [
    "#### 토큰화"
   ]
  },
  {
   "cell_type": "code",
   "execution_count": 123,
   "id": "handmade-solomon",
   "metadata": {},
   "outputs": [],
   "source": [
    "def tensorize(vocab, sentence):\n",
    "    indexes = [vocab.vocab2index[word] for word in sentence.split(\" \")]\n",
    "    indexes.append(vocab.vocab2index[\"<EOS>\"])\n",
    "    return torch.Tensor(indexes).long().to(device).view(-1, 1) # 특성1개 모양으로 : [2, 3, 4, 3, 5, 6, 1] → [ [2], [3], [4], [3], [5], [6], [1] ] "
   ]
  },
  {
   "cell_type": "markdown",
   "id": "active-solution",
   "metadata": {},
   "source": [
    "##### 토큰화 테스트"
   ]
  },
  {
   "cell_type": "code",
   "execution_count": 124,
   "id": "serial-venue",
   "metadata": {},
   "outputs": [
    {
     "name": "stdout",
     "output_type": "stream",
     "text": [
      "hello seq to seq model \n",
      "{0: '<SOS>', 1: '<EOS>', 2: 'hello', 3: 'seq', 4: 'to', 5: 'model', 6: ''}\n"
     ]
    },
    {
     "data": {
      "text/plain": [
       "tensor([[2],\n",
       "        [3],\n",
       "        [4],\n",
       "        [3],\n",
       "        [5],\n",
       "        [6],\n",
       "        [1]])"
      ]
     },
     "execution_count": 124,
     "metadata": {},
     "output_type": "execute_result"
    }
   ],
   "source": [
    "print(test_sentence)\n",
    "print(test_vocab.index2vocab)\n",
    "tensorize(test_vocab, test_sentence)"
   ]
  },
  {
   "cell_type": "markdown",
   "id": "ultimate-pennsylvania",
   "metadata": {},
   "source": [
    "##### n_iter만큼 랜덤 묶음 batch만큼 Pair 구성 테스트"
   ]
  },
  {
   "cell_type": "code",
   "execution_count": 125,
   "id": "polar-browser",
   "metadata": {},
   "outputs": [
    {
     "data": {
      "text/plain": [
       "[['pytorch is very clear to use.', '파이토치는 사용하기 매우 직관적이다.'],\n",
       " ['i feel hungry.', '나는 배가 고프다.'],\n",
       " ['pytorch is very easy.', '파이토치는 매우 쉽다.'],\n",
       " ['i feel hungry.', '나는 배가 고프다.'],\n",
       " ['pytorch is very clear to use.', '파이토치는 사용하기 매우 직관적이다.'],\n",
       " ['pytorch is very easy.', '파이토치는 매우 쉽다.'],\n",
       " ['pytorch is very clear to use.', '파이토치는 사용하기 매우 직관적이다.'],\n",
       " ['pytorch is very clear to use.', '파이토치는 사용하기 매우 직관적이다.'],\n",
       " ['i feel hungry.', '나는 배가 고프다.'],\n",
       " ['i feel hungry.', '나는 배가 고프다.']]"
      ]
     },
     "execution_count": 125,
     "metadata": {},
     "output_type": "execute_result"
    }
   ],
   "source": [
    "[random.choice(pairs) for _ in range(10)]"
   ]
  },
  {
   "cell_type": "markdown",
   "id": "variable-alexandria",
   "metadata": {},
   "source": [
    "### Train"
   ]
  },
  {
   "cell_type": "code",
   "execution_count": 144,
   "id": "compound-dependence",
   "metadata": {},
   "outputs": [],
   "source": [
    "def train(pairs, source_vocab, target_vocab, encoder, decoder, n_iter, print_every=1000, learning_rate=0.01, max_length=MAX_LENGTH):\n",
    "    loss_total = 0\n",
    "\n",
    "    # opt, loss  설정\n",
    "    encoder_optimizer = optim.SGD(encoder.parameters(), lr=learning_rate)\n",
    "    decoder_optimizer = optim.SGD(decoder.parameters(), lr=learning_rate)\n",
    "    criterion = nn.NLLLoss()\n",
    "    \n",
    "    # 배치단위로 src, tgt를 토큰화\n",
    "    training_batch = [random.choice(pairs) for _ in range(n_iter)] # n_iter만큼 랜덤묶음 batch 구성해줌\n",
    "    training_source = [tensorize(source_vocab, pair[0]) for pair in training_batch]\n",
    "    training_target = [tensorize(target_vocab, pair[1]) for pair in training_batch]\n",
    "\n",
    "    # batch 단위로 보면 될 듯(?)\n",
    "    for i in range(1, n_iter + 1):\n",
    "        source_tensor = training_source[i - 1] # idx를 1부터 시작해서 1씩 빼준 것 뿐\n",
    "        target_tensor = training_target[i - 1]   \n",
    "        \n",
    "        encoder_optimizer.zero_grad()\n",
    "        decoder_optimizer.zero_grad()\n",
    "\n",
    "        source_length = source_tensor.size(0)\n",
    "        target_length = target_tensor.size(0)\n",
    "\n",
    "        loss = 0\n",
    "        \n",
    "        # 최초 hidden은 0으로 채워진 모양으로 준비\n",
    "        encoder_hidden=encoder.initHidden()        \n",
    "        \n",
    "        #attn 추가\n",
    "        encoder_outputs = Variable(torch.zeros(max_length, encoder.hidden_size).to(device))\n",
    "        \n",
    "        # source문장 돌면서 토큰단위로 Encoding\n",
    "        for ei in range(source_length):                                 \n",
    "            encoder_output, encoder_hidden = encoder(source_tensor[ei], encoder_hidden) # encoder_output 활용 시작         \n",
    "            encoder_outputs[ei] = encoder_output[0][0]             \n",
    "    \n",
    "        # Decoding 준비\n",
    "        decoder_input = decoder.initSoS()\n",
    "        decoder_hidden = encoder_hidden\n",
    "\n",
    "        # target문장 돌면서 Decoder Loss →  훈련(back, step)\n",
    "        for di in range(target_length):                                                          # 시작 [ output의 마지막 hidden →연결→ decoder의 hidden ]                                                \n",
    "            decoder_output, decoder_hidden, decoder_attention = decoder(decoder_input, decoder_hidden, encoder_outputs)             # enc_out 입력, weight 출력 부분 추가\n",
    "            loss += criterion(decoder_output, target_tensor[di])              # 이후 결과로 나온 decoder_hidden→ 다음 hidden으로 계속 활용                \n",
    "            decoder_input = target_tensor[di]  # teacher forcing\n",
    "            \n",
    "        loss.backward()\n",
    "        encoder_optimizer.step()\n",
    "        decoder_optimizer.step()\n",
    "\n",
    "        loss_iter = loss.item() / target_length\n",
    "        loss_total += loss_iter\n",
    "\n",
    "        if i % print_every == 0:\n",
    "            loss_avg = loss_total / print_every\n",
    "            loss_total = 0\n",
    "            print(\"[{} - {}%] loss = {:05.4f}\".format(i, i / n_iter * 100, loss_avg))"
   ]
  },
  {
   "cell_type": "code",
   "execution_count": 136,
   "id": "centered-colombia",
   "metadata": {},
   "outputs": [
    {
     "data": {
      "text/plain": [
       "tensor([0.])"
      ]
     },
     "execution_count": 136,
     "metadata": {},
     "output_type": "execute_result"
    }
   ],
   "source": [
    "#  # RuntimeError: legacy constructor expects device type: cpubut device type: cuda was passed\n",
    "#  torch.Tensor([0], device=device)\n",
    "\n",
    "torch.Tensor([0]).to(device)"
   ]
  },
  {
   "cell_type": "markdown",
   "id": "supreme-investigator",
   "metadata": {},
   "source": [
    "### 평가"
   ]
  },
  {
   "cell_type": "code",
   "execution_count": 149,
   "id": "social-sampling",
   "metadata": {},
   "outputs": [],
   "source": [
    "def evaluate(pairs, source_vocab, target_vocab, encoder, decoder, target_max_length, max_length=MAX_LENGTH):\n",
    "    for pair in pairs:\n",
    "        print(\">\", pair[0])\n",
    "        print(\"=\", pair[1])\n",
    "\n",
    "        source_tensor = tensorize(source_vocab, pair[0])\n",
    "        source_length = source_tensor.size()[0]\n",
    "        \n",
    "        # Encoding 준비\n",
    "        encoder_hidden = encoder.initHidden()\n",
    "\n",
    "        #attn 추가\n",
    "        encoder_outputs = Variable(torch.zeros(max_length, encoder.hidden_size).to(device))\n",
    "\n",
    "        # source문장 돌면서 Encoding     \n",
    "        for ei in range(source_length):       \n",
    "            encoder_output, encoder_hidden = encoder(source_tensor[ei], encoder_hidden)             #  encoder_output 이제 attnDecoder에 활용 \n",
    "            encoder_outputs[ei] = encoder_outputs[ei] + encoder_output[0][0]                \n",
    "\n",
    "        # Decoding 준비\n",
    "        decoder_input = decoder.initSoS()   \n",
    "        decoder_hidden = encoder_hidden                                                      \n",
    "        \n",
    "        # Decoding\n",
    "        decoded_words = []\n",
    "        for di in range(target_max_length):\n",
    "            decoder_output, decoder_hidden, decoder_attention = decoder(decoder_input, decoder_hidden, encoder_outputs)             # enc_out 입력, weight 출력 부분 추가\n",
    "            _, top_index = decoder_output.data.topk(1)\n",
    "            \n",
    "            # 디코더 끝이면(<EOS>) 종료\n",
    "            if top_index.item() == EOS_token:\n",
    "                decoded_words.append(\"<EOS>\")\n",
    "                break\n",
    "            else:\n",
    "                decoded_words.append(target_vocab.index2vocab[top_index.item()])\n",
    "\n",
    "            decoder_input = top_index.squeeze().detach()\n",
    "\n",
    "        predict_words = decoded_words\n",
    "        predict_sentence = \" \".join(predict_words)\n",
    "        print(\"<\", predict_sentence)\n",
    "        print(\"\")"
   ]
  },
  {
   "cell_type": "markdown",
   "id": "conceptual-antigua",
   "metadata": {},
   "source": [
    "### main"
   ]
  },
  {
   "cell_type": "code",
   "execution_count": 150,
   "id": "clear-philosophy",
   "metadata": {
    "tags": []
   },
   "outputs": [
    {
     "name": "stdout",
     "output_type": "stream",
     "text": [
      "[preprocess] reading corpus...\n",
      "[preprocess] Read 4 sentence pairs\n",
      "[preprocess] Trimmed to 4 sentence pairs\n",
      "[preprocess] Counting words...\n",
      "[preprocess] source vocab size = 17\n",
      "[preprocess] target vocab size = 13\n",
      "\n",
      "▶Pair모양 확인(random) :  ['i feel hungry.', '나는 배가 고프다.']\n",
      "\n",
      "▶인코더/디코더 선언\n",
      "\n",
      "▶훈련시작 >>>>>>>>>>> train()\n",
      "\n",
      "▶전체 평가 >>>>>>>>>>> evaluate()\n",
      "> i feel hungry.\n",
      "= 나는 배가 고프다.\n",
      "< <EOS>\n",
      "\n",
      "> pytorch is very easy.\n",
      "= 파이토치는 매우 쉽다.\n",
      "< <EOS>\n",
      "\n",
      "> pytorch is a framework for deep learning.\n",
      "= 파이토치는 딥러닝을 위한 프레임워크이다.\n",
      "< <EOS>\n",
      "\n",
      "> pytorch is very clear to use.\n",
      "= 파이토치는 사용하기 매우 직관적이다.\n",
      "< <EOS>\n",
      "\n"
     ]
    }
   ],
   "source": [
    "SOURCE_MAX_LENGTH = 10\n",
    "TARGET_MAX_LENGTH = 12\n",
    "\n",
    "load_pairs, load_source_vocab, load_target_vocab = preprocess(raw, SOURCE_MAX_LENGTH, TARGET_MAX_LENGTH)\n",
    "print(\"\\n▶Pair모양 확인(random) : \", random.choice(load_pairs))\n",
    "\n",
    "print(\"\\n▶인코더/디코더 선언\")\n",
    "enc_hidden_size = 16\n",
    "dec_hidden_size = enc_hidden_size\n",
    "\n",
    "enc = EncoderRNN(load_source_vocab.n_vocab, enc_hidden_size).to(device)\n",
    "# dec = DecoderRNN(dec_hidden_size, load_target_vocab.n_vocab).to(device)\n",
    "attn_dec = AttnDecoderRNN(dec_hidden_size, load_target_vocab.n_vocab, dropout_p=0.1).to(device)\n",
    "\n",
    "print(\"\\n▶훈련시작 >>>>>>>>>>> train()\")\n",
    "train(load_pairs, load_source_vocab, load_target_vocab, enc, attn_dec, 100, print_every=1000)\n",
    "\n",
    "print(\"\\n▶전체 평가 >>>>>>>>>>> evaluate()\")\n",
    "evaluate(load_pairs, load_source_vocab, load_target_vocab, enc, attn_dec, TARGET_MAX_LENGTH)"
   ]
  }
 ],
 "metadata": {
  "kernelspec": {
   "display_name": "Python My Env",
   "language": "python",
   "name": "python-my-env"
  },
  "language_info": {
   "codemirror_mode": {
    "name": "ipython",
    "version": 3
   },
   "file_extension": ".py",
   "mimetype": "text/x-python",
   "name": "python",
   "nbconvert_exporter": "python",
   "pygments_lexer": "ipython3",
   "version": "3.6.13"
  },
  "widgets": {
   "application/vnd.jupyter.widget-state+json": {
    "state": {},
    "version_major": 2,
    "version_minor": 0
   }
  }
 },
 "nbformat": 4,
 "nbformat_minor": 5
}
