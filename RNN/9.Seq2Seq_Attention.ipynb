{
 "cells": [
  {
   "cell_type": "code",
   "execution_count": 88,
   "id": "original-diagram",
   "metadata": {},
   "outputs": [
    {
     "data": {
      "text/plain": [
       "['I feel hungry.\\t나는 배가 고프다.',\n",
       " 'Pytorch is very easy.\\t파이토치는 매우 쉽다.',\n",
       " 'Pytorch is a framework for deep learning.\\t파이토치는 딥러닝을 위한 프레임워크이다.',\n",
       " 'Pytorch is very clear to use.\\t파이토치는 사용하기 매우 직관적이다.']"
      ]
     },
     "execution_count": 88,
     "metadata": {},
     "output_type": "execute_result"
    }
   ],
   "source": [
    "# main reference\n",
    "# https://pytorch.org/tutorials/intermediate/seq2seq_translation_tutorial.html\n",
    "\n",
    "import random\n",
    "import torch\n",
    "import torch.nn as nn\n",
    "import torch.optim as optim\n",
    "\n",
    "from torch.autograd import Variable\n",
    "import torch.nn.functional as F\n",
    "\n",
    "torch.manual_seed(0)\n",
    "device = torch.device(\"cuda\" if torch.cuda.is_available() else \"cpu\")\n",
    "\n",
    "raw = [\"I feel hungry.\t나는 배가 고프다.\",\n",
    "       \"Pytorch is very easy.\t파이토치는 매우 쉽다.\",\n",
    "       \"Pytorch is a framework for deep learning.\t파이토치는 딥러닝을 위한 프레임워크이다.\",\n",
    "       \"Pytorch is very clear to use.\t파이토치는 사용하기 매우 직관적이다.\"]\n",
    "\n",
    "SOS_token = 0\n",
    "EOS_token = 1\n",
    "\n",
    "MAX_LENGTH = 50\n",
    "\n",
    "raw"
   ]
  },
  {
   "cell_type": "markdown",
   "id": "fossil-twins",
   "metadata": {},
   "source": [
    "#### 단어사전 Class"
   ]
  },
  {
   "cell_type": "code",
   "execution_count": 89,
   "id": "insured-jackson",
   "metadata": {},
   "outputs": [],
   "source": [
    "class Vocab:\n",
    "    def __init__(self):                                                                                             # 'hello seq to seq model '\n",
    "        self.vocab2index = {\"<SOS>\": SOS_token, \"<EOS>\": EOS_token}     # {'<SOS>': 0, '<EOS>': 1, 'hello': 2, 'seq': 3, 'to': 4, 'model': 5, '': 6}\n",
    "        self.index2vocab = {SOS_token: \"<SOS>\", EOS_token: \"<EOS>\"}     # {0: '<SOS>', 1: '<EOS>', 2: 'hello', 3: 'seq', 4: 'to', 5: 'model', 6: ''}\n",
    "        self.vocab_count = {}                                                                                  # {'hello': 1, 'seq': 2, 'to': 1, 'model': 1, '': 1}\n",
    "        self.n_vocab = len(self.vocab2index)                                                       # 7\n",
    "\n",
    "    def add_vocab(self, sentence):\n",
    "        for word in sentence.split(\" \"):\n",
    "            if word not in self.vocab2index:\n",
    "                self.vocab2index[word] = self.n_vocab\n",
    "                self.vocab_count[word] = 1\n",
    "                self.index2vocab[self.n_vocab] = word\n",
    "                self.n_vocab += 1\n",
    "            else:\n",
    "                self.vocab_count[word] += 1"
   ]
  },
  {
   "cell_type": "markdown",
   "id": "quantitative-intersection",
   "metadata": {},
   "source": [
    "##### 단어사전 test"
   ]
  },
  {
   "cell_type": "code",
   "execution_count": 90,
   "id": "statutory-tattoo",
   "metadata": {},
   "outputs": [
    {
     "name": "stdout",
     "output_type": "stream",
     "text": [
      "vocab2index: \t {'<SOS>': 0, '<EOS>': 1, 'hello': 2, 'seq': 3, 'to': 4, 'model': 5, '': 6}\n",
      "index2vocab: \t {0: '<SOS>', 1: '<EOS>', 2: 'hello', 3: 'seq', 4: 'to', 5: 'model', 6: ''}\n",
      "vocab_count: \t {'hello': 1, 'seq': 2, 'to': 1, 'model': 1, '': 1}\n",
      "n_vocab: \t\t 7\n"
     ]
    }
   ],
   "source": [
    "test_sentence = 'hello seq to seq model '\n",
    "\n",
    "test_vocab = Vocab()\n",
    "test_vocab.add_vocab(test_sentence)\n",
    "print(\"vocab2index: \\t\", test_vocab.vocab2index)\n",
    "print(\"index2vocab: \\t\", test_vocab.index2vocab)\n",
    "print(\"vocab_count: \\t\", test_vocab.vocab_count)\n",
    "print(\"n_vocab: \\t\\t\", test_vocab.n_vocab)"
   ]
  },
  {
   "cell_type": "markdown",
   "id": "pretty-acrylic",
   "metadata": {},
   "source": [
    "#### filter_pair : pair(src, tgt)가 모두 Max Length 이하인지 여부"
   ]
  },
  {
   "cell_type": "code",
   "execution_count": 91,
   "id": "raised-latest",
   "metadata": {},
   "outputs": [],
   "source": [
    "def filter_pair(pair, source_max_length, target_max_length):\n",
    "    return len(pair[0].split(\" \")) < source_max_length and len(pair[1].split(\" \")) < target_max_length"
   ]
  },
  {
   "cell_type": "code",
   "execution_count": 92,
   "id": "wired-plumbing",
   "metadata": {},
   "outputs": [
    {
     "name": "stdout",
     "output_type": "stream",
     "text": [
      "Read 4 sentence pairs\n",
      "['i feel hungry.', '나는 배가 고프다.']\n",
      "True\n",
      "False\n"
     ]
    }
   ],
   "source": [
    "pairs = []\n",
    "for line in raw:\n",
    "    pairs.append([s for s in line.strip().lower().split(\"\\t\")])\n",
    "print(\"Read {} sentence pairs\".format(len(pairs)))\n",
    "print(pairs[0])\n",
    "\n",
    "print(filter_pair(pairs[0], 10, 12))\n",
    "print(filter_pair(pairs[0], 3, 3))"
   ]
  },
  {
   "cell_type": "markdown",
   "id": "anticipated-malpractice",
   "metadata": {},
   "source": [
    "### 전처리 "
   ]
  },
  {
   "cell_type": "code",
   "execution_count": 93,
   "id": "regulation-cookie",
   "metadata": {},
   "outputs": [],
   "source": [
    "def preprocess(corpus, source_max_length, target_max_length):\n",
    "\n",
    "    # 문장별로 pair 간단히 만들어줌\n",
    "    print(\"[preprocess] reading corpus...\")\n",
    "    pairs = []\n",
    "    for line in corpus:\n",
    "        pairs.append([s for s in line.strip().lower().split(\"\\t\")])\n",
    "    print(\"[preprocess] Read {} sentence pairs\".format(len(pairs)))\n",
    "\n",
    "    # (src, tgt) 둘다 max length 이하인 경우만 통과\n",
    "    pairs = [pair for pair in pairs if filter_pair(pair, source_max_length, target_max_length)]\n",
    "    print(\"[preprocess] Trimmed to {} sentence pairs\".format(len(pairs)))\n",
    "\n",
    "    # vocab 2개 생성\n",
    "    source_vocab = Vocab() \n",
    "    target_vocab = Vocab()\n",
    "\n",
    "    # src들 → src_vocab에 추가, tgt들 → tgt_vocab에 추가\n",
    "    print(\"[preprocess] Counting words...\")\n",
    "    for pair in pairs:\n",
    "        source_vocab.add_vocab(pair[0])\n",
    "        target_vocab.add_vocab(pair[1])\n",
    "    print(\"[preprocess] source vocab size =\", source_vocab.n_vocab)\n",
    "    print(\"[preprocess] target vocab size =\", target_vocab.n_vocab)\n",
    "\n",
    "    # 리턴, pairs원본, 소스모음vocab, 타겟모음vocab\n",
    "    return pairs, source_vocab, target_vocab"
   ]
  },
  {
   "cell_type": "code",
   "execution_count": 94,
   "id": "grave-flashing",
   "metadata": {},
   "outputs": [
    {
     "name": "stdout",
     "output_type": "stream",
     "text": [
      "[preprocess] reading corpus...\n",
      "[preprocess] Read 4 sentence pairs\n",
      "[preprocess] Trimmed to 4 sentence pairs\n",
      "[preprocess] Counting words...\n",
      "[preprocess] source vocab size = 17\n",
      "[preprocess] target vocab size = 13\n"
     ]
    },
    {
     "data": {
      "text/plain": [
       "([['i feel hungry.', '나는 배가 고프다.'],\n",
       "  ['pytorch is very easy.', '파이토치는 매우 쉽다.'],\n",
       "  ['pytorch is a framework for deep learning.', '파이토치는 딥러닝을 위한 프레임워크이다.'],\n",
       "  ['pytorch is very clear to use.', '파이토치는 사용하기 매우 직관적이다.']],\n",
       " <__main__.Vocab at 0x7f2995468438>,\n",
       " <__main__.Vocab at 0x7f2995468198>)"
      ]
     },
     "execution_count": 94,
     "metadata": {},
     "output_type": "execute_result"
    }
   ],
   "source": [
    "preprocess(raw, 10, 12)"
   ]
  },
  {
   "cell_type": "code",
   "execution_count": 147,
   "id": "special-avatar",
   "metadata": {},
   "outputs": [],
   "source": [
    "class EncoderRNN(nn.Module):\n",
    "    def __init__(self, input_size, hidden_size):\n",
    "        super(EncoderRNN, self).__init__()\n",
    "        self.hidden_size = hidden_size\n",
    "        self.embedding = nn.Embedding(input_size, hidden_size)\n",
    "        self.gru = nn.GRU(hidden_size, hidden_size)\n",
    "\n",
    "    def forward(self, input, hidden):\n",
    "        embedded = self.embedding(input).view(1, 1, -1)\n",
    "        output = embedded\n",
    "        output, hidden = self.gru(output, hidden)\n",
    "        return output, hidden\n",
    "    \n",
    "    def initHidden(self):\n",
    "        zero_init = Variable(torch.zeros(1, 1, self.hidden_size)).to(device)    \n",
    "        return zero_init"
   ]
  },
  {
   "cell_type": "code",
   "execution_count": 121,
   "id": "passing-lightning",
   "metadata": {},
   "outputs": [],
   "source": [
    "class DecoderRNN(nn.Module):\n",
    "    def __init__(self, hidden_size, output_size):\n",
    "        super(DecoderRNN, self).__init__()\n",
    "        self.hidden_size = hidden_size\n",
    "        self.embedding = nn.Embedding(output_size, hidden_size)\n",
    "        self.gru = nn.GRU(hidden_size, hidden_size)\n",
    "        self.out = nn.Linear(hidden_size, output_size)\n",
    "        self.softmax = nn.LogSoftmax(dim=1)\n",
    "\n",
    "    def forward(self, input, hidden):\n",
    "        embedded = self.embedding(input).view(1, 1, -1)\n",
    "        output = embedded\n",
    "        output, hidden = self.gru(output, hidden)\n",
    "        output = self.softmax(self.out(output[0]))                        # 3D → 2D  # tensor([[[-0.1669, ... ,  0.4492]]])  → tensor([[-0.1669, ... ,  0.4492]]) ※ 요소 : 16개(hidden_size)\n",
    "        return output, hidden\n",
    "    \n",
    "    def initSoS(self):\n",
    "        sos_init = Variable(torch.Tensor([[SOS_token]]).long().to(device))\n",
    "        return sos_init"
   ]
  },
  {
   "cell_type": "code",
   "execution_count": 122,
   "id": "acceptable-keyboard",
   "metadata": {},
   "outputs": [],
   "source": [
    "class AttnDecoderRNN(nn.Module):\n",
    "    def __init__(self, hidden_size, output_size, dropout_p=0.1, max_length=MAX_LENGTH):\n",
    "        super(AttnDecoderRNN, self).__init__()\n",
    "        self.hidden_size = hidden_size\n",
    "        self.output_size = output_size  # 추가\n",
    "        self.dropout_p   = dropout_p    # 추가\n",
    "        self.max_length = max_length # 추가\n",
    "        \n",
    "        self.embedding = nn.Embedding(output_size, hidden_size)\n",
    "\n",
    "        self.attn = nn.Linear(self.hidden_size * 2, self.max_length)                   # attn (Linear) Layer추가\n",
    "        self.attn_combine = nn.Linear(self.hidden_size * 2, self.hidden_size) # attn_combine (Linear) Layer추가\n",
    "        self.dropout = nn.Dropout(self.dropout_p)                                               # dropout Layer추가\n",
    "        \n",
    "        self.gru = nn.GRU(hidden_size, hidden_size)\n",
    "        self.out = nn.Linear(hidden_size, output_size)\n",
    "        self.softmax = nn.LogSoftmax(dim=1)                                                   # 주석 처리\n",
    "\n",
    "    def forward(self, input, hidden, encoder_outputs):  # encoder_outputs 추가\n",
    "        embedded = self.embedding(input).view(1, 1, -1)\n",
    "        output = embedded\n",
    "        \n",
    "        ### Attention Decoder 구조 추가\n",
    "        embedded = self.dropout(embedded)\n",
    "        attn_weights = F.softmax( self.attn(torch.cat((embedded[0], hidden[0]), 1)), dim=1 )\n",
    "        attn_applied = torch.bmm(attn_weights.unsqueeze(0),encoder_outputs.unsqueeze(0))\n",
    "\n",
    "        output = torch.cat((embedded[0], attn_applied[0]), 1)\n",
    "        output = self.attn_combine(output).unsqueeze(0)\n",
    "        output = F.relu(output)\n",
    "        ### \n",
    "        \n",
    "        output, hidden = self.gru(output, hidden)\n",
    "        output = self.softmax(self.out(output[0]))                        # 3D → 2D ( 한겹 벗기기 ) ※ 요소 : 16개(hidden_size)\n",
    "        return output, hidden, attn_weights                                  # attn_weights  리턴 추가\n",
    "    \n",
    "    def initSoS(self):\n",
    "        sos_init = Variable(torch.Tensor([[SOS_token]]).long().to(device))\n",
    "        return sos_init"
   ]
  },
  {
   "cell_type": "markdown",
   "id": "novel-transition",
   "metadata": {},
   "source": [
    "#### 토큰화"
   ]
  },
  {
   "cell_type": "code",
   "execution_count": 123,
   "id": "respiratory-situation",
   "metadata": {},
   "outputs": [],
   "source": [
    "def tensorize(vocab, sentence):\n",
    "    indexes = [vocab.vocab2index[word] for word in sentence.split(\" \")]\n",
    "    indexes.append(vocab.vocab2index[\"<EOS>\"])\n",
    "    return torch.Tensor(indexes).long().to(device).view(-1, 1) # 특성1개 모양으로 : [2, 3, 4, 3, 5, 6, 1] → [ [2], [3], [4], [3], [5], [6], [1] ] "
   ]
  },
  {
   "cell_type": "markdown",
   "id": "overhead-seeker",
   "metadata": {},
   "source": [
    "##### 토큰화 테스트"
   ]
  },
  {
   "cell_type": "code",
   "execution_count": 124,
   "id": "alpha-sponsorship",
   "metadata": {},
   "outputs": [
    {
     "name": "stdout",
     "output_type": "stream",
     "text": [
      "hello seq to seq model \n",
      "{0: '<SOS>', 1: '<EOS>', 2: 'hello', 3: 'seq', 4: 'to', 5: 'model', 6: ''}\n"
     ]
    },
    {
     "data": {
      "text/plain": [
       "tensor([[2],\n",
       "        [3],\n",
       "        [4],\n",
       "        [3],\n",
       "        [5],\n",
       "        [6],\n",
       "        [1]])"
      ]
     },
     "execution_count": 124,
     "metadata": {},
     "output_type": "execute_result"
    }
   ],
   "source": [
    "print(test_sentence)\n",
    "print(test_vocab.index2vocab)\n",
    "tensorize(test_vocab, test_sentence)"
   ]
  },
  {
   "cell_type": "markdown",
   "id": "inappropriate-union",
   "metadata": {},
   "source": [
    "##### n_iter만큼 랜덤 묶음 batch만큼 Pair 구성 테스트"
   ]
  },
  {
   "cell_type": "code",
   "execution_count": 125,
   "id": "recovered-dubai",
   "metadata": {},
   "outputs": [
    {
     "data": {
      "text/plain": [
       "[['pytorch is very clear to use.', '파이토치는 사용하기 매우 직관적이다.'],\n",
       " ['i feel hungry.', '나는 배가 고프다.'],\n",
       " ['pytorch is very easy.', '파이토치는 매우 쉽다.'],\n",
       " ['i feel hungry.', '나는 배가 고프다.'],\n",
       " ['pytorch is very clear to use.', '파이토치는 사용하기 매우 직관적이다.'],\n",
       " ['pytorch is very easy.', '파이토치는 매우 쉽다.'],\n",
       " ['pytorch is very clear to use.', '파이토치는 사용하기 매우 직관적이다.'],\n",
       " ['pytorch is very clear to use.', '파이토치는 사용하기 매우 직관적이다.'],\n",
       " ['i feel hungry.', '나는 배가 고프다.'],\n",
       " ['i feel hungry.', '나는 배가 고프다.']]"
      ]
     },
     "execution_count": 125,
     "metadata": {},
     "output_type": "execute_result"
    }
   ],
   "source": [
    "[random.choice(pairs) for _ in range(10)]"
   ]
  },
  {
   "cell_type": "markdown",
   "id": "prescription-affiliation",
   "metadata": {},
   "source": [
    "### Train"
   ]
  },
  {
   "cell_type": "code",
   "execution_count": 144,
   "id": "gentle-alexander",
   "metadata": {},
   "outputs": [],
   "source": [
    "def train(pairs, source_vocab, target_vocab, encoder, decoder, n_iter, print_every=1000, learning_rate=0.01, max_length=MAX_LENGTH):\n",
    "    loss_total = 0\n",
    "\n",
    "    # opt, loss  설정\n",
    "    encoder_optimizer = optim.SGD(encoder.parameters(), lr=learning_rate)\n",
    "    decoder_optimizer = optim.SGD(decoder.parameters(), lr=learning_rate)\n",
    "    criterion = nn.NLLLoss()\n",
    "    \n",
    "    # 배치단위로 src, tgt를 토큰화\n",
    "    training_batch = [random.choice(pairs) for _ in range(n_iter)] # n_iter만큼 랜덤묶음 batch 구성해줌\n",
    "    training_source = [tensorize(source_vocab, pair[0]) for pair in training_batch]\n",
    "    training_target = [tensorize(target_vocab, pair[1]) for pair in training_batch]\n",
    "\n",
    "    # batch 단위로 보면 될 듯(?)\n",
    "    for i in range(1, n_iter + 1):\n",
    "        source_tensor = training_source[i - 1] # idx를 1부터 시작해서 1씩 빼준 것 뿐\n",
    "        target_tensor = training_target[i - 1]   \n",
    "        \n",
    "        encoder_optimizer.zero_grad()\n",
    "        decoder_optimizer.zero_grad()\n",
    "\n",
    "        source_length = source_tensor.size(0)\n",
    "        target_length = target_tensor.size(0)\n",
    "\n",
    "        loss = 0\n",
    "        \n",
    "        # 최초 hidden은 0으로 채워진 모양으로 준비\n",
    "        encoder_hidden=encoder.initHidden()        \n",
    "        \n",
    "        #attn 추가\n",
    "        encoder_outputs = Variable(torch.zeros(max_length, encoder.hidden_size).to(device))\n",
    "        \n",
    "        # source문장 돌면서 토큰단위로 Encoding\n",
    "        for ei in range(source_length):                                 \n",
    "            encoder_output, encoder_hidden = encoder(source_tensor[ei], encoder_hidden) # encoder_output 활용 시작         \n",
    "            encoder_outputs[ei] = encoder_output[0][0]             \n",
    "    \n",
    "        # Decoding 준비\n",
    "        decoder_input = decoder.initSoS()\n",
    "        decoder_hidden = encoder_hidden\n",
    "\n",
    "        # target문장 돌면서 Decoder Loss →  훈련(back, step)\n",
    "        for di in range(target_length):                                                          # 시작 [ output의 마지막 hidden →연결→ decoder의 hidden ]                                                \n",
    "            decoder_output, decoder_hidden, decoder_attention = decoder(decoder_input, decoder_hidden, encoder_outputs)             # enc_out 입력, weight 출력 부분 추가\n",
    "            loss += criterion(decoder_output, target_tensor[di])              # 이후 결과로 나온 decoder_hidden→ 다음 hidden으로 계속 활용                \n",
    "            decoder_input = target_tensor[di]  # teacher forcing\n",
    "            \n",
    "        loss.backward()\n",
    "        encoder_optimizer.step()\n",
    "        decoder_optimizer.step()\n",
    "\n",
    "        loss_iter = loss.item() / target_length\n",
    "        loss_total += loss_iter\n",
    "\n",
    "        if i % print_every == 0:\n",
    "            loss_avg = loss_total / print_every\n",
    "            loss_total = 0\n",
    "            print(\"[{} - {}%] loss = {:05.4f}\".format(i, i / n_iter * 100, loss_avg))"
   ]
  },
  {
   "cell_type": "code",
   "execution_count": 136,
   "id": "israeli-hello",
   "metadata": {},
   "outputs": [
    {
     "data": {
      "text/plain": [
       "tensor([0.])"
      ]
     },
     "execution_count": 136,
     "metadata": {},
     "output_type": "execute_result"
    }
   ],
   "source": [
    "#  # RuntimeError: legacy constructor expects device type: cpubut device type: cuda was passed\n",
    "#  torch.Tensor([0], device=device)\n",
    "\n",
    "torch.Tensor([0]).to(device)"
   ]
  },
  {
   "cell_type": "markdown",
   "id": "biological-feeling",
   "metadata": {},
   "source": [
    "### 평가"
   ]
  },
  {
   "cell_type": "code",
   "execution_count": 167,
   "id": "excellent-contact",
   "metadata": {},
   "outputs": [],
   "source": [
    "import numpy as np\n",
    "import seaborn as sns"
   ]
  },
  {
   "cell_type": "code",
   "execution_count": 181,
   "id": "polished-heritage",
   "metadata": {},
   "outputs": [],
   "source": [
    "def evaluate(pairs, source_vocab, target_vocab, encoder, decoder, target_max_length, max_length=MAX_LENGTH):\n",
    "    for pair in pairs:\n",
    "        print(\">\", pair[0])\n",
    "        print(\"=\", pair[1])\n",
    "\n",
    "        source_tensor = tensorize(source_vocab, pair[0])\n",
    "        source_length = source_tensor.size()[0]\n",
    "        \n",
    "        # Encoding 준비\n",
    "        encoder_hidden = encoder.initHidden()\n",
    "\n",
    "        #attn 추가\n",
    "        encoder_outputs = Variable(torch.zeros(max_length, encoder.hidden_size).to(device))\n",
    "\n",
    "        # source문장 돌면서 Encoding     \n",
    "        for ei in range(source_length):       \n",
    "            encoder_output, encoder_hidden = encoder(source_tensor[ei], encoder_hidden)             #  encoder_output 이제 attnDecoder에 활용 \n",
    "            encoder_outputs[ei] = encoder_outputs[ei] + encoder_output[0][0]                \n",
    "\n",
    "        # Decoding 준비\n",
    "        decoder_input = decoder.initSoS()   \n",
    "        decoder_hidden = encoder_hidden                                                      \n",
    "        \n",
    "        # Decoding\n",
    "        decoded_words = []\n",
    "        decoder_attentions = torch.zeros(max_length, max_length)\n",
    "            \n",
    "        for di in range(target_max_length):\n",
    "            decoder_output, decoder_hidden, decoder_attention = decoder(decoder_input, decoder_hidden, encoder_outputs)             # enc_out 입력, weight 출력 부분 추가\n",
    "            decoder_attentions[di] = decoder_attention.data\n",
    "            _, top_index = decoder_output.data.topk(1)\n",
    "            \n",
    "            # 디코더 끝이면(<EOS>) 종료\n",
    "            if top_index.item() == EOS_token:\n",
    "                decoded_words.append(\"<EOS>\")\n",
    "                break\n",
    "            else:\n",
    "                decoded_words.append(target_vocab.index2vocab[top_index.item()])\n",
    "\n",
    "            decoder_input = top_index.squeeze().detach()\n",
    "\n",
    "        predict_words = decoded_words\n",
    "        predict_sentence = \" \".join(predict_words)\n",
    "        print(\"<\", predict_sentence)\n",
    "        print(\"\")\n",
    "        print(\"decoder_attention.shape : \", decoder_attention.shape)\n",
    "        print(\"decoder_attention : \", decoder_attention[:di+1].detach().numpy())"
   ]
  },
  {
   "cell_type": "markdown",
   "id": "noted-gibraltar",
   "metadata": {},
   "source": [
    "### main"
   ]
  },
  {
   "cell_type": "code",
   "execution_count": 180,
   "id": "solid-internet",
   "metadata": {
    "tags": []
   },
   "outputs": [
    {
     "name": "stdout",
     "output_type": "stream",
     "text": [
      "[preprocess] reading corpus...\n",
      "[preprocess] Read 4 sentence pairs\n",
      "[preprocess] Trimmed to 4 sentence pairs\n",
      "[preprocess] Counting words...\n",
      "[preprocess] source vocab size = 17\n",
      "[preprocess] target vocab size = 13\n",
      "\n",
      "▶Pair모양 확인(random) :  ['pytorch is very clear to use.', '파이토치는 사용하기 매우 직관적이다.']\n",
      "\n",
      "▶인코더/디코더 선언\n",
      "\n",
      "▶훈련시작 >>>>>>>>>>> train()\n",
      "\n",
      "▶전체 평가 >>>>>>>>>>> evaluate()\n",
      "> i feel hungry.\n",
      "= 나는 배가 고프다.\n",
      "< 파이토치는 <EOS>\n",
      "\n",
      "decoder_attention.shape :  torch.Size([1, 50])\n",
      "decoder_attention :  [[0.0172065  0.01651089 0.02229207 0.03606767 0.0341313  0.01957956\n",
      "  0.0107967  0.02781163 0.02049082 0.01272375 0.02261607 0.02802904\n",
      "  0.02223894 0.04455445 0.01681549 0.01123761 0.01876548 0.01656967\n",
      "  0.00764475 0.01541826 0.02089866 0.00972778 0.00598188 0.03831386\n",
      "  0.01299775 0.02506229 0.01614982 0.02002547 0.01354413 0.03525115\n",
      "  0.00677523 0.02950615 0.0119466  0.01831561 0.01985232 0.00960566\n",
      "  0.02905442 0.01509971 0.0069574  0.01069265 0.02148312 0.02966379\n",
      "  0.02411496 0.0152854  0.01978196 0.03574554 0.03284624 0.00806342\n",
      "  0.01393347 0.0218228 ]]\n",
      "> pytorch is very easy.\n",
      "= 파이토치는 매우 쉽다.\n",
      "< 파이토치는 <EOS>\n",
      "\n",
      "decoder_attention.shape :  torch.Size([1, 50])\n",
      "decoder_attention :  [[0.01321474 0.01888276 0.02198259 0.02438833 0.0244161  0.02461106\n",
      "  0.00710611 0.03615949 0.01222471 0.0099989  0.01820353 0.01886658\n",
      "  0.01773805 0.05849556 0.01537154 0.0134824  0.0242552  0.01286901\n",
      "  0.0071059  0.01254988 0.01542978 0.01078539 0.00513758 0.03585482\n",
      "  0.01445784 0.02434882 0.01946006 0.02927219 0.01263232 0.03045425\n",
      "  0.00842914 0.03185335 0.01609403 0.01670158 0.02424071 0.00853359\n",
      "  0.03433841 0.01379584 0.00932595 0.00717365 0.02069438 0.03330021\n",
      "  0.02629761 0.01786195 0.01586548 0.03305425 0.04531413 0.00871353\n",
      "  0.01453749 0.02411915]]\n",
      "> pytorch is a framework for deep learning.\n",
      "= 파이토치는 딥러닝을 위한 프레임워크이다.\n",
      "< 파이토치는 <EOS>\n",
      "\n",
      "decoder_attention.shape :  torch.Size([1, 50])\n",
      "decoder_attention :  [[0.01322598 0.01595965 0.02182211 0.02389552 0.01970406 0.02466416\n",
      "  0.00779538 0.03573771 0.01144578 0.0095614  0.02037624 0.01608567\n",
      "  0.0212379  0.05539194 0.01529296 0.01468973 0.02643811 0.01626485\n",
      "  0.00831748 0.01200188 0.01803582 0.01068721 0.00572919 0.03249731\n",
      "  0.01317999 0.02275035 0.02284222 0.02474878 0.01150665 0.02806652\n",
      "  0.00923367 0.02631464 0.01283759 0.01950469 0.02024603 0.01000335\n",
      "  0.0360071  0.01425031 0.01003333 0.0088502  0.02221286 0.03071727\n",
      "  0.03172273 0.01620418 0.01784602 0.02705112 0.05290717 0.00887528\n",
      "  0.01528656 0.02994331]]\n",
      "> pytorch is very clear to use.\n",
      "= 파이토치는 사용하기 매우 직관적이다.\n",
      "< 파이토치는 <EOS>\n",
      "\n",
      "decoder_attention.shape :  torch.Size([1, 50])\n",
      "decoder_attention :  [[0.01434984 0.02516554 0.01788559 0.02191224 0.02325273 0.02354855\n",
      "  0.00843391 0.02283434 0.01104655 0.00837302 0.01828038 0.02148982\n",
      "  0.02092069 0.04103812 0.01746511 0.02046774 0.02607088 0.01370322\n",
      "  0.00682919 0.01587306 0.0192344  0.01011272 0.00665618 0.03845721\n",
      "  0.0143707  0.01892725 0.02823798 0.02127923 0.0096121  0.02909945\n",
      "  0.01483333 0.02721125 0.01869229 0.02187131 0.0291995  0.0107298\n",
      "  0.03267806 0.01426864 0.00983743 0.00959352 0.02076881 0.02817009\n",
      "  0.02826433 0.0252729  0.01569824 0.0281657  0.02814343 0.01044664\n",
      "  0.01866226 0.03256475]]\n"
     ]
    },
    {
     "data": {
      "image/png": "[encoded data removed]",
      "text/plain": [
       "<Figure size 432x288 with 5 Axes>"
      ]
     },
     "metadata": {
      "needs_background": "light"
     },
     "output_type": "display_data"
    }
   ],
   "source": [
    "SOURCE_MAX_LENGTH = 10\n",
    "TARGET_MAX_LENGTH = 12\n",
    "\n",
    "load_pairs, load_source_vocab, load_target_vocab = preprocess(raw, SOURCE_MAX_LENGTH, TARGET_MAX_LENGTH)\n",
    "print(\"\\n▶Pair모양 확인(random) : \", random.choice(load_pairs))\n",
    "\n",
    "print(\"\\n▶인코더/디코더 선언\")\n",
    "enc_hidden_size = 16\n",
    "dec_hidden_size = enc_hidden_size\n",
    "\n",
    "enc = EncoderRNN(load_source_vocab.n_vocab, enc_hidden_size).to(device)\n",
    "# dec = DecoderRNN(dec_hidden_size, load_target_vocab.n_vocab).to(device)\n",
    "attn_dec = AttnDecoderRNN(dec_hidden_size, load_target_vocab.n_vocab, dropout_p=0.1).to(device)\n",
    "\n",
    "print(\"\\n▶훈련시작 >>>>>>>>>>> train()\")\n",
    "train(load_pairs, load_source_vocab, load_target_vocab, enc, attn_dec, 100, print_every=1000)\n",
    "\n",
    "print(\"\\n▶전체 평가 >>>>>>>>>>> evaluate()\")\n",
    "evaluate(load_pairs, load_source_vocab, load_target_vocab, enc, attn_dec, TARGET_MAX_LENGTH)"
   ]
  },
  {
   "cell_type": "code",
   "execution_count": null,
   "id": "enhanced-survival",
   "metadata": {},
   "outputs": [],
   "source": []
  },
  {
   "cell_type": "code",
   "execution_count": null,
   "id": "generous-documentation",
   "metadata": {},
   "outputs": [],
   "source": []
  }
 ],
 "metadata": {
  "kernelspec": {
   "display_name": "Python My Env",
   "language": "python",
   "name": "python-my-env"
  },
  "language_info": {
   "codemirror_mode": {
    "name": "ipython",
    "version": 3
   },
   "file_extension": ".py",
   "mimetype": "text/x-python",
   "name": "python",
   "nbconvert_exporter": "python",
   "pygments_lexer": "ipython3",
   "version": "3.6.13"
  },
  "widgets": {
   "application/vnd.jupyter.widget-state+json": {
    "state": {},
    "version_major": 2,
    "version_minor": 0
   }
  }
 },
 "nbformat": 4,
 "nbformat_minor": 5
}
