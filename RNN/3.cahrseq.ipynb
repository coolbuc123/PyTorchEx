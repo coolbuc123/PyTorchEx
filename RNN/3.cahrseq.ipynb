{
 "cells": [
  {
   "cell_type": "markdown",
   "id": "subjective-ethiopia",
   "metadata": {},
   "source": [
    "### 3.charseq \n",
    "> hihello의 단어사전 버전에 불과, \n",
    "\n",
    "> 단일(Window이동X) many-to-many임\n",
    "\n",
    "> 단일 Layer(FC X)"
   ]
  },
  {
   "cell_type": "code",
   "execution_count": 2,
   "id": "convinced-distance",
   "metadata": {},
   "outputs": [],
   "source": [
    "import torch\n",
    "import torch.optim as optim\n",
    "import numpy as np\n",
    "\n",
    "# Random seed to make results deterministic and reproducible\n",
    "torch.manual_seed(0)"
   ]
  },
  {
   "cell_type": "markdown",
   "id": "olive-alliance",
   "metadata": {},
   "source": [
    "#### 단어사전 만들기"
   ]
  },
  {
   "cell_type": "code",
   "execution_count": 16,
   "id": "competent-blues",
   "metadata": {},
   "outputs": [
    {
     "name": "stdout",
     "output_type": "stream",
     "text": [
      "{'i': 0, 'w': 1, 'y': 2, 't': 3, 'o': 4, ' ': 5, 'n': 6, 'a': 7, 'u': 8, 'f': 9}\n"
     ]
    }
   ],
   "source": [
    "sample = \" if you want you\"\n",
    "\n",
    "# make dictionary\n",
    "char_set = list(set(sample))\n",
    "char_dic = {c: i for i, c in enumerate(char_set)}\n",
    "print(char_dic)"
   ]
  },
  {
   "cell_type": "code",
   "execution_count": 17,
   "id": "combined-panama",
   "metadata": {},
   "outputs": [
    {
     "data": {
      "text/plain": [
       "10"
      ]
     },
     "execution_count": 17,
     "metadata": {},
     "output_type": "execute_result"
    }
   ],
   "source": [
    "dic_size = len(char_dic)\n",
    "dic_size # input_size 가 된다"
   ]
  },
  {
   "cell_type": "code",
   "execution_count": 18,
   "id": "industrial-protest",
   "metadata": {},
   "outputs": [
    {
     "name": "stdout",
     "output_type": "stream",
     "text": [
      "torch.Size([1, 15, 10])\n",
      "torch.Size([1, 15])\n"
     ]
    }
   ],
   "source": [
    "# data setting\n",
    "sample_idx = [char_dic[c] for c in sample]\n",
    "x_data = [sample_idx[:-1]]\n",
    "x_one_hot = [np.eye(dic_size)[x] for x in x_data]\n",
    "y_data = [sample_idx[1:]]\n",
    "\n",
    "# transform as torch tensor variable\n",
    "X = torch.FloatTensor(x_one_hot)\n",
    "Y = torch.LongTensor(y_data)\n",
    "\n",
    "print(X.shape) #  if you want yo (공백부터 시작)\n",
    "print(Y.shape) # if you want you"
   ]
  },
  {
   "cell_type": "markdown",
   "id": "catholic-atlas",
   "metadata": {},
   "source": [
    "- ( Batch = 1 )\n",
    "- 전체 row (Window 이동 횟수) = 1  ※ 윈도우 이동 X\n",
    "- Sequence(Windiow) : 15 \n",
    "- input_size(특징차원, 단어사전/원핫, input node) : 10\n",
    "- output_size : 15 (to-many 이므로 sequence 길이와 같음)"
   ]
  },
  {
   "cell_type": "code",
   "execution_count": 19,
   "id": "persistent-spell",
   "metadata": {},
   "outputs": [
    {
     "data": {
      "text/plain": [
       "tensor([[[0., 0., 0., 0., 0., 1., 0., 0., 0., 0.],\n",
       "         [1., 0., 0., 0., 0., 0., 0., 0., 0., 0.],\n",
       "         [0., 0., 0., 0., 0., 0., 0., 0., 0., 1.],\n",
       "         [0., 0., 0., 0., 0., 1., 0., 0., 0., 0.],\n",
       "         [0., 0., 1., 0., 0., 0., 0., 0., 0., 0.],\n",
       "         [0., 0., 0., 0., 1., 0., 0., 0., 0., 0.],\n",
       "         [0., 0., 0., 0., 0., 0., 0., 0., 1., 0.],\n",
       "         [0., 0., 0., 0., 0., 1., 0., 0., 0., 0.],\n",
       "         [0., 1., 0., 0., 0., 0., 0., 0., 0., 0.],\n",
       "         [0., 0., 0., 0., 0., 0., 0., 1., 0., 0.],\n",
       "         [0., 0., 0., 0., 0., 0., 1., 0., 0., 0.],\n",
       "         [0., 0., 0., 1., 0., 0., 0., 0., 0., 0.],\n",
       "         [0., 0., 0., 0., 0., 1., 0., 0., 0., 0.],\n",
       "         [0., 0., 1., 0., 0., 0., 0., 0., 0., 0.],\n",
       "         [0., 0., 0., 0., 1., 0., 0., 0., 0., 0.]]])"
      ]
     },
     "execution_count": 19,
     "metadata": {},
     "output_type": "execute_result"
    }
   ],
   "source": [
    "X"
   ]
  },
  {
   "cell_type": "code",
   "execution_count": 22,
   "id": "heavy-serial",
   "metadata": {},
   "outputs": [
    {
     "data": {
      "text/plain": [
       "tensor([[0, 9, 5, 2, 4, 8, 5, 1, 7, 6, 3, 5, 2, 4, 8]])"
      ]
     },
     "execution_count": 22,
     "metadata": {},
     "output_type": "execute_result"
    }
   ],
   "source": [
    "Y"
   ]
  },
  {
   "cell_type": "code",
   "execution_count": 23,
   "id": "unable-orange",
   "metadata": {},
   "outputs": [],
   "source": [
    "# hyper parameters\n",
    "input_size = dic_size         # 10\n",
    "hidden_size = dic_size  # 10 \n",
    "learning_rate = 0.1\n",
    "\n",
    "# declare RNN\n",
    "rnn = torch.nn.RNN(dic_size, hidden_size, batch_first=True)\n",
    "\n",
    "# loss & optimizer setting\n",
    "criterion = torch.nn.CrossEntropyLoss()\n",
    "optimizer = optim.Adam(rnn.parameters(), learning_rate)"
   ]
  },
  {
   "cell_type": "markdown",
   "id": "informal-worcester",
   "metadata": {},
   "source": [
    "#### SIZE 확인 위해 출력"
   ]
  },
  {
   "cell_type": "code",
   "execution_count": 25,
   "id": "civilian-shell",
   "metadata": {
    "scrolled": true,
    "tags": []
   },
   "outputs": [
    {
     "name": "stdout",
     "output_type": "stream",
     "text": [
      "output:  torch.Size([1, 15, 10])\n",
      "_status:  torch.Size([1, 1, 10])\n",
      "outputs.view(-1, input_size) 변형결과 :  torch.Size([15, 10])\n",
      "Y.view(-1) 변형결과 :  torch.Size([1, 15]) → torch.Size([15]) \n",
      "\n",
      "0 loss:  0.8192166686058044 prediction:  [[0 9 5 2 4 8 5 1 7 6 3 5 2 4 8]] true Y:  [[0, 9, 5, 2, 4, 8, 5, 1, 7, 6, 3, 5, 2, 4, 8]] prediction str:  if you want you\n",
      "output:  torch.Size([1, 15, 10])\n",
      "_status:  torch.Size([1, 1, 10])\n",
      "outputs.view(-1, input_size) 변형결과 :  torch.Size([15, 10])\n",
      "Y.view(-1) 변형결과 :  torch.Size([1, 15]) → torch.Size([15]) \n",
      "\n",
      "1 loss:  0.8188547492027283 prediction:  [[0 9 5 2 4 8 5 1 7 6 3 5 2 4 8]] true Y:  [[0, 9, 5, 2, 4, 8, 5, 1, 7, 6, 3, 5, 2, 4, 8]] prediction str:  if you want you\n",
      "output:  torch.Size([1, 15, 10])\n",
      "_status:  torch.Size([1, 1, 10])\n",
      "outputs.view(-1, input_size) 변형결과 :  torch.Size([15, 10])\n",
      "Y.view(-1) 변형결과 :  torch.Size([1, 15]) → torch.Size([15]) \n",
      "\n",
      "2 loss:  0.818506121635437 prediction:  [[0 9 5 2 4 8 5 1 7 6 3 5 2 4 8]] true Y:  [[0, 9, 5, 2, 4, 8, 5, 1, 7, 6, 3, 5, 2, 4, 8]] prediction str:  if you want you\n",
      "output:  torch.Size([1, 15, 10])\n",
      "_status:  torch.Size([1, 1, 10])\n",
      "outputs.view(-1, input_size) 변형결과 :  torch.Size([15, 10])\n",
      "Y.view(-1) 변형결과 :  torch.Size([1, 15]) → torch.Size([15]) \n",
      "\n",
      "3 loss:  0.8181799054145813 prediction:  [[0 9 5 2 4 8 5 1 7 6 3 5 2 4 8]] true Y:  [[0, 9, 5, 2, 4, 8, 5, 1, 7, 6, 3, 5, 2, 4, 8]] prediction str:  if you want you\n",
      "output:  torch.Size([1, 15, 10])\n",
      "_status:  torch.Size([1, 1, 10])\n",
      "outputs.view(-1, input_size) 변형결과 :  torch.Size([15, 10])\n",
      "Y.view(-1) 변형결과 :  torch.Size([1, 15]) → torch.Size([15]) \n",
      "\n",
      "4 loss:  0.8178781270980835 prediction:  [[0 9 5 2 4 8 5 1 7 6 3 5 2 4 8]] true Y:  [[0, 9, 5, 2, 4, 8, 5, 1, 7, 6, 3, 5, 2, 4, 8]] prediction str:  if you want you\n",
      "output:  torch.Size([1, 15, 10])\n",
      "_status:  torch.Size([1, 1, 10])\n",
      "outputs.view(-1, input_size) 변형결과 :  torch.Size([15, 10])\n",
      "Y.view(-1) 변형결과 :  torch.Size([1, 15]) → torch.Size([15]) \n",
      "\n",
      "5 loss:  0.8175891637802124 prediction:  [[0 9 5 2 4 8 5 1 7 6 3 5 2 4 8]] true Y:  [[0, 9, 5, 2, 4, 8, 5, 1, 7, 6, 3, 5, 2, 4, 8]] prediction str:  if you want you\n",
      "output:  torch.Size([1, 15, 10])\n",
      "_status:  torch.Size([1, 1, 10])\n",
      "outputs.view(-1, input_size) 변형결과 :  torch.Size([15, 10])\n",
      "Y.view(-1) 변형결과 :  torch.Size([1, 15]) → torch.Size([15]) \n",
      "\n",
      "6 loss:  0.8173151016235352 prediction:  [[0 9 5 2 4 8 5 1 7 6 3 5 2 4 8]] true Y:  [[0, 9, 5, 2, 4, 8, 5, 1, 7, 6, 3, 5, 2, 4, 8]] prediction str:  if you want you\n",
      "output:  torch.Size([1, 15, 10])\n",
      "_status:  torch.Size([1, 1, 10])\n",
      "outputs.view(-1, input_size) 변형결과 :  torch.Size([15, 10])\n",
      "Y.view(-1) 변형결과 :  torch.Size([1, 15]) → torch.Size([15]) \n",
      "\n",
      "7 loss:  0.8170558214187622 prediction:  [[0 9 5 2 4 8 5 1 7 6 3 5 2 4 8]] true Y:  [[0, 9, 5, 2, 4, 8, 5, 1, 7, 6, 3, 5, 2, 4, 8]] prediction str:  if you want you\n",
      "output:  torch.Size([1, 15, 10])\n",
      "_status:  torch.Size([1, 1, 10])\n",
      "outputs.view(-1, input_size) 변형결과 :  torch.Size([15, 10])\n",
      "Y.view(-1) 변형결과 :  torch.Size([1, 15]) → torch.Size([15]) \n",
      "\n",
      "8 loss:  0.8168019652366638 prediction:  [[0 9 5 2 4 8 5 1 7 6 3 5 2 4 8]] true Y:  [[0, 9, 5, 2, 4, 8, 5, 1, 7, 6, 3, 5, 2, 4, 8]] prediction str:  if you want you\n",
      "output:  torch.Size([1, 15, 10])\n",
      "_status:  torch.Size([1, 1, 10])\n",
      "outputs.view(-1, input_size) 변형결과 :  torch.Size([15, 10])\n",
      "Y.view(-1) 변형결과 :  torch.Size([1, 15]) → torch.Size([15]) \n",
      "\n",
      "9 loss:  0.8165560364723206 prediction:  [[0 9 5 2 4 8 5 1 7 6 3 5 2 4 8]] true Y:  [[0, 9, 5, 2, 4, 8, 5, 1, 7, 6, 3, 5, 2, 4, 8]] prediction str:  if you want you\n",
      "output:  torch.Size([1, 15, 10])\n",
      "_status:  torch.Size([1, 1, 10])\n",
      "outputs.view(-1, input_size) 변형결과 :  torch.Size([15, 10])\n",
      "Y.view(-1) 변형결과 :  torch.Size([1, 15]) → torch.Size([15]) \n",
      "\n",
      "10 loss:  0.8163225054740906 prediction:  [[0 9 5 2 4 8 5 1 7 6 3 5 2 4 8]] true Y:  [[0, 9, 5, 2, 4, 8, 5, 1, 7, 6, 3, 5, 2, 4, 8]] prediction str:  if you want you\n",
      "output:  torch.Size([1, 15, 10])\n",
      "_status:  torch.Size([1, 1, 10])\n",
      "outputs.view(-1, input_size) 변형결과 :  torch.Size([15, 10])\n",
      "Y.view(-1) 변형결과 :  torch.Size([1, 15]) → torch.Size([15]) \n",
      "\n",
      "11 loss:  0.8160954117774963 prediction:  [[0 9 5 2 4 8 5 1 7 6 3 5 2 4 8]] true Y:  [[0, 9, 5, 2, 4, 8, 5, 1, 7, 6, 3, 5, 2, 4, 8]] prediction str:  if you want you\n",
      "output:  torch.Size([1, 15, 10])\n",
      "_status:  torch.Size([1, 1, 10])\n",
      "outputs.view(-1, input_size) 변형결과 :  torch.Size([15, 10])\n",
      "Y.view(-1) 변형결과 :  torch.Size([1, 15]) → torch.Size([15]) \n",
      "\n",
      "12 loss:  0.8158775568008423 prediction:  [[0 9 5 2 4 8 5 1 7 6 3 5 2 4 8]] true Y:  [[0, 9, 5, 2, 4, 8, 5, 1, 7, 6, 3, 5, 2, 4, 8]] prediction str:  if you want you\n",
      "output:  torch.Size([1, 15, 10])\n",
      "_status:  torch.Size([1, 1, 10])\n",
      "outputs.view(-1, input_size) 변형결과 :  torch.Size([15, 10])\n",
      "Y.view(-1) 변형결과 :  torch.Size([1, 15]) → torch.Size([15]) \n",
      "\n",
      "13 loss:  0.8156704306602478 prediction:  [[0 9 5 2 4 8 5 1 7 6 3 5 2 4 8]] true Y:  [[0, 9, 5, 2, 4, 8, 5, 1, 7, 6, 3, 5, 2, 4, 8]] prediction str:  if you want you\n",
      "output:  torch.Size([1, 15, 10])\n",
      "_status:  torch.Size([1, 1, 10])\n",
      "outputs.view(-1, input_size) 변형결과 :  torch.Size([15, 10])\n",
      "Y.view(-1) 변형결과 :  torch.Size([1, 15]) → torch.Size([15]) \n",
      "\n",
      "14 loss:  0.8154682517051697 prediction:  [[0 9 5 2 4 8 5 1 7 6 3 5 2 4 8]] true Y:  [[0, 9, 5, 2, 4, 8, 5, 1, 7, 6, 3, 5, 2, 4, 8]] prediction str:  if you want you\n",
      "output:  torch.Size([1, 15, 10])\n",
      "_status:  torch.Size([1, 1, 10])\n",
      "outputs.view(-1, input_size) 변형결과 :  torch.Size([15, 10])\n",
      "Y.view(-1) 변형결과 :  torch.Size([1, 15]) → torch.Size([15]) \n",
      "\n",
      "15 loss:  0.8152729272842407 prediction:  [[0 9 5 2 4 8 5 1 7 6 3 5 2 4 8]] true Y:  [[0, 9, 5, 2, 4, 8, 5, 1, 7, 6, 3, 5, 2, 4, 8]] prediction str:  if you want you\n",
      "output:  torch.Size([1, 15, 10])\n",
      "_status:  torch.Size([1, 1, 10])\n",
      "outputs.view(-1, input_size) 변형결과 :  torch.Size([15, 10])\n",
      "Y.view(-1) 변형결과 :  torch.Size([1, 15]) → torch.Size([15]) \n",
      "\n",
      "16 loss:  0.8150857090950012 prediction:  [[0 9 5 2 4 8 5 1 7 6 3 5 2 4 8]] true Y:  [[0, 9, 5, 2, 4, 8, 5, 1, 7, 6, 3, 5, 2, 4, 8]] prediction str:  if you want you\n",
      "output:  torch.Size([1, 15, 10])\n",
      "_status:  torch.Size([1, 1, 10])\n",
      "outputs.view(-1, input_size) 변형결과 :  torch.Size([15, 10])\n",
      "Y.view(-1) 변형결과 :  torch.Size([1, 15]) → torch.Size([15]) \n",
      "\n",
      "17 loss:  0.814903199672699 prediction:  [[0 9 5 2 4 8 5 1 7 6 3 5 2 4 8]] true Y:  [[0, 9, 5, 2, 4, 8, 5, 1, 7, 6, 3, 5, 2, 4, 8]] prediction str:  if you want you\n",
      "output:  torch.Size([1, 15, 10])\n",
      "_status:  torch.Size([1, 1, 10])\n",
      "outputs.view(-1, input_size) 변형결과 :  torch.Size([15, 10])\n",
      "Y.view(-1) 변형결과 :  torch.Size([1, 15]) → torch.Size([15]) \n",
      "\n",
      "18 loss:  0.8147279620170593 prediction:  [[0 9 5 2 4 8 5 1 7 6 3 5 2 4 8]] true Y:  [[0, 9, 5, 2, 4, 8, 5, 1, 7, 6, 3, 5, 2, 4, 8]] prediction str:  if you want you\n",
      "output:  torch.Size([1, 15, 10])\n",
      "_status:  torch.Size([1, 1, 10])\n",
      "outputs.view(-1, input_size) 변형결과 :  torch.Size([15, 10])\n",
      "Y.view(-1) 변형결과 :  torch.Size([1, 15]) → torch.Size([15]) \n",
      "\n",
      "19 loss:  0.8145598769187927 prediction:  [[0 9 5 2 4 8 5 1 7 6 3 5 2 4 8]] true Y:  [[0, 9, 5, 2, 4, 8, 5, 1, 7, 6, 3, 5, 2, 4, 8]] prediction str:  if you want you\n",
      "output:  torch.Size([1, 15, 10])\n",
      "_status:  torch.Size([1, 1, 10])\n",
      "outputs.view(-1, input_size) 변형결과 :  torch.Size([15, 10])\n",
      "Y.view(-1) 변형결과 :  torch.Size([1, 15]) → torch.Size([15]) \n",
      "\n",
      "20 loss:  0.8143954873085022 prediction:  [[0 9 5 2 4 8 5 1 7 6 3 5 2 4 8]] true Y:  [[0, 9, 5, 2, 4, 8, 5, 1, 7, 6, 3, 5, 2, 4, 8]] prediction str:  if you want you\n",
      "output:  torch.Size([1, 15, 10])\n",
      "_status:  torch.Size([1, 1, 10])\n",
      "outputs.view(-1, input_size) 변형결과 :  torch.Size([15, 10])\n",
      "Y.view(-1) 변형결과 :  torch.Size([1, 15]) → torch.Size([15]) \n",
      "\n",
      "21 loss:  0.8142368197441101 prediction:  [[0 9 5 2 4 8 5 1 7 6 3 5 2 4 8]] true Y:  [[0, 9, 5, 2, 4, 8, 5, 1, 7, 6, 3, 5, 2, 4, 8]] prediction str:  if you want you\n",
      "output:  torch.Size([1, 15, 10])\n",
      "_status:  torch.Size([1, 1, 10])\n",
      "outputs.view(-1, input_size) 변형결과 :  torch.Size([15, 10])\n",
      "Y.view(-1) 변형결과 :  torch.Size([1, 15]) → torch.Size([15]) \n",
      "\n",
      "22 loss:  0.8140819668769836 prediction:  [[0 9 5 2 4 8 5 1 7 6 3 5 2 4 8]] true Y:  [[0, 9, 5, 2, 4, 8, 5, 1, 7, 6, 3, 5, 2, 4, 8]] prediction str:  if you want you\n",
      "output:  torch.Size([1, 15, 10])\n",
      "_status:  torch.Size([1, 1, 10])\n",
      "outputs.view(-1, input_size) 변형결과 :  torch.Size([15, 10])\n",
      "Y.view(-1) 변형결과 :  torch.Size([1, 15]) → torch.Size([15]) \n",
      "\n",
      "23 loss:  0.8139299154281616 prediction:  [[0 9 5 2 4 8 5 1 7 6 3 5 2 4 8]] true Y:  [[0, 9, 5, 2, 4, 8, 5, 1, 7, 6, 3, 5, 2, 4, 8]] prediction str:  if you want you\n",
      "output:  torch.Size([1, 15, 10])\n",
      "_status:  torch.Size([1, 1, 10])\n",
      "outputs.view(-1, input_size) 변형결과 :  torch.Size([15, 10])\n",
      "Y.view(-1) 변형결과 :  torch.Size([1, 15]) → torch.Size([15]) \n",
      "\n",
      "24 loss:  0.813782811164856 prediction:  [[0 9 5 2 4 8 5 1 7 6 3 5 2 4 8]] true Y:  [[0, 9, 5, 2, 4, 8, 5, 1, 7, 6, 3, 5, 2, 4, 8]] prediction str:  if you want you\n",
      "output:  torch.Size([1, 15, 10])\n",
      "_status:  torch.Size([1, 1, 10])\n",
      "outputs.view(-1, input_size) 변형결과 :  torch.Size([15, 10])\n",
      "Y.view(-1) 변형결과 :  torch.Size([1, 15]) → torch.Size([15]) \n",
      "\n",
      "25 loss:  0.8136385083198547 prediction:  [[0 9 5 2 4 8 5 1 7 6 3 5 2 4 8]] true Y:  [[0, 9, 5, 2, 4, 8, 5, 1, 7, 6, 3, 5, 2, 4, 8]] prediction str:  if you want you\n",
      "output:  torch.Size([1, 15, 10])\n",
      "_status:  torch.Size([1, 1, 10])\n",
      "outputs.view(-1, input_size) 변형결과 :  torch.Size([15, 10])\n",
      "Y.view(-1) 변형결과 :  torch.Size([1, 15]) → torch.Size([15]) \n",
      "\n",
      "26 loss:  0.8134977221488953 prediction:  [[0 9 5 2 4 8 5 1 7 6 3 5 2 4 8]] true Y:  [[0, 9, 5, 2, 4, 8, 5, 1, 7, 6, 3, 5, 2, 4, 8]] prediction str:  if you want you\n",
      "output:  torch.Size([1, 15, 10])\n",
      "_status:  torch.Size([1, 1, 10])\n",
      "outputs.view(-1, input_size) 변형결과 :  torch.Size([15, 10])\n",
      "Y.view(-1) 변형결과 :  torch.Size([1, 15]) → torch.Size([15]) \n",
      "\n",
      "27 loss:  0.8133611083030701 prediction:  [[0 9 5 2 4 8 5 1 7 6 3 5 2 4 8]] true Y:  [[0, 9, 5, 2, 4, 8, 5, 1, 7, 6, 3, 5, 2, 4, 8]] prediction str:  if you want you\n",
      "output:  torch.Size([1, 15, 10])\n",
      "_status:  torch.Size([1, 1, 10])\n",
      "outputs.view(-1, input_size) 변형결과 :  torch.Size([15, 10])\n",
      "Y.view(-1) 변형결과 :  torch.Size([1, 15]) → torch.Size([15]) \n",
      "\n",
      "28 loss:  0.8132267594337463 prediction:  [[0 9 5 2 4 8 5 1 7 6 3 5 2 4 8]] true Y:  [[0, 9, 5, 2, 4, 8, 5, 1, 7, 6, 3, 5, 2, 4, 8]] prediction str:  if you want you\n",
      "output:  torch.Size([1, 15, 10])\n",
      "_status:  torch.Size([1, 1, 10])\n",
      "outputs.view(-1, input_size) 변형결과 :  torch.Size([15, 10])\n",
      "Y.view(-1) 변형결과 :  torch.Size([1, 15]) → torch.Size([15]) \n",
      "\n",
      "29 loss:  0.8130959868431091 prediction:  [[0 9 5 2 4 8 5 1 7 6 3 5 2 4 8]] true Y:  [[0, 9, 5, 2, 4, 8, 5, 1, 7, 6, 3, 5, 2, 4, 8]] prediction str:  if you want you\n",
      "output:  torch.Size([1, 15, 10])\n",
      "_status:  torch.Size([1, 1, 10])\n",
      "outputs.view(-1, input_size) 변형결과 :  torch.Size([15, 10])\n",
      "Y.view(-1) 변형결과 :  torch.Size([1, 15]) → torch.Size([15]) \n",
      "\n",
      "30 loss:  0.8129681348800659 prediction:  [[0 9 5 2 4 8 5 1 7 6 3 5 2 4 8]] true Y:  [[0, 9, 5, 2, 4, 8, 5, 1, 7, 6, 3, 5, 2, 4, 8]] prediction str:  if you want you\n",
      "output:  torch.Size([1, 15, 10])\n",
      "_status:  torch.Size([1, 1, 10])\n",
      "outputs.view(-1, input_size) 변형결과 :  torch.Size([15, 10])\n",
      "Y.view(-1) 변형결과 :  torch.Size([1, 15]) → torch.Size([15]) \n",
      "\n",
      "31 loss:  0.8128432035446167 prediction:  [[0 9 5 2 4 8 5 1 7 6 3 5 2 4 8]] true Y:  [[0, 9, 5, 2, 4, 8, 5, 1, 7, 6, 3, 5, 2, 4, 8]] prediction str:  if you want you\n",
      "output:  torch.Size([1, 15, 10])\n",
      "_status:  torch.Size([1, 1, 10])\n",
      "outputs.view(-1, input_size) 변형결과 :  torch.Size([15, 10])\n",
      "Y.view(-1) 변형결과 :  torch.Size([1, 15]) → torch.Size([15]) \n",
      "\n",
      "32 loss:  0.8127216696739197 prediction:  [[0 9 5 2 4 8 5 1 7 6 3 5 2 4 8]] true Y:  [[0, 9, 5, 2, 4, 8, 5, 1, 7, 6, 3, 5, 2, 4, 8]] prediction str:  if you want you\n",
      "output:  torch.Size([1, 15, 10])\n",
      "_status:  torch.Size([1, 1, 10])\n",
      "outputs.view(-1, input_size) 변형결과 :  torch.Size([15, 10])\n",
      "Y.view(-1) 변형결과 :  torch.Size([1, 15]) → torch.Size([15]) \n",
      "\n",
      "33 loss:  0.812602698802948 prediction:  [[0 9 5 2 4 8 5 1 7 6 3 5 2 4 8]] true Y:  [[0, 9, 5, 2, 4, 8, 5, 1, 7, 6, 3, 5, 2, 4, 8]] prediction str:  if you want you\n",
      "output:  torch.Size([1, 15, 10])\n",
      "_status:  torch.Size([1, 1, 10])\n",
      "outputs.view(-1, input_size) 변형결과 :  torch.Size([15, 10])\n",
      "Y.view(-1) 변형결과 :  torch.Size([1, 15]) → torch.Size([15]) \n",
      "\n",
      "34 loss:  0.8124865293502808 prediction:  [[0 9 5 2 4 8 5 1 7 6 3 5 2 4 8]] true Y:  [[0, 9, 5, 2, 4, 8, 5, 1, 7, 6, 3, 5, 2, 4, 8]] prediction str:  if you want you\n",
      "output:  torch.Size([1, 15, 10])\n",
      "_status:  torch.Size([1, 1, 10])\n",
      "outputs.view(-1, input_size) 변형결과 :  torch.Size([15, 10])\n",
      "Y.view(-1) 변형결과 :  torch.Size([1, 15]) → torch.Size([15]) \n",
      "\n",
      "35 loss:  0.8123731017112732 prediction:  [[0 9 5 2 4 8 5 1 7 6 3 5 2 4 8]] true Y:  [[0, 9, 5, 2, 4, 8, 5, 1, 7, 6, 3, 5, 2, 4, 8]] prediction str:  if you want you\n",
      "output:  torch.Size([1, 15, 10])\n",
      "_status:  torch.Size([1, 1, 10])\n",
      "outputs.view(-1, input_size) 변형결과 :  torch.Size([15, 10])\n",
      "Y.view(-1) 변형결과 :  torch.Size([1, 15]) → torch.Size([15]) \n",
      "\n",
      "36 loss:  0.8122616410255432 prediction:  [[0 9 5 2 4 8 5 1 7 6 3 5 2 4 8]] true Y:  [[0, 9, 5, 2, 4, 8, 5, 1, 7, 6, 3, 5, 2, 4, 8]] prediction str:  if you want you\n",
      "output:  torch.Size([1, 15, 10])\n",
      "_status:  torch.Size([1, 1, 10])\n",
      "outputs.view(-1, input_size) 변형결과 :  torch.Size([15, 10])\n",
      "Y.view(-1) 변형결과 :  torch.Size([1, 15]) → torch.Size([15]) \n",
      "\n",
      "37 loss:  0.8121525645256042 prediction:  [[0 9 5 2 4 8 5 1 7 6 3 5 2 4 8]] true Y:  [[0, 9, 5, 2, 4, 8, 5, 1, 7, 6, 3, 5, 2, 4, 8]] prediction str:  if you want you\n",
      "output:  torch.Size([1, 15, 10])\n",
      "_status:  torch.Size([1, 1, 10])\n",
      "outputs.view(-1, input_size) 변형결과 :  torch.Size([15, 10])\n",
      "Y.view(-1) 변형결과 :  torch.Size([1, 15]) → torch.Size([15]) \n",
      "\n",
      "38 loss:  0.812045693397522 prediction:  [[0 9 5 2 4 8 5 1 7 6 3 5 2 4 8]] true Y:  [[0, 9, 5, 2, 4, 8, 5, 1, 7, 6, 3, 5, 2, 4, 8]] prediction str:  if you want you\n",
      "output:  torch.Size([1, 15, 10])\n",
      "_status:  torch.Size([1, 1, 10])\n",
      "outputs.view(-1, input_size) 변형결과 :  torch.Size([15, 10])\n",
      "Y.view(-1) 변형결과 :  torch.Size([1, 15]) → torch.Size([15]) \n",
      "\n",
      "39 loss:  0.8119405508041382 prediction:  [[0 9 5 2 4 8 5 1 7 6 3 5 2 4 8]] true Y:  [[0, 9, 5, 2, 4, 8, 5, 1, 7, 6, 3, 5, 2, 4, 8]] prediction str:  if you want you\n",
      "output:  torch.Size([1, 15, 10])\n",
      "_status:  torch.Size([1, 1, 10])\n",
      "outputs.view(-1, input_size) 변형결과 :  torch.Size([15, 10])\n",
      "Y.view(-1) 변형결과 :  torch.Size([1, 15]) → torch.Size([15]) \n",
      "\n",
      "40 loss:  0.8118379712104797 prediction:  [[0 9 5 2 4 8 5 1 7 6 3 5 2 4 8]] true Y:  [[0, 9, 5, 2, 4, 8, 5, 1, 7, 6, 3, 5, 2, 4, 8]] prediction str:  if you want you\n",
      "output:  torch.Size([1, 15, 10])\n",
      "_status:  torch.Size([1, 1, 10])\n",
      "outputs.view(-1, input_size) 변형결과 :  torch.Size([15, 10])\n",
      "Y.view(-1) 변형결과 :  torch.Size([1, 15]) → torch.Size([15]) \n",
      "\n",
      "41 loss:  0.8117367029190063 prediction:  [[0 9 5 2 4 8 5 1 7 6 3 5 2 4 8]] true Y:  [[0, 9, 5, 2, 4, 8, 5, 1, 7, 6, 3, 5, 2, 4, 8]] prediction str:  if you want you\n",
      "output:  torch.Size([1, 15, 10])\n",
      "_status:  torch.Size([1, 1, 10])\n",
      "outputs.view(-1, input_size) 변형결과 :  torch.Size([15, 10])\n",
      "Y.view(-1) 변형결과 :  torch.Size([1, 15]) → torch.Size([15]) \n",
      "\n",
      "42 loss:  0.8116375803947449 prediction:  [[0 9 5 2 4 8 5 1 7 6 3 5 2 4 8]] true Y:  [[0, 9, 5, 2, 4, 8, 5, 1, 7, 6, 3, 5, 2, 4, 8]] prediction str:  if you want you\n",
      "output:  torch.Size([1, 15, 10])\n",
      "_status:  torch.Size([1, 1, 10])\n",
      "outputs.view(-1, input_size) 변형결과 :  torch.Size([15, 10])\n",
      "Y.view(-1) 변형결과 :  torch.Size([1, 15]) → torch.Size([15]) \n",
      "\n",
      "43 loss:  0.8115403652191162 prediction:  [[0 9 5 2 4 8 5 1 7 6 3 5 2 4 8]] true Y:  [[0, 9, 5, 2, 4, 8, 5, 1, 7, 6, 3, 5, 2, 4, 8]] prediction str:  if you want you\n",
      "output:  torch.Size([1, 15, 10])\n",
      "_status:  torch.Size([1, 1, 10])\n",
      "outputs.view(-1, input_size) 변형결과 :  torch.Size([15, 10])\n",
      "Y.view(-1) 변형결과 :  torch.Size([1, 15]) → torch.Size([15]) \n",
      "\n",
      "44 loss:  0.8114446997642517 prediction:  [[0 9 5 2 4 8 5 1 7 6 3 5 2 4 8]] true Y:  [[0, 9, 5, 2, 4, 8, 5, 1, 7, 6, 3, 5, 2, 4, 8]] prediction str:  if you want you\n",
      "output:  torch.Size([1, 15, 10])\n",
      "_status:  torch.Size([1, 1, 10])\n",
      "outputs.view(-1, input_size) 변형결과 :  torch.Size([15, 10])\n",
      "Y.view(-1) 변형결과 :  torch.Size([1, 15]) → torch.Size([15]) \n",
      "\n",
      "45 loss:  0.8113508820533752 prediction:  [[0 9 5 2 4 8 5 1 7 6 3 5 2 4 8]] true Y:  [[0, 9, 5, 2, 4, 8, 5, 1, 7, 6, 3, 5, 2, 4, 8]] prediction str:  if you want you\n",
      "output:  torch.Size([1, 15, 10])\n",
      "_status:  torch.Size([1, 1, 10])\n",
      "outputs.view(-1, input_size) 변형결과 :  torch.Size([15, 10])\n",
      "Y.view(-1) 변형결과 :  torch.Size([1, 15]) → torch.Size([15]) \n",
      "\n",
      "46 loss:  0.8112586736679077 prediction:  [[0 9 5 2 4 8 5 1 7 6 3 5 2 4 8]] true Y:  [[0, 9, 5, 2, 4, 8, 5, 1, 7, 6, 3, 5, 2, 4, 8]] prediction str:  if you want you\n",
      "output:  torch.Size([1, 15, 10])\n",
      "_status:  torch.Size([1, 1, 10])\n",
      "outputs.view(-1, input_size) 변형결과 :  torch.Size([15, 10])\n",
      "Y.view(-1) 변형결과 :  torch.Size([1, 15]) → torch.Size([15]) \n",
      "\n",
      "47 loss:  0.811168372631073 prediction:  [[0 9 5 2 4 8 5 1 7 6 3 5 2 4 8]] true Y:  [[0, 9, 5, 2, 4, 8, 5, 1, 7, 6, 3, 5, 2, 4, 8]] prediction str:  if you want you\n",
      "output:  torch.Size([1, 15, 10])\n",
      "_status:  torch.Size([1, 1, 10])\n",
      "outputs.view(-1, input_size) 변형결과 :  torch.Size([15, 10])\n",
      "Y.view(-1) 변형결과 :  torch.Size([1, 15]) → torch.Size([15]) \n",
      "\n",
      "48 loss:  0.8110792636871338 prediction:  [[0 9 5 2 4 8 5 1 7 6 3 5 2 4 8]] true Y:  [[0, 9, 5, 2, 4, 8, 5, 1, 7, 6, 3, 5, 2, 4, 8]] prediction str:  if you want you\n",
      "output:  torch.Size([1, 15, 10])\n",
      "_status:  torch.Size([1, 1, 10])\n",
      "outputs.view(-1, input_size) 변형결과 :  torch.Size([15, 10])\n",
      "Y.view(-1) 변형결과 :  torch.Size([1, 15]) → torch.Size([15]) \n",
      "\n",
      "49 loss:  0.8109920024871826 prediction:  [[0 9 5 2 4 8 5 1 7 6 3 5 2 4 8]] true Y:  [[0, 9, 5, 2, 4, 8, 5, 1, 7, 6, 3, 5, 2, 4, 8]] prediction str:  if you want you\n"
     ]
    }
   ],
   "source": [
    "# start training\n",
    "for i in range(50):\n",
    "    optimizer.zero_grad()\n",
    "    \n",
    "    outputs, _status = rnn(X)\n",
    "    print(\"output: \", outputs.shape)\n",
    "    print(\"_status: \", _status.shape)\n",
    "    \n",
    "    # 3D → 2D 로 변환 후 비교\n",
    "    loss = criterion(outputs.view(-1, dic_size), Y.view(-1))   # Outputs : [1, 15, 10] → [15,10],   \n",
    "                                                                                                      #              Y : [1,15]        → [15]\n",
    "    print(\"outputs.view(-1, input_size) 변형결과 : \", outputs.view(-1, input_size).shape)\n",
    "    print(\"Y.view(-1) 변형결과 : \",Y.shape, \"→\", Y.view(-1).shape, '\\n')    \n",
    "    \n",
    "    loss.backward()\n",
    "    optimizer.step()\n",
    "\n",
    "    result = outputs.data.numpy().argmax(axis=2)\n",
    "    result_str = ''.join([char_set[c] for c in np.squeeze(result)])\n",
    "    print(i, \"loss: \", loss.item(), \"prediction: \", result, \"true Y: \", y_data, \"prediction str: \", result_str)"
   ]
  },
  {
   "cell_type": "markdown",
   "id": "bigger-lafayette",
   "metadata": {},
   "source": [
    "### ' if you want yo' → 'if you want you' 로 잘 예측하였음"
   ]
  },
  {
   "cell_type": "markdown",
   "id": "stable-reducing",
   "metadata": {},
   "source": [
    "### Clean 소스 버전"
   ]
  },
  {
   "cell_type": "code",
   "execution_count": 14,
   "id": "under-cuisine",
   "metadata": {
    "scrolled": true,
    "tags": []
   },
   "outputs": [],
   "source": [
    "# # start training\n",
    "# for i in range(50):\n",
    "#     optimizer.zero_grad()\n",
    "#     outputs, _status = rnn(X)\n",
    "#     loss = criterion(outputs.view(-1, dic_size), Y.view(-1))   # Outputs : [1, 15, 10] → [15,10],   \n",
    "#                                                                                                       #              Y : [1,15]        → [15]\n",
    "#     loss.backward()\n",
    "#     optimizer.step()\n",
    "\n",
    "#     result = outputs.data.numpy().argmax(axis=2)\n",
    "#     result_str = ''.join([char_set[c] for c in np.squeeze(result)])\n",
    "#     print(i, \"loss: \", loss.item(), \"prediction: \", result, \"true Y: \", y_data, \"prediction str: \", result_str)"
   ]
  }
 ],
 "metadata": {
  "kernelspec": {
   "display_name": "Python My Env",
   "language": "python",
   "name": "python-my-env"
  },
  "language_info": {
   "codemirror_mode": {
    "name": "ipython",
    "version": 3
   },
   "file_extension": ".py",
   "mimetype": "text/x-python",
   "name": "python",
   "nbconvert_exporter": "python",
   "pygments_lexer": "ipython3",
   "version": "3.6.13"
  },
  "widgets": {
   "application/vnd.jupyter.widget-state+json": {
    "state": {},
    "version_major": 2,
    "version_minor": 0
   }
  }
 },
 "nbformat": 4,
 "nbformat_minor": 5
}
