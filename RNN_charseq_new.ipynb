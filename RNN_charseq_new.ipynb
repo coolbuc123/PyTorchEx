{
 "cells": [
  {
   "cell_type": "markdown",
   "id": "rocky-riverside",
   "metadata": {},
   "source": [
    "### RNN_charseq_new"
   ]
  },
  {
   "cell_type": "code",
   "execution_count": 30,
   "id": "posted-faith",
   "metadata": {},
   "outputs": [],
   "source": [
    "import torch\n",
    "import torch.optim as optim\n",
    "import numpy as np"
   ]
  },
  {
   "cell_type": "code",
   "execution_count": 31,
   "id": "personal-reservoir",
   "metadata": {},
   "outputs": [
    {
     "data": {
      "text/plain": [
       "<torch._C.Generator at 0x7feec801ed80>"
      ]
     },
     "execution_count": 31,
     "metadata": {},
     "output_type": "execute_result"
    }
   ],
   "source": [
    "# Random seed to make results deterministic and reproducible\n",
    "torch.manual_seed(0)"
   ]
  },
  {
   "cell_type": "code",
   "execution_count": 32,
   "id": "exciting-guinea",
   "metadata": {},
   "outputs": [],
   "source": [
    "char_set = ['h', 'i', 'e', 'l', 'o']\n",
    "\n",
    "h = [1,0,0,0,0]\n",
    "i  = [0,1,0,0,0] \n",
    "e = [0,0,1,0,0]\n",
    "l  = [0,0,0,1,0]\n",
    "o = [0,0,0,0,1]\n",
    "\n",
    "# hyper parameters\n",
    "input_size = len(char_set)\n",
    "hidden_size = len(char_set)\n",
    "learning_rate = 0.1\n",
    "\n",
    "# data setting\n",
    "x_data = [[0, 1, 0, 2, 3, 3]]\n",
    "x_one_hot =[[h,i,h,e,l,l]]\n",
    "y_data = [[1, 0, 2, 3, 3, 4]]"
   ]
  },
  {
   "cell_type": "code",
   "execution_count": 21,
   "id": "deluxe-shareware",
   "metadata": {},
   "outputs": [],
   "source": [
    "# transform as torch tensor variable\n",
    "X = torch.FloatTensor(x_one_hot)\n",
    "Y = torch.LongTensor(y_data)"
   ]
  },
  {
   "cell_type": "code",
   "execution_count": 29,
   "id": "passing-maple",
   "metadata": {},
   "outputs": [
    {
     "name": "stdout",
     "output_type": "stream",
     "text": [
      "torch.Size([1, 6, 5])\n",
      "torch.Size([1, 6])\n"
     ]
    }
   ],
   "source": [
    "print(X.shape)\n",
    "print(Y.shape)"
   ]
  },
  {
   "cell_type": "code",
   "execution_count": 49,
   "id": "presidential-independence",
   "metadata": {},
   "outputs": [],
   "source": [
    "hidden_size = 5"
   ]
  },
  {
   "cell_type": "code",
   "execution_count": 50,
   "id": "second-possibility",
   "metadata": {},
   "outputs": [],
   "source": [
    "# declare RNN\n",
    "rnn = torch.nn.RNN(input_size, hidden_size, batch_first=True)  # batch_first : 배치 값을 shape의 맨 처음에 주겠다 → (B, S, F)"
   ]
  },
  {
   "cell_type": "code",
   "execution_count": 55,
   "id": "generic-sequence",
   "metadata": {},
   "outputs": [
    {
     "name": "stdout",
     "output_type": "stream",
     "text": [
      "torch.Size([1, 6, 5])\n",
      "torch.Size([1, 1, 5])\n"
     ]
    }
   ],
   "source": [
    "# output : [sequence, batch_size, hidden_size] \n",
    "# hidden : [num_layer, batch_size, hidden_size]\n",
    "\n",
    "o, s = rnn(X)\n",
    "print(o.shape)\n",
    "print(s.shape)"
   ]
  },
  {
   "cell_type": "raw",
   "id": "ideal-wireless",
   "metadata": {},
   "source": [
    "# loss & optimizer setting\n",
    "criterion = torch.nn.CrossEntropyLoss()\n",
    "optimizer = optim.Adam(rnn.parameters(), learning_rate)"
   ]
  },
  {
   "cell_type": "code",
   "execution_count": 52,
   "id": "civic-seeking",
   "metadata": {},
   "outputs": [
    {
     "name": "stdout",
     "output_type": "stream",
     "text": [
      "0 loss:  1.801273226737976 prediction:  [[0 0 0 0 0 0]] true Y:  [[1, 0, 2, 3, 3, 4]] prediction str:  hhhhhh\n",
      "1 loss:  1.5240240097045898 prediction:  [[0 0 1 0 0 0]] true Y:  [[1, 0, 2, 3, 3, 4]] prediction str:  hhihhh\n",
      "2 loss:  1.3559521436691284 prediction:  [[1 0 1 3 0 3]] true Y:  [[1, 0, 2, 3, 3, 4]] prediction str:  ihilhl\n",
      "3 loss:  1.2392140626907349 prediction:  [[1 3 1 3 3 3]] true Y:  [[1, 0, 2, 3, 3, 4]] prediction str:  ililll\n",
      "4 loss:  1.136755347251892 prediction:  [[1 3 2 3 3 3]] true Y:  [[1, 0, 2, 3, 3, 4]] prediction str:  ilelll\n",
      "5 loss:  1.0529603958129883 prediction:  [[1 3 1 3 3 3]] true Y:  [[1, 0, 2, 3, 3, 4]] prediction str:  ililll\n",
      "6 loss:  1.0028595924377441 prediction:  [[1 3 1 3 3 3]] true Y:  [[1, 0, 2, 3, 3, 4]] prediction str:  ililll\n",
      "7 loss:  0.9640374183654785 prediction:  [[1 3 1 3 3 3]] true Y:  [[1, 0, 2, 3, 3, 4]] prediction str:  ililll\n",
      "8 loss:  0.9325094819068909 prediction:  [[1 0 2 3 3 3]] true Y:  [[1, 0, 2, 3, 3, 4]] prediction str:  ihelll\n",
      "9 loss:  0.9006185531616211 prediction:  [[1 0 2 3 3 4]] true Y:  [[1, 0, 2, 3, 3, 4]] prediction str:  ihello\n",
      "10 loss:  0.8743208050727844 prediction:  [[1 0 2 3 3 4]] true Y:  [[1, 0, 2, 3, 3, 4]] prediction str:  ihello\n",
      "11 loss:  0.8490654826164246 prediction:  [[1 0 2 3 3 4]] true Y:  [[1, 0, 2, 3, 3, 4]] prediction str:  ihello\n",
      "12 loss:  0.8235180974006653 prediction:  [[1 0 2 3 3 4]] true Y:  [[1, 0, 2, 3, 3, 4]] prediction str:  ihello\n",
      "13 loss:  0.7974733710289001 prediction:  [[1 0 2 3 3 4]] true Y:  [[1, 0, 2, 3, 3, 4]] prediction str:  ihello\n",
      "14 loss:  0.7710897326469421 prediction:  [[1 0 2 3 3 4]] true Y:  [[1, 0, 2, 3, 3, 4]] prediction str:  ihello\n",
      "15 loss:  0.7469317317008972 prediction:  [[1 0 2 3 3 4]] true Y:  [[1, 0, 2, 3, 3, 4]] prediction str:  ihello\n",
      "16 loss:  0.7301821112632751 prediction:  [[1 0 2 3 3 4]] true Y:  [[1, 0, 2, 3, 3, 4]] prediction str:  ihello\n",
      "17 loss:  0.7218902707099915 prediction:  [[1 0 2 3 3 4]] true Y:  [[1, 0, 2, 3, 3, 4]] prediction str:  ihello\n",
      "18 loss:  0.7117944359779358 prediction:  [[1 0 2 3 3 4]] true Y:  [[1, 0, 2, 3, 3, 4]] prediction str:  ihello\n",
      "19 loss:  0.6947616934776306 prediction:  [[1 0 2 3 3 4]] true Y:  [[1, 0, 2, 3, 3, 4]] prediction str:  ihello\n",
      "20 loss:  0.6785218119621277 prediction:  [[1 0 2 3 3 4]] true Y:  [[1, 0, 2, 3, 3, 4]] prediction str:  ihello\n",
      "21 loss:  0.687575101852417 prediction:  [[1 0 2 3 3 4]] true Y:  [[1, 0, 2, 3, 3, 4]] prediction str:  ihello\n",
      "22 loss:  0.6886141300201416 prediction:  [[1 0 2 3 3 4]] true Y:  [[1, 0, 2, 3, 3, 4]] prediction str:  ihello\n",
      "23 loss:  0.6933667063713074 prediction:  [[1 0 2 3 3 4]] true Y:  [[1, 0, 2, 3, 3, 4]] prediction str:  ihello\n",
      "24 loss:  0.6988675594329834 prediction:  [[1 0 2 3 3 4]] true Y:  [[1, 0, 2, 3, 3, 4]] prediction str:  ihello\n",
      "25 loss:  0.7045984864234924 prediction:  [[1 0 2 3 3 4]] true Y:  [[1, 0, 2, 3, 3, 4]] prediction str:  ihello\n",
      "26 loss:  0.707477867603302 prediction:  [[1 0 2 3 3 4]] true Y:  [[1, 0, 2, 3, 3, 4]] prediction str:  ihello\n",
      "27 loss:  0.7062421441078186 prediction:  [[1 0 2 3 3 4]] true Y:  [[1, 0, 2, 3, 3, 4]] prediction str:  ihello\n",
      "28 loss:  0.7017416954040527 prediction:  [[1 0 2 3 3 4]] true Y:  [[1, 0, 2, 3, 3, 4]] prediction str:  ihello\n",
      "29 loss:  0.6982917189598083 prediction:  [[1 0 2 3 3 4]] true Y:  [[1, 0, 2, 3, 3, 4]] prediction str:  ihello\n",
      "30 loss:  0.6982953548431396 prediction:  [[1 0 2 3 3 4]] true Y:  [[1, 0, 2, 3, 3, 4]] prediction str:  ihello\n",
      "31 loss:  0.6950252652168274 prediction:  [[1 0 2 4 3 4]] true Y:  [[1, 0, 2, 3, 3, 4]] prediction str:  iheolo\n",
      "32 loss:  0.6875042915344238 prediction:  [[1 0 2 4 3 4]] true Y:  [[1, 0, 2, 3, 3, 4]] prediction str:  iheolo\n",
      "33 loss:  0.681274950504303 prediction:  [[1 0 2 4 3 4]] true Y:  [[1, 0, 2, 3, 3, 4]] prediction str:  iheolo\n",
      "34 loss:  0.6763487458229065 prediction:  [[1 0 2 4 3 4]] true Y:  [[1, 0, 2, 3, 3, 4]] prediction str:  iheolo\n",
      "35 loss:  0.6709526181221008 prediction:  [[1 0 2 3 3 4]] true Y:  [[1, 0, 2, 3, 3, 4]] prediction str:  ihello\n",
      "36 loss:  0.6649355888366699 prediction:  [[1 0 2 3 3 4]] true Y:  [[1, 0, 2, 3, 3, 4]] prediction str:  ihello\n",
      "37 loss:  0.6586379408836365 prediction:  [[1 0 2 3 3 4]] true Y:  [[1, 0, 2, 3, 3, 4]] prediction str:  ihello\n",
      "38 loss:  0.6523096561431885 prediction:  [[1 0 2 3 3 4]] true Y:  [[1, 0, 2, 3, 3, 4]] prediction str:  ihello\n",
      "39 loss:  0.6460626721382141 prediction:  [[1 0 2 3 3 4]] true Y:  [[1, 0, 2, 3, 3, 4]] prediction str:  ihello\n",
      "40 loss:  0.6399628520011902 prediction:  [[1 0 2 3 3 4]] true Y:  [[1, 0, 2, 3, 3, 4]] prediction str:  ihello\n",
      "41 loss:  0.6340181827545166 prediction:  [[1 0 2 3 3 4]] true Y:  [[1, 0, 2, 3, 3, 4]] prediction str:  ihello\n",
      "42 loss:  0.6280757188796997 prediction:  [[1 0 2 3 3 4]] true Y:  [[1, 0, 2, 3, 3, 4]] prediction str:  ihello\n",
      "43 loss:  0.6218534111976624 prediction:  [[1 0 2 3 3 4]] true Y:  [[1, 0, 2, 3, 3, 4]] prediction str:  ihello\n",
      "44 loss:  0.6151239275932312 prediction:  [[1 0 2 3 3 4]] true Y:  [[1, 0, 2, 3, 3, 4]] prediction str:  ihello\n",
      "45 loss:  0.60805743932724 prediction:  [[1 0 2 3 3 4]] true Y:  [[1, 0, 2, 3, 3, 4]] prediction str:  ihello\n",
      "46 loss:  0.6019557118415833 prediction:  [[1 0 2 3 3 4]] true Y:  [[1, 0, 2, 3, 3, 4]] prediction str:  ihello\n",
      "47 loss:  0.6001051068305969 prediction:  [[1 0 2 3 3 4]] true Y:  [[1, 0, 2, 3, 3, 4]] prediction str:  ihello\n",
      "48 loss:  0.6007522940635681 prediction:  [[1 0 2 3 3 4]] true Y:  [[1, 0, 2, 3, 3, 4]] prediction str:  ihello\n",
      "49 loss:  0.5914424061775208 prediction:  [[1 0 2 3 3 4]] true Y:  [[1, 0, 2, 3, 3, 4]] prediction str:  ihello\n",
      "50 loss:  0.589215874671936 prediction:  [[1 0 2 3 3 4]] true Y:  [[1, 0, 2, 3, 3, 4]] prediction str:  ihello\n",
      "51 loss:  0.5895272493362427 prediction:  [[1 0 2 3 3 4]] true Y:  [[1, 0, 2, 3, 3, 4]] prediction str:  ihello\n",
      "52 loss:  0.5885403156280518 prediction:  [[1 0 2 3 3 4]] true Y:  [[1, 0, 2, 3, 3, 4]] prediction str:  ihello\n",
      "53 loss:  0.5855941772460938 prediction:  [[1 0 2 3 3 4]] true Y:  [[1, 0, 2, 3, 3, 4]] prediction str:  ihello\n",
      "54 loss:  0.5815288424491882 prediction:  [[1 0 2 3 3 4]] true Y:  [[1, 0, 2, 3, 3, 4]] prediction str:  ihello\n",
      "55 loss:  0.5779708027839661 prediction:  [[1 0 2 3 3 4]] true Y:  [[1, 0, 2, 3, 3, 4]] prediction str:  ihello\n",
      "56 loss:  0.5761805176734924 prediction:  [[1 0 2 3 3 4]] true Y:  [[1, 0, 2, 3, 3, 4]] prediction str:  ihello\n",
      "57 loss:  0.574572741985321 prediction:  [[1 0 2 3 3 4]] true Y:  [[1, 0, 2, 3, 3, 4]] prediction str:  ihello\n",
      "58 loss:  0.571600615978241 prediction:  [[1 0 2 3 3 4]] true Y:  [[1, 0, 2, 3, 3, 4]] prediction str:  ihello\n",
      "59 loss:  0.5691673159599304 prediction:  [[1 0 2 3 3 4]] true Y:  [[1, 0, 2, 3, 3, 4]] prediction str:  ihello\n",
      "60 loss:  0.567761242389679 prediction:  [[1 0 2 3 3 4]] true Y:  [[1, 0, 2, 3, 3, 4]] prediction str:  ihello\n",
      "61 loss:  0.5667542219161987 prediction:  [[1 0 2 3 3 4]] true Y:  [[1, 0, 2, 3, 3, 4]] prediction str:  ihello\n",
      "62 loss:  0.5656620264053345 prediction:  [[1 0 2 3 3 4]] true Y:  [[1, 0, 2, 3, 3, 4]] prediction str:  ihello\n",
      "63 loss:  0.5643161535263062 prediction:  [[1 0 2 3 3 4]] true Y:  [[1, 0, 2, 3, 3, 4]] prediction str:  ihello\n",
      "64 loss:  0.562785804271698 prediction:  [[1 0 2 3 3 4]] true Y:  [[1, 0, 2, 3, 3, 4]] prediction str:  ihello\n",
      "65 loss:  0.5612940192222595 prediction:  [[1 0 2 3 3 4]] true Y:  [[1, 0, 2, 3, 3, 4]] prediction str:  ihello\n",
      "66 loss:  0.5600764751434326 prediction:  [[1 0 2 3 3 4]] true Y:  [[1, 0, 2, 3, 3, 4]] prediction str:  ihello\n",
      "67 loss:  0.5591418147087097 prediction:  [[1 0 2 3 3 4]] true Y:  [[1, 0, 2, 3, 3, 4]] prediction str:  ihello\n",
      "68 loss:  0.5581905841827393 prediction:  [[1 0 2 3 3 4]] true Y:  [[1, 0, 2, 3, 3, 4]] prediction str:  ihello\n",
      "69 loss:  0.5570464134216309 prediction:  [[1 0 2 3 3 4]] true Y:  [[1, 0, 2, 3, 3, 4]] prediction str:  ihello\n",
      "70 loss:  0.5559647679328918 prediction:  [[1 0 2 3 3 4]] true Y:  [[1, 0, 2, 3, 3, 4]] prediction str:  ihello\n",
      "71 loss:  0.5551813244819641 prediction:  [[1 0 2 3 3 4]] true Y:  [[1, 0, 2, 3, 3, 4]] prediction str:  ihello\n",
      "72 loss:  0.5546062588691711 prediction:  [[1 0 2 3 3 4]] true Y:  [[1, 0, 2, 3, 3, 4]] prediction str:  ihello\n",
      "73 loss:  0.5540302991867065 prediction:  [[1 0 2 3 3 4]] true Y:  [[1, 0, 2, 3, 3, 4]] prediction str:  ihello\n",
      "74 loss:  0.5533540844917297 prediction:  [[1 0 2 3 3 4]] true Y:  [[1, 0, 2, 3, 3, 4]] prediction str:  ihello\n",
      "75 loss:  0.5526387095451355 prediction:  [[1 0 2 3 3 4]] true Y:  [[1, 0, 2, 3, 3, 4]] prediction str:  ihello\n",
      "76 loss:  0.5520060062408447 prediction:  [[1 0 2 3 3 4]] true Y:  [[1, 0, 2, 3, 3, 4]] prediction str:  ihello\n",
      "77 loss:  0.5514729619026184 prediction:  [[1 0 2 3 3 4]] true Y:  [[1, 0, 2, 3, 3, 4]] prediction str:  ihello\n",
      "78 loss:  0.5509153008460999 prediction:  [[1 0 2 3 3 4]] true Y:  [[1, 0, 2, 3, 3, 4]] prediction str:  ihello\n",
      "79 loss:  0.5502790212631226 prediction:  [[1 0 2 3 3 4]] true Y:  [[1, 0, 2, 3, 3, 4]] prediction str:  ihello\n",
      "80 loss:  0.5496711134910583 prediction:  [[1 0 2 3 3 4]] true Y:  [[1, 0, 2, 3, 3, 4]] prediction str:  ihello\n",
      "81 loss:  0.5491625666618347 prediction:  [[1 0 2 3 3 4]] true Y:  [[1, 0, 2, 3, 3, 4]] prediction str:  ihello\n",
      "82 loss:  0.548701286315918 prediction:  [[1 0 2 3 3 4]] true Y:  [[1, 0, 2, 3, 3, 4]] prediction str:  ihello\n",
      "83 loss:  0.5482121109962463 prediction:  [[1 0 2 3 3 4]] true Y:  [[1, 0, 2, 3, 3, 4]] prediction str:  ihello\n",
      "84 loss:  0.5476837754249573 prediction:  [[1 0 2 3 3 4]] true Y:  [[1, 0, 2, 3, 3, 4]] prediction str:  ihello\n",
      "85 loss:  0.5471603870391846 prediction:  [[1 0 2 3 3 4]] true Y:  [[1, 0, 2, 3, 3, 4]] prediction str:  ihello\n",
      "86 loss:  0.5466694235801697 prediction:  [[1 0 2 3 3 4]] true Y:  [[1, 0, 2, 3, 3, 4]] prediction str:  ihello\n",
      "87 loss:  0.5461718440055847 prediction:  [[1 0 2 3 3 4]] true Y:  [[1, 0, 2, 3, 3, 4]] prediction str:  ihello\n",
      "88 loss:  0.5456170439720154 prediction:  [[1 0 2 3 3 4]] true Y:  [[1, 0, 2, 3, 3, 4]] prediction str:  ihello\n",
      "89 loss:  0.5450183749198914 prediction:  [[1 0 2 3 3 4]] true Y:  [[1, 0, 2, 3, 3, 4]] prediction str:  ihello\n",
      "90 loss:  0.5444112420082092 prediction:  [[1 0 2 3 3 4]] true Y:  [[1, 0, 2, 3, 3, 4]] prediction str:  ihello\n",
      "91 loss:  0.5437812209129333 prediction:  [[1 0 2 3 3 4]] true Y:  [[1, 0, 2, 3, 3, 4]] prediction str:  ihello\n",
      "92 loss:  0.543080747127533 prediction:  [[1 0 2 3 3 4]] true Y:  [[1, 0, 2, 3, 3, 4]] prediction str:  ihello\n",
      "93 loss:  0.5422800183296204 prediction:  [[1 0 2 3 3 4]] true Y:  [[1, 0, 2, 3, 3, 4]] prediction str:  ihello\n",
      "94 loss:  0.5413729548454285 prediction:  [[1 0 2 3 3 4]] true Y:  [[1, 0, 2, 3, 3, 4]] prediction str:  ihello\n",
      "95 loss:  0.5403344631195068 prediction:  [[1 0 2 3 3 4]] true Y:  [[1, 0, 2, 3, 3, 4]] prediction str:  ihello\n",
      "96 loss:  0.5390899181365967 prediction:  [[1 0 2 3 3 4]] true Y:  [[1, 0, 2, 3, 3, 4]] prediction str:  ihello\n",
      "97 loss:  0.5375404953956604 prediction:  [[1 0 2 3 3 4]] true Y:  [[1, 0, 2, 3, 3, 4]] prediction str:  ihello\n",
      "98 loss:  0.535585880279541 prediction:  [[1 0 2 3 3 4]] true Y:  [[1, 0, 2, 3, 3, 4]] prediction str:  ihello\n",
      "99 loss:  0.5330816507339478 prediction:  [[1 0 2 3 3 4]] true Y:  [[1, 0, 2, 3, 3, 4]] prediction str:  ihello\n"
     ]
    }
   ],
   "source": [
    "# start training\n",
    "for i in range(100):\n",
    "    optimizer.zero_grad()\n",
    "    outputs, _status = rnn(X)\n",
    "    loss = criterion(outputs.view(-1, input_size), Y.view(-1))\n",
    "    loss.backward()\n",
    "    optimizer.step()\n",
    "\n",
    "    result = outputs.data.numpy().argmax(axis=2)\n",
    "    result_str = ''.join([char_set[c] for c in np.squeeze(result)])\n",
    "    print(i, \"loss: \", loss.item(), \"prediction: \", result, \"true Y: \", y_data, \"prediction str: \", result_str)"
   ]
  },
  {
   "cell_type": "code",
   "execution_count": null,
   "id": "portuguese-marine",
   "metadata": {},
   "outputs": [],
   "source": []
  }
 ],
 "metadata": {
  "kernelspec": {
   "display_name": "Python My Env",
   "language": "python",
   "name": "python-my-env"
  },
  "language_info": {
   "codemirror_mode": {
    "name": "ipython",
    "version": 3
   },
   "file_extension": ".py",
   "mimetype": "text/x-python",
   "name": "python",
   "nbconvert_exporter": "python",
   "pygments_lexer": "ipython3",
   "version": "3.6.13"
  },
  "widgets": {
   "application/vnd.jupyter.widget-state+json": {
    "state": {},
    "version_major": 2,
    "version_minor": 0
   }
  }
 },
 "nbformat": 4,
 "nbformat_minor": 5
}
