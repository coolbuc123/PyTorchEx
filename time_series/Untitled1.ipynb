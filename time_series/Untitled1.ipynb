{
 "cells": [
  {
   "cell_type": "code",
   "execution_count": 16,
   "id": "vocational-mother",
   "metadata": {},
   "outputs": [],
   "source": [
    "import torch, sys"
   ]
  },
  {
   "cell_type": "code",
   "execution_count": 17,
   "id": "growing-algorithm",
   "metadata": {},
   "outputs": [
    {
     "data": {
      "text/plain": [
       "['',\n",
       " '/home/adminuser/.local/lib/python3.6/site-packages',\n",
       " '/opt/conda/envs/python/lib/python36.zip',\n",
       " '/opt/conda/envs/python/lib/python3.6',\n",
       " '/opt/conda/envs/python/lib/python3.6/lib-dynload',\n",
       " '/opt/conda/envs/python/lib/python3.6/site-packages',\n",
       " '/opt/conda/envs/python/lib/python3.6/site-packages/IPython/extensions',\n",
       " '/home/hubuc/.ipython',\n",
       " '/home/hubuc/.local/lib/python3.6/site-packages']"
      ]
     },
     "execution_count": 17,
     "metadata": {},
     "output_type": "execute_result"
    }
   ],
   "source": [
    "sys.path"
   ]
  },
  {
   "cell_type": "code",
   "execution_count": 15,
   "id": "missing-crown",
   "metadata": {},
   "outputs": [],
   "source": [
    "import site"
   ]
  },
  {
   "cell_type": "code",
   "execution_count": 6,
   "id": "eleven-reynolds",
   "metadata": {},
   "outputs": [
    {
     "data": {
      "text/plain": [
       "0"
      ]
     },
     "execution_count": 6,
     "metadata": {},
     "output_type": "execute_result"
    }
   ],
   "source": [
    "getattr(sys,'__egginsert',0)"
   ]
  },
  {
   "cell_type": "code",
   "execution_count": 3,
   "id": "patent-number",
   "metadata": {},
   "outputs": [
    {
     "name": "stderr",
     "output_type": "stream",
     "text": [
      "/home/hubuc/.local/lib/python3.6/site-packages/torch/cuda/__init__.py:52: UserWarning: CUDA initialization: The NVIDIA driver on your system is too old (found version 10010). Please update your GPU driver by downloading and installing a new version from the URL: http://www.nvidia.com/Download/index.aspx Alternatively, go to: https://pytorch.org to install a PyTorch version that has been compiled with your version of the CUDA driver. (Triggered internally at  /pytorch/c10/cuda/CUDAFunctions.cpp:115.)\n",
      "  return torch._C._cuda_getDeviceCount() > 0\n"
     ]
    },
    {
     "data": {
      "text/plain": [
       "False"
      ]
     },
     "execution_count": 3,
     "metadata": {},
     "output_type": "execute_result"
    }
   ],
   "source": [
    "torch.cuda.is_available()"
   ]
  },
  {
   "cell_type": "code",
   "execution_count": 3,
   "id": "broadband-black",
   "metadata": {},
   "outputs": [],
   "source": [
    "sys.path = ['',\n",
    " '/home/adminuser/.local/lib/python3.6/site-packages',\n",
    " '/opt/conda/envs/python/lib/python36.zip',\n",
    " '/opt/conda/envs/python/lib/python3.6',\n",
    " '/opt/conda/envs/python/lib/python3.6/lib-dynload',\n",
    " '/opt/conda/envs/python/lib/python3.6/site-packages',\n",
    " '/opt/conda/envs/python/lib/python3.6/site-packages/IPython/extensions',\n",
    " '/home/hubuc/.ipython',\n",
    " '/home/hubuc/.local/lib/python3.6/site-packages']"
   ]
  },
  {
   "cell_type": "code",
   "execution_count": 4,
   "id": "silent-advocate",
   "metadata": {},
   "outputs": [
    {
     "name": "stderr",
     "output_type": "stream",
     "text": [
      "/home/hubuc/.local/lib/python3.6/site-packages/torch/cuda/__init__.py:52: UserWarning: CUDA initialization: The NVIDIA driver on your system is too old (found version 10010). Please update your GPU driver by downloading and installing a new version from the URL: http://www.nvidia.com/Download/index.aspx Alternatively, go to: https://pytorch.org to install a PyTorch version that has been compiled with your version of the CUDA driver. (Triggered internally at  /pytorch/c10/cuda/CUDAFunctions.cpp:115.)\n",
      "  return torch._C._cuda_getDeviceCount() > 0\n"
     ]
    },
    {
     "data": {
      "text/plain": [
       "False"
      ]
     },
     "execution_count": 4,
     "metadata": {},
     "output_type": "execute_result"
    }
   ],
   "source": [
    "torch.cuda.is_available()"
   ]
  },
  {
   "cell_type": "code",
   "execution_count": null,
   "id": "adapted-destruction",
   "metadata": {},
   "outputs": [],
   "source": [
    "torch.cuda.is_available()"
   ]
  },
  {
   "cell_type": "code",
   "execution_count": 1,
   "id": "variable-license",
   "metadata": {},
   "outputs": [],
   "source": [
    "import sys"
   ]
  },
  {
   "cell_type": "code",
   "execution_count": 4,
   "id": "assured-coupon",
   "metadata": {},
   "outputs": [
    {
     "data": {
      "text/plain": [
       "['',\n",
       " '/home/adminuser/.local/lib/python3.6/site-packages',\n",
       " '/opt/conda/envs/python/lib/python36.zip',\n",
       " '/opt/conda/envs/python/lib/python3.6',\n",
       " '/opt/conda/envs/python/lib/python3.6/lib-dynload',\n",
       " '/opt/conda/envs/python/lib/python3.6/site-packages',\n",
       " '/opt/conda/envs/python/lib/python3.6/site-packages/IPython/extensions',\n",
       " '/home/hubuc/.ipython',\n",
       " '/home/hubuc/.local/lib/python3.6/site-packages']"
      ]
     },
     "execution_count": 4,
     "metadata": {},
     "output_type": "execute_result"
    }
   ],
   "source": [
    "sys.path"
   ]
  },
  {
   "cell_type": "code",
   "execution_count": 5,
   "id": "ordered-reply",
   "metadata": {},
   "outputs": [],
   "source": [
    "import torch"
   ]
  },
  {
   "cell_type": "code",
   "execution_count": 6,
   "id": "bright-missile",
   "metadata": {},
   "outputs": [
    {
     "data": {
      "text/plain": [
       "'/opt/conda/envs/python/lib/python3.6/site-packages/torch/__init__.py'"
      ]
     },
     "execution_count": 6,
     "metadata": {},
     "output_type": "execute_result"
    }
   ],
   "source": [
    "torch.__file__"
   ]
  },
  {
   "cell_type": "code",
   "execution_count": null,
   "id": "basic-indicator",
   "metadata": {},
   "outputs": [],
   "source": []
  }
 ],
 "metadata": {
  "kernelspec": {
   "display_name": "Python My Env",
   "language": "python",
   "name": "python-my-env"
  },
  "language_info": {
   "codemirror_mode": {
    "name": "ipython",
    "version": 3
   },
   "file_extension": ".py",
   "mimetype": "text/x-python",
   "name": "python",
   "nbconvert_exporter": "python",
   "pygments_lexer": "ipython3",
   "version": "3.6.13"
  },
  "widgets": {
   "application/vnd.jupyter.widget-state+json": {
    "state": {},
    "version_major": 2,
    "version_minor": 0
   }
  }
 },
 "nbformat": 4,
 "nbformat_minor": 5
}
