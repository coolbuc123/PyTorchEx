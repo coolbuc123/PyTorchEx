{
 "cells": [
  {
   "cell_type": "markdown",
   "id": "silver-exclusive",
   "metadata": {},
   "source": [
    "#### /opt/conda/envs/python/lib/python3.6/site-packages"
   ]
  },
  {
   "cell_type": "code",
   "execution_count": 1,
   "id": "integrated-title",
   "metadata": {},
   "outputs": [
    {
     "data": {
      "text/plain": [
       "['',\n",
       " '/home/adminuser/.local/lib/python3.6/site-packages',\n",
       " '/opt/conda/envs/python/lib/python36.zip',\n",
       " '/opt/conda/envs/python/lib/python3.6',\n",
       " '/opt/conda/envs/python/lib/python3.6/lib-dynload',\n",
       " '/home/hubuc/.local/lib/python3.6/site-packages',\n",
       " '/opt/conda/envs/python/lib/python3.6/site-packages',\n",
       " '/opt/conda/envs/python/lib/python3.6/site-packages/IPython/extensions',\n",
       " '/home/hubuc/.ipython']"
      ]
     },
     "execution_count": 1,
     "metadata": {},
     "output_type": "execute_result"
    }
   ],
   "source": [
    "import sys\n",
    "sys.path"
   ]
  },
  {
   "cell_type": "code",
   "execution_count": 2,
   "id": "juvenile-bulgaria",
   "metadata": {},
   "outputs": [],
   "source": [
    "sys.path = ['',\n",
    "  '/opt/conda/envs/python/lib/python3.6/site-packages',\n",
    " '/home/adminuser/.local/lib/python3.6/site-packages',\n",
    " '/opt/conda/envs/python/lib/python36.zip',\n",
    " '/opt/conda/envs/python/lib/python3.6',\n",
    " '/opt/conda/envs/python/lib/python3.6/lib-dynload',\n",
    " '/home/hubuc/.local/lib/python3.6/site-packages',\n",
    " '/opt/conda/envs/python/lib/python3.6/site-packages/IPython/extensions',\n",
    " '/home/hubuc/.ipython']"
   ]
  },
  {
   "cell_type": "code",
   "execution_count": 3,
   "id": "fancy-advisory",
   "metadata": {},
   "outputs": [
    {
     "name": "stdout",
     "output_type": "stream",
     "text": [
      "/opt/conda/envs/python/lib/python3.6/site-packages/torch/__init__.py\n"
     ]
    },
    {
     "data": {
      "text/plain": [
       "True"
      ]
     },
     "execution_count": 3,
     "metadata": {},
     "output_type": "execute_result"
    }
   ],
   "source": [
    "import torch\n",
    "print(torch.__file__)\n",
    "torch.cuda.is_available()"
   ]
  },
  {
   "cell_type": "code",
   "execution_count": 6,
   "id": "typical-pasta",
   "metadata": {},
   "outputs": [],
   "source": [
    "sys.path.remove( '/home/adminuser/.local/lib/python3.6/site-packages')"
   ]
  },
  {
   "cell_type": "code",
   "execution_count": 10,
   "id": "rational-stress",
   "metadata": {},
   "outputs": [],
   "source": [
    "sys.path.remove('/home/hubuc/.local/lib/python3.6/site-packages',)"
   ]
  },
  {
   "cell_type": "code",
   "execution_count": 5,
   "id": "internal-cinema",
   "metadata": {},
   "outputs": [
    {
     "data": {
      "text/plain": [
       "True"
      ]
     },
     "execution_count": 5,
     "metadata": {},
     "output_type": "execute_result"
    }
   ],
   "source": []
  },
  {
   "cell_type": "markdown",
   "id": "interesting-import",
   "metadata": {},
   "source": [
    "##### \n",
    "- /opt/jupyterhub/bin/jupyter kernelspec list\n",
    "\n",
    "- Available kernels:\n",
    "  *  python : /opt/jupyterhub/share/jupyter/kernels/python\n",
    "  *  python3 : /opt/jupyterhub/lib/python3.6/site-packages/ipykernel/resources\n",
    "  *  python-my-env : /usr/local/share/jupyter/kernels/python-my-env\n",
    "  \n",
    "  * '/opt/conda/envs/python/lib/python3.6/site-packages/torch/__init__.py'\n"
   ]
  },
  {
   "cell_type": "code",
   "execution_count": 7,
   "id": "fantastic-being",
   "metadata": {},
   "outputs": [],
   "source": [
    "import sys; "
   ]
  },
  {
   "cell_type": "code",
   "execution_count": 16,
   "id": "charged-playback",
   "metadata": {},
   "outputs": [
    {
     "data": {
      "text/plain": [
       "9"
      ]
     },
     "execution_count": 16,
     "metadata": {},
     "output_type": "execute_result"
    }
   ],
   "source": [
    "sys.__plen = len(sys.path)\n",
    "sys.__plen"
   ]
  },
  {
   "cell_type": "code",
   "execution_count": 15,
   "id": "documentary-vatican",
   "metadata": {},
   "outputs": [],
   "source": [
    "sys.path[9:]; "
   ]
  },
  {
   "cell_type": "code",
   "execution_count": 14,
   "id": "occasional-titanium",
   "metadata": {},
   "outputs": [],
   "source": [
    "getattr(sys,'__egginsert',0); "
   ]
  },
  {
   "cell_type": "code",
   "execution_count": null,
   "id": "architectural-break",
   "metadata": {},
   "outputs": [],
   "source": [
    "new=sys.path[sys.__plen:]; \n",
    "del sys.path[sys.__plen:]; \n",
    "p=getattr(sys,'__egginsert',0); \n",
    "sys.path[p:p]=new; \n",
    "sys.__egginsert = p+len(new)"
   ]
  },
  {
   "cell_type": "code",
   "execution_count": 17,
   "id": "peaceful-shore",
   "metadata": {},
   "outputs": [
    {
     "ename": "ModuleNotFoundError",
     "evalue": "No module named 'mod2'",
     "output_type": "error",
     "traceback": [
      "\u001b[0;31m---------------------------------------------------------------------------\u001b[0m",
      "\u001b[0;31mModuleNotFoundError\u001b[0m                       Traceback (most recent call last)",
      "\u001b[0;32m<ipython-input-17-63e063c30b72>\u001b[0m in \u001b[0;36m<module>\u001b[0;34m\u001b[0m\n\u001b[0;32m----> 1\u001b[0;31m \u001b[0;32mimport\u001b[0m \u001b[0mmod2\u001b[0m\u001b[0;34m\u001b[0m\u001b[0;34m\u001b[0m\u001b[0m\n\u001b[0m",
      "\u001b[0;31mModuleNotFoundError\u001b[0m: No module named 'mod2'"
     ]
    }
   ],
   "source": [
    "import mod2"
   ]
  },
  {
   "cell_type": "code",
   "execution_count": null,
   "id": "separated-uzbekistan",
   "metadata": {},
   "outputs": [],
   "source": []
  }
 ],
 "metadata": {
  "kernelspec": {
   "display_name": "Python My Env",
   "language": "python",
   "name": "python-my-env"
  },
  "language_info": {
   "codemirror_mode": {
    "name": "ipython",
    "version": 3
   },
   "file_extension": ".py",
   "mimetype": "text/x-python",
   "name": "python",
   "nbconvert_exporter": "python",
   "pygments_lexer": "ipython3",
   "version": "3.6.13"
  },
  "widgets": {
   "application/vnd.jupyter.widget-state+json": {
    "state": {},
    "version_major": 2,
    "version_minor": 0
   }
  }
 },
 "nbformat": 4,
 "nbformat_minor": 5
}
