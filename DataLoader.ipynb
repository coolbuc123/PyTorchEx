{
 "cells": [
  {
   "cell_type": "markdown",
   "id": "reported-cricket",
   "metadata": {},
   "source": [
    "### DataLoader"
   ]
  },
  {
   "cell_type": "code",
   "execution_count": 1,
   "id": "stuck-criticism",
   "metadata": {},
   "outputs": [
    {
     "name": "stdout",
     "output_type": "stream",
     "text": [
      "torch.Size([5, 3])\n"
     ]
    },
    {
     "data": {
      "text/plain": [
       "tensor([[ 73.,  80.,  75.],\n",
       "        [ 93.,  88.,  93.],\n",
       "        [ 89.,  91.,  90.],\n",
       "        [ 96.,  98., 100.],\n",
       "        [ 73.,  66.,  70.]])"
      ]
     },
     "execution_count": 1,
     "metadata": {},
     "output_type": "execute_result"
    }
   ],
   "source": [
    "import torch\n",
    "import torch.nn as nn\n",
    "import torch.nn.functional as F\n",
    "import torch.optim as optim\n",
    "\n",
    "x_train = torch.FloatTensor(\n",
    "                            [[73,80,75],\n",
    "                             [93,88,93],\n",
    "                             [89,91,90],\n",
    "                             [96,98,100],\n",
    "                             [73,66,70]] )\n",
    "y_train = torch.FloatTensor([[152],[185],[180],[196],[142]])\n",
    "\n",
    "print(x_train.shape)\n",
    "x_train"
   ]
  },
  {
   "cell_type": "code",
   "execution_count": 2,
   "id": "figured-dating",
   "metadata": {},
   "outputs": [],
   "source": [
    "from torch.utils.data import Dataset"
   ]
  },
  {
   "cell_type": "code",
   "execution_count": 5,
   "id": "declared-variety",
   "metadata": {},
   "outputs": [],
   "source": [
    "class CustomDataset(Dataset):\n",
    "    def __init__(self):\n",
    "        self.x_data =  [[73,80,75],\n",
    "                             [93,88,93],\n",
    "                             [89,91,90],\n",
    "                             [96,98,100],\n",
    "                             [73,66,70]]\n",
    "        self.y_data = [[152],[185],[180],[196],[142]]\n",
    "        \n",
    "    def __len__(self):\n",
    "        return len(self.x_data)\n",
    "    \n",
    "    def __getitem__(self, idx):\n",
    "        x = torch.FloatTensor(self.x_data[idx])\n",
    "        y = torch.FloatTensor(self.y_data[idx])\n",
    "        \n",
    "        return x, y"
   ]
  },
  {
   "cell_type": "code",
   "execution_count": 10,
   "id": "forward-injury",
   "metadata": {},
   "outputs": [
    {
     "data": {
      "text/plain": [
       "5"
      ]
     },
     "execution_count": 10,
     "metadata": {},
     "output_type": "execute_result"
    }
   ],
   "source": [
    "ds = CustomDataset()\n",
    "ds.__len__()"
   ]
  },
  {
   "cell_type": "code",
   "execution_count": 11,
   "id": "double-california",
   "metadata": {},
   "outputs": [
    {
     "data": {
      "text/plain": [
       "(tensor([73., 80., 75.]), tensor([152.]))"
      ]
     },
     "execution_count": 11,
     "metadata": {},
     "output_type": "execute_result"
    }
   ],
   "source": [
    "ds.__getitem__(0)"
   ]
  },
  {
   "cell_type": "code",
   "execution_count": 13,
   "id": "automatic-modification",
   "metadata": {},
   "outputs": [],
   "source": [
    "from torch.utils.data import DataLoader\n",
    "\n",
    "dataloader = DataLoader(\n",
    "    ds,\n",
    "    batch_size=2,\n",
    "    shuffle=True,\n",
    ")"
   ]
  },
  {
   "cell_type": "code",
   "execution_count": 16,
   "id": "italian-velvet",
   "metadata": {},
   "outputs": [],
   "source": [
    "class MultivariateLinearRegressionModel(nn.Module):\n",
    "    def __init__(self):\n",
    "        super().__init__()       # 부모클래스( nn.Module) 의 __init__ 함수 호출\n",
    "        self.linear = nn.Linear(3,1)  # Linear 모델( input 1, output 1 ) 을 생성합니다\n",
    "        \n",
    "    def forward(self, x):\n",
    "        return self.linear(x)"
   ]
  },
  {
   "cell_type": "code",
   "execution_count": 17,
   "id": "focused-drunk",
   "metadata": {},
   "outputs": [],
   "source": [
    "model = MultivariateLinearRegressionModel()\n",
    "optimizer = optim.SGD(model.parameters(), lr=1e-5)"
   ]
  },
  {
   "cell_type": "code",
   "execution_count": 20,
   "id": "grand-potter",
   "metadata": {
    "scrolled": true,
    "tags": []
   },
   "outputs": [
    {
     "name": "stdout",
     "output_type": "stream",
     "text": [
      "Epoch    0/20 Batch: 1/3 Cost: 0.446161\n",
      "Epoch    0/20 Batch: 2/3 Cost: 1.289320\n",
      "Epoch    0/20 Batch: 3/3 Cost: 2.078620\n",
      "Epoch    1/20 Batch: 1/3 Cost: 0.967111\n",
      "Epoch    1/20 Batch: 2/3 Cost: 1.418475\n",
      "Epoch    1/20 Batch: 3/3 Cost: 1.566202\n",
      "Epoch    2/20 Batch: 1/3 Cost: 1.149969\n",
      "Epoch    2/20 Batch: 2/3 Cost: 1.783014\n",
      "Epoch    2/20 Batch: 3/3 Cost: 0.000799\n",
      "Epoch    3/20 Batch: 1/3 Cost: 0.917995\n",
      "Epoch    3/20 Batch: 2/3 Cost: 2.850226\n",
      "Epoch    3/20 Batch: 3/3 Cost: 0.105613\n",
      "Epoch    4/20 Batch: 1/3 Cost: 1.573643\n",
      "Epoch    4/20 Batch: 2/3 Cost: 0.527970\n",
      "Epoch    4/20 Batch: 3/3 Cost: 1.369396\n",
      "Epoch    5/20 Batch: 1/3 Cost: 1.586939\n",
      "Epoch    5/20 Batch: 2/3 Cost: 1.002554\n",
      "Epoch    5/20 Batch: 3/3 Cost: 0.056415\n",
      "Epoch    6/20 Batch: 1/3 Cost: 1.447605\n",
      "Epoch    6/20 Batch: 2/3 Cost: 2.373210\n",
      "Epoch    6/20 Batch: 3/3 Cost: 0.006303\n",
      "Epoch    7/20 Batch: 1/3 Cost: 1.153481\n",
      "Epoch    7/20 Batch: 2/3 Cost: 1.481643\n",
      "Epoch    7/20 Batch: 3/3 Cost: 0.023000\n",
      "Epoch    8/20 Batch: 1/3 Cost: 0.974606\n",
      "Epoch    8/20 Batch: 2/3 Cost: 0.952862\n",
      "Epoch    8/20 Batch: 3/3 Cost: 2.081921\n",
      "Epoch    9/20 Batch: 1/3 Cost: 1.077636\n",
      "Epoch    9/20 Batch: 2/3 Cost: 0.398132\n",
      "Epoch    9/20 Batch: 3/3 Cost: 3.221416\n",
      "Epoch   10/20 Batch: 1/3 Cost: 1.675574\n",
      "Epoch   10/20 Batch: 2/3 Cost: 1.023266\n",
      "Epoch   10/20 Batch: 3/3 Cost: 0.095353\n",
      "Epoch   11/20 Batch: 1/3 Cost: 0.884364\n",
      "Epoch   11/20 Batch: 2/3 Cost: 1.374627\n",
      "Epoch   11/20 Batch: 3/3 Cost: 1.072117\n",
      "Epoch   12/20 Batch: 1/3 Cost: 1.145893\n",
      "Epoch   12/20 Batch: 2/3 Cost: 1.584814\n",
      "Epoch   12/20 Batch: 3/3 Cost: 0.005912\n",
      "Epoch   13/20 Batch: 1/3 Cost: 1.569551\n",
      "Epoch   13/20 Batch: 2/3 Cost: 2.248734\n",
      "Epoch   13/20 Batch: 3/3 Cost: 0.010741\n",
      "Epoch   14/20 Batch: 1/3 Cost: 1.444310\n",
      "Epoch   14/20 Batch: 2/3 Cost: 0.484732\n",
      "Epoch   14/20 Batch: 3/3 Cost: 1.813217\n",
      "Epoch   15/20 Batch: 1/3 Cost: 0.232689\n",
      "Epoch   15/20 Batch: 2/3 Cost: 2.602593\n",
      "Epoch   15/20 Batch: 3/3 Cost: 1.930190\n",
      "Epoch   16/20 Batch: 1/3 Cost: 1.167984\n",
      "Epoch   16/20 Batch: 2/3 Cost: 1.490023\n",
      "Epoch   16/20 Batch: 3/3 Cost: 1.123465\n",
      "Epoch   17/20 Batch: 1/3 Cost: 1.712637\n",
      "Epoch   17/20 Batch: 2/3 Cost: 0.960686\n",
      "Epoch   17/20 Batch: 3/3 Cost: 0.000840\n",
      "Epoch   18/20 Batch: 1/3 Cost: 0.580742\n",
      "Epoch   18/20 Batch: 2/3 Cost: 1.336438\n",
      "Epoch   18/20 Batch: 3/3 Cost: 3.070409\n",
      "Epoch   19/20 Batch: 1/3 Cost: 1.507313\n",
      "Epoch   19/20 Batch: 2/3 Cost: 0.705394\n",
      "Epoch   19/20 Batch: 3/3 Cost: 1.611012\n",
      "Epoch   20/20 Batch: 1/3 Cost: 1.697938\n",
      "Epoch   20/20 Batch: 2/3 Cost: 1.030424\n",
      "Epoch   20/20 Batch: 3/3 Cost: 1.360197\n"
     ]
    }
   ],
   "source": [
    "nb_epochs = 20\n",
    "\n",
    "for epoch in range(nb_epochs +1):\n",
    "    \n",
    "    # Batch Size 단위로 돈다\n",
    "    for batch_idx, samples in enumerate(dataloader):\n",
    "        \n",
    "        x_train, y_train = samples\n",
    "        \n",
    "        pred = model(x_train)\n",
    "        cost = F.mse_loss(pred, y_train)\n",
    "        print('Epoch {:4d}/{} Batch: {}/{} Cost: {:.6f}'.format(epoch, nb_epochs, batch_idx+1, len(dataloader) , cost.item()) )\n",
    "\n",
    "        optimizer.zero_grad()\n",
    "        cost.backward()\n",
    "        optimizer.step()"
   ]
  }
 ],
 "metadata": {
  "kernelspec": {
   "display_name": "Python My Env",
   "language": "python",
   "name": "python-my-env"
  },
  "language_info": {
   "codemirror_mode": {
    "name": "ipython",
    "version": 3
   },
   "file_extension": ".py",
   "mimetype": "text/x-python",
   "name": "python",
   "nbconvert_exporter": "python",
   "pygments_lexer": "ipython3",
   "version": "3.6.13"
  },
  "widgets": {
   "application/vnd.jupyter.widget-state+json": {
    "state": {},
    "version_major": 2,
    "version_minor": 0
   }
  }
 },
 "nbformat": 4,
 "nbformat_minor": 5
}
